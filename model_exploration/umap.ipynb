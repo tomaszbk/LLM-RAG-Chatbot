{
 "cells": [
  {
   "cell_type": "code",
   "execution_count": 1,
   "metadata": {},
   "outputs": [
    {
     "name": "stderr",
     "output_type": "stream",
     "text": [
      "Add of existing embedding ID: 1\n"
     ]
    }
   ],
   "source": [
    "import umap\n",
    "import numpy as np\n",
    "from tqdm import tqdm\n",
    "import matplotlib.pyplot as plt\n",
    "import chromadb\n",
    "from chromadb.config import Settings\n",
    "# pip install umap-learn\n",
    "\n",
    "\n",
    "db = chromadb.PersistentClient(path=\"../tests\", settings=Settings(anonymized_telemetry=False))\n",
    "\n",
    "collection = db.get_collection(name=\"test_collection\")\n",
    "\n",
    "embeddings = collection.get(include=['embeddings', 'documents'])"
   ]
  },
  {
   "cell_type": "code",
   "execution_count": 2,
   "metadata": {},
   "outputs": [
    {
     "data": {
      "text/plain": [
       "'or not the characters are balanced,\" expressing that \"some characters are naturally better, but no character is so overpowered that their mere presence spells doom for their opponents.\"[77] In June 2016, Vulture\\'s Joshua Rivera listed Overwatch as one of the \"best video games of 2016 (so far),\" writing, \"It\\'s hard to separate Overwatch the game from Overwatch the phenomenonâ€”and why bother, both are fascinating.\"[78]'"
      ]
     },
     "execution_count": 2,
     "metadata": {},
     "output_type": "execute_result"
    }
   ],
   "source": [
    "embeddings['documents'][100]"
   ]
  },
  {
   "cell_type": "code",
   "execution_count": 3,
   "metadata": {},
   "outputs": [
    {
     "data": {
      "text/plain": [
       "(142, 384)"
      ]
     },
     "execution_count": 3,
     "metadata": {},
     "output_type": "execute_result"
    }
   ],
   "source": [
    "np_embeddings = np.array(embeddings['embeddings'])\n",
    "np_embeddings.shape"
   ]
  },
  {
   "cell_type": "code",
   "execution_count": 4,
   "metadata": {},
   "outputs": [
    {
     "name": "stderr",
     "output_type": "stream",
     "text": [
      "100%|██████████| 142/142 [03:48<00:00,  1.61s/it]\n"
     ]
    },
    {
     "data": {
      "text/plain": [
       "(0.9180423319339752, 13.23548075556755, 4.3716134309768675, 11.430249762535095)"
      ]
     },
     "execution_count": 4,
     "metadata": {},
     "output_type": "execute_result"
    },
    {
     "data": {
      "image/png": "[encoded data removed]",
      "text/plain": [
       "<Figure size 640x480 with 1 Axes>"
      ]
     },
     "metadata": {},
     "output_type": "display_data"
    }
   ],
   "source": [
    "umap_transform = umap.UMAP().fit(np_embeddings)\n",
    "\n",
    "def project_embeddings(embeddings, umap_transform):\n",
    "    umap_embeddings = np.empty((len(embeddings),2))\n",
    "    for i, embedding in enumerate(tqdm(embeddings)):\n",
    "        umap_embeddings[i] = umap_transform.transform([embedding])\n",
    "    return umap_embeddings\n",
    "\n",
    "projected_dataset_embeddings = project_embeddings(embeddings['embeddings'], umap_transform)"
   ]
  },
  {
   "cell_type": "code",
   "execution_count": 5,
   "metadata": {},
   "outputs": [
    {
     "name": "stderr",
     "output_type": "stream",
     "text": [
      "c:\\Users\\tzbk\\AppData\\Local\\Programs\\Python\\Python311\\Lib\\site-packages\\torch\\_utils.py:831: UserWarning: TypedStorage is deprecated. It will be removed in the future and UntypedStorage will be the only storage class. This should only matter to you if you are using storages directly.  To access UntypedStorage directly, use tensor.untyped_storage() instead of tensor.storage()\n",
      "  return self.fget.__get__(instance, owner)()\n"
     ]
    }
   ],
   "source": [
    "import torch\n",
    "import torch.nn.functional as F\n",
    "from transformers import AutoModel, AutoTokenizer\n",
    "\n",
    "tokenizer = AutoTokenizer.from_pretrained(\"sentence-transformers/all-MiniLM-L6-v2\")\n",
    "model = AutoModel.from_pretrained(\"sentence-transformers/all-MiniLM-L6-v2\")\n",
    "\n",
    "\n",
    "# Mean Pooling - Take attention mask into account for correct averaging\n",
    "def mean_pooling(model_output, attention_mask):\n",
    "    token_embeddings = model_output[0]  # First element of model_output contains token embeddings\n",
    "    input_mask_expanded = attention_mask.unsqueeze(-1).expand(token_embeddings.size()).float()\n",
    "    return torch.sum(token_embeddings * input_mask_expanded, 1) / torch.clamp(\n",
    "        input_mask_expanded.sum(1), min=1e-9\n",
    "    )\n",
    "\n",
    "\n",
    "def get_sentence_embedding(sentence: str):\n",
    "    encoded_input = tokenizer(sentence, padding=True, truncation=True, return_tensors=\"pt\")\n",
    "\n",
    "    with torch.no_grad():\n",
    "        model_output = model(**encoded_input)\n",
    "\n",
    "    sentence_embeddings = mean_pooling(model_output, encoded_input[\"attention_mask\"])\n",
    "    sentence_embeddings = sentence_embeddings.flatten()\n",
    "    return F.normalize(sentence_embeddings, p=2, dim=0)"
   ]
  },
  {
   "cell_type": "code",
   "execution_count": 9,
   "metadata": {},
   "outputs": [
    {
     "name": "stderr",
     "output_type": "stream",
     "text": [
      "100%|██████████| 1/1 [00:01<00:00,  1.87s/it]\n",
      "100%|██████████| 3/3 [00:04<00:00,  1.49s/it]\n"
     ]
    }
   ],
   "source": [
    "query = \"What is overwatch 2?\"\n",
    "\n",
    "results = collection.query(query_texts=query, n_results=3, include=['documents', 'embeddings'])\n",
    "\n",
    "query_embedding = get_sentence_embedding([query])\n",
    "retrieved_embeddings = results['embeddings'][0]\n",
    "\n",
    "projected_query_embedding = project_embeddings([query_embedding], umap_transform)\n",
    "projected_retrieved_embeddings = project_embeddings(retrieved_embeddings, umap_transform)"
   ]
  },
  {
   "cell_type": "code",
   "execution_count": 10,
   "metadata": {},
   "outputs": [],
   "source": [
    "db_documents = []\n",
    "for x in embeddings['documents']:\n",
    "    result = ''\n",
    "    for i in range(0, len(x), 70):\n",
    "        result += x[i:i+70] + '<br>'\n",
    "    db_documents.append(result)"
   ]
  },
  {
   "cell_type": "code",
   "execution_count": 17,
   "metadata": {},
   "outputs": [
    {
     "data": {
      "application/vnd.plotly.v1+json": {
       "config": {
        "plotlyServerURL": "https://plot.ly"
       },
       "data": [
        {
         "hoverinfo": "text",
         "hoverlabel": {
          "font": {
           "color": "white"
          }
         },
         "hovertext": [
          "Overwatch (retroactively referred to as Overwatch 1[b]) was a 2016 tea<br>m-based multiplayer first-person shooter game by Blizzard Entertainmen<br>t. The game was first released for PlayStation 4, Windows, and Xbox On<br>e in May 2016 and Nintendo Switch in October 2019. Cross-platform play<br> was supported across all platforms.<br>",
          "Described as a \"hero shooter\", Overwatch assigned players into two tea<br>ms of six, with each player selecting from a large roster of character<br>s, known as \"heroes\", with unique abilities. Teams worked to complete <br>map-specific objectives within a limited period of time. Blizzard adde<br>d new characters, maps, and game modes post-release, all free of charg<br>e, with the only additional cost to players being optional loot boxes <br>to purchase cosmetic items.<br>",
          "design was to encourage dynamic team compositions that adapt to the si<br>tuation. The game's genre has been described by some journalists as a <br>\"hero shooter\", due to its design around specific heroes and classes.[<br>5][6]<br>",
          "Giant Bomb gave it the awards for \"Best Debut\" and \"Best Multiplayer\",<br>[133][134] and put it in third place for \"Game of the Year\".[135] Poly<br>gon and Slant Magazine also put the game in third place for \"Game of t<br>he Year\",[136][137] while PC Gamer gave it the award for \"Best Multipl<br>ayer\".[138] Besides \"Game of the Year\", The Escapist gave it the award<br>s for \"Best Shooter and Multiplayer\".[139] Game Informer gave it the a<br>wards for \"Best Competitive Multiplayer\" and \"Best Shooter\".[140][141]<br> At IGN's<br>",
          "\"Game of the Year\", The Escapist gave it the awards for \"Best Shooter <br>and Multiplayer\".[139] Game Informer gave it the awards for \"Best Comp<br>etitive Multiplayer\" and \"Best Shooter\".[140][141] At IGN's Best of 20<br>16 Awards, the game won the awards for \"Best Shooter\", \"Best eSports G<br>ame\", \"Best Multiplayer\", and \"PC Game of the Year\".[121] In IGN's Bes<br>t of 2017 Awards, the game won the People's Choice Award for \"Best Spe<br>ctator Game\",[142] while Game Informer gave it the award for \"Best Sho<br>oter as<br>",
          "and \"PC Game of the Year\".[121] In IGN's Best of 2017 Awards, the game<br> won the People's Choice Award for \"Best Spectator Game\",[142] while G<br>ame Informer gave it the award for \"Best Shooter as Service\" in their <br>2017 Shooter of the Year Awards.[143]<br>",
          "In the years since its release, Overwatch has continued to be nominate<br>d and awarded for its strength as an esports game, as well as the ongo<br>ing content added to the title. Year \tAward \tCategory \tResult \t Ref. 2<br>016 \tGolden Joystick Awards \tBest Original Game \tWon \t[144][145] Best <br>Visual Design \tNominated Best Audio \tNominated Best Multiplayer Game \t<br>Won Best Gaming Moment (Play of the Game) \tWon Game of the Year \tNomin<br>ated PC Game of the Year \tWon Competitive Game of the Year \tWon<br>",
          "Best Audio \tNominated Best Multiplayer Game \tWon Best Gaming Moment (P<br>lay of the Game) \tWon Game of the Year \tNominated PC Game of the Year <br>\tWon Competitive Game of the Year \tWon The Game Awards 2016 \tGame of t<br>he Year \tWon \t[146][147] Best Game Direction \tWon Best Art Direction \t<br>Nominated Best Action Game \tNominated Best Multiplayer \tWon ESports Ga<br>me of the Year \tWon Hollywood Music in Media Awards \tBest Original Sco<br>re â€“ Video Game \tWon \t[148]<br>",
          "Best Art Direction \tNominated Best Action Game \tNominated Best Multipl<br>ayer \tWon ESports Game of the Year \tWon Hollywood Music in Media Award<br>s \tBest Original Score â€“ Video Game \tWon \t[148] 2017 \t20th Annual D.<br>I.C.E. Awards \tGame of the Year \tWon \t[149] Action Game of the Year \tW<br>on Outstanding Achievement in Animation \tNominated Outstanding Achieve<br>ment in Game Design \tWon Outstanding Achievement in Online Gameplay \tW<br>on Outstanding Technical Achievement \tNominated<br>",
          "Outstanding Achievement in Animation \tNominated Outstanding Achievemen<br>t in Game Design \tWon Outstanding Achievement in Online Gameplay \tWon <br>Outstanding Technical Achievement \tNominated 2017 SXSW Gaming Awards \t<br>Video Game of the Year \tNominated \t[150][151] ESports Game of the Year<br> \tWon Trending Game of the Year \tWon Excellence in Design \tNominated M<br>ost Promising New Intellectual Property \tWon Most Memorable Character <br>(Tracer) \tNominated Excellence in Multiplayer \tWon Excellence in Art \t<br>Nominated<br>",
          "Excellence in Design \tNominated Most Promising New Intellectual Proper<br>ty \tWon Most Memorable Character (Tracer) \tNominated Excellence in Mul<br>tiplayer \tWon Excellence in Art \tNominated Excellence in Animation \tNo<br>minated Game Developers Choice Awards \tGame of the Year \tWon \t[152][15<br>3] Best Audio \tNominated Best Design \tWon Best Technology \tNominated B<br>est Visual Art \tNominated 13th British Academy Games Awards \tBest Game<br> \tNominated \t[154][155] Game Design \tNominated Multiplayer \tWon<br>",
          "Best Design \tWon Best Technology \tNominated Best Visual Art \tNominated<br> 13th British Academy Games Awards \tBest Game \tNominated \t[154][155] G<br>ame Design \tNominated Multiplayer \tWon Original Property \tNominated AM<br>D Esports Audience Award \tNominated ASCAP Composers' Choice Awards \t20<br>16 Video Game Score of the Year \tNominated \t[156] 2017 Teen Choice Awa<br>rds \tChoice Video Game \tWon \t[157] Golden Joystick Awards \teSports Gam<br>e of the Year \tWon \t[158][159] Still Playing \tNominated<br>",
          "2017 Teen Choice Awards \tChoice Video Game \tWon \t[157] Golden Joystick<br> Awards \teSports Game of the Year \tWon \t[158][159] Still Playing \tNomi<br>nated The Game Awards 2017 \tBest Ongoing Game \tWon \t[160] Best eSports<br> Game \tWon 2018 \t14th British Academy Games Awards \tEvolving Game \tWon<br> \t[161] 2018 Webby Awards \tBest Game Design \tWon \t[162] Best Multiplay<br>er/Competitive Game \tWon 2018 Teen Choice Awards \tChoice Video Game \tN<br>ominated \t[163][164]<br>",
          "The game featured game modes for casual play, competitive ranked play,<br> and for supporting esports competitions including Blizzard's Overwatc<br>h League. These modes were generally centered around sequentially secu<br>ring control of points on the map, or escorting a payload between poin<br>ts on the map, with one team attacking while the other defends. Other <br>modes set aside for casual matches include solo and team deathmatch, c<br>apture-the-flag, and unique modes run during various seasonal events. <br>More<br>",
          "2018 Webby Awards \tBest Game Design \tWon \t[162] Best Multiplayer/Compe<br>titive Game \tWon 2018 Teen Choice Awards \tChoice Video Game \tNominated<br> \t[163][164] Golden Joystick Awards \tStill Playing Award \tNominated \t[<br>165][166] eSports Game of the Year \tWon The Game Awards 2018 \tBest Ong<br>oing Game \tNominated \t[167][168] Best eSports Game \tWon 2019 \t2019 SXS<br>W Gaming Awards \tMost Evolved Game \tNominated \t[169] 15th British Acad<br>emy Games Awards \tEvolving Game \tNominated \t[170]<br>",
          "Best eSports Game \tWon 2019 \t2019 SXSW Gaming Awards \tMost Evolved Gam<br>e \tNominated \t[169] 15th British Academy Games Awards \tEvolving Game \t<br>Nominated \t[170] 2019 Webby Awards \tBest Multiplayer/Competitive Game <br>(People's Voice) \tWon \t[171] Golden Joystick Awards \teSports Game of t<br>he Year \tNominated \t[172] The Game Awards 2019 \tBest Esports Game \tNom<br>inated \t[173] Best Esports Event (2019 Overwatch League Grand Finals) <br>\tNominated 2020 \tGLAAD Media Awards \tOutstanding Video Game \tNominated<br> \t[174]<br>",
          "The Game Awards 2019 \tBest Esports Game \tNominated \t[173] Best Esports<br> Event (2019 Overwatch League Grand Finals) \tNominated 2020 \tGLAAD Med<br>ia Awards \tOutstanding Video Game \tNominated \t[174] Legacy Cosplay of <br>various Overwatch characters at New York Comic Con 2016<br>",
          "Overwatch's fan base has been noted to be generally kind and supportiv<br>e; Daniel Starkey of Wired wrote, \"where many fresh games struggle wit<br>h an endless stream of player complaints and developer-prodding, Overw<br>atch's community is vivacious and jubilant.\"[24] A gamer with cerebral<br> palsy publicly praised the game's customizable controls, which let hi<br>m make his first snipe in a video game.[175][176] One of Blizzard's ar<br>tists, Roman Kenney, drew concept art based on one player's daughter's<br> original<br>",
          "the game's customizable controls, which let him make his first snipe i<br>n a video game.[175][176] One of Blizzard's artists, Roman Kenney, dre<br>w concept art based on one player's daughter's original Overwatch char<br>acter design.[177] Blizzard altered one of the game's maps to include <br>a tribute to an avid Chinese fan of the game who died from injuries wh<br>ile trying to stop a motorcycle theft on the day before the game's pub<br>lic release.[178]<br>",
          "Blizzard has encouraged fans of Overwatch to make artistic content bas<br>ed on the game.[179] To support this, Blizzard released the hero refer<br>ence kit before release, providing official colors and costume and wea<br>pon designs for all 21 heroes present at the game's launch.[180] Fans <br>have used these, the game's animated media, and other assets to create<br> a large amount of content, including art,[181][182] cosplay,[183][184<br>] and anime opening-style music videos.[185][186] Some Overwatch conce<br>pts have<br>",
          "game's animated media, and other assets to create a large amount of co<br>ntent, including art,[181][182] cosplay,[183][184] and anime opening-s<br>tyle music videos.[185][186] Some Overwatch concepts have created inte<br>rnet memes such as \"Gremlin D.Va\", which focuses on the character D.Va<br>, portrayed through Western gamer stereotypes.[187] In some cases, Bli<br>zzard has reciprocated these fan creations back into the game, such as<br> an emote for D.Va, based on the Gremlin meme.[188] At the 2017 D.I.C.<br>E. Summit<br>",
          "Western gamer stereotypes.[187] In some cases, Blizzard has reciprocat<br>ed these fan creations back into the game, such as an emote for D.Va, <br>based on the Gremlin meme.[188] At the 2017 D.I.C.E. Summit in Februar<br>y 2017, Kaplan said that much of Overwatch's narrative is now being bo<br>rne out of the game's fans, adding \"We love it, that it belongs to the<br>m...We're just the custodians of the universe.\"[19] Kaplan recognizes <br>that he himself is seen as an Overwatch character within the fan commu<br>nity, and<br>",
          "fans, adding \"We love it, that it belongs to them...We're just the cus<br>todians of the universe.\"[19] Kaplan recognizes that he himself is see<br>n as an Overwatch character within the fan community, and following si<br>milar steps that Hearthstone's lead designer Ben Brode has done, has c<br>ontinued to engage with the fan community.[189]<br>",
          "Pornographic fan art of the game is popular, with Pornhub searches of <br>Overwatch characters partaking in sexual activities spiking by 817% sh<br>ortly after the release of the open beta.[190] A large amount of such <br>pornographic fan works are created with Valve's Source Filmmaker tool <br>and make use of the game's assets, which were ripped from the game dur<br>ing its closed beta and consequently spread over the internet.[191] Bl<br>izzard made efforts to remove the works.[179] Kaplan stated that while<br> the<br>",
          "with one team attacking while the other defends. Other modes set aside<br> for casual matches include solo and team deathmatch, capture-the-flag<br>, and unique modes run during various seasonal events. More recent upd<br>ates had enabled users to craft their own game modes with a limited se<br>t of scripting tools. Regardless of winning or losing a match, players<br> gained experience towards a player level, and on gaining a new level,<br> received loot boxes that contain cosmetic items that they can use to <br>customize<br>",
          "the game's assets, which were ripped from the game during its closed b<br>eta and consequently spread over the internet.[191] Blizzard made effo<br>rts to remove the works.[179] Kaplan stated that while the studio does<br> not want to infringe on anyone's freedom of expression, Blizzard is m<br>indful that many players are not adults and would hope the community w<br>ould try to keep such imagery away from them.[102]<br>",
          "Franchise Related media and merchandise See also: Overwatch animated m<br>edia and Overwatch (digital comic series)<br>",
          "Blizzard opted to tell the story of Overwatch across various mediums, <br>rather than include a story mode; Chu stated, \"One of the things that'<br>s really great is we're able to leverage the strengths of these differ<br>ent mediums to tell different parts of the story,\" citing Soldier: 76'<br>s appearances in fake news reports, an animated video narrated from hi<br>s perspective, as well as the Hero short.[192]<br>",
          "In March 2016, Blizzard announced that they would be releasing comics <br>and animated shorts based on Overwatch in 2016. The related media incl<br>uded plans for a since-cancelled graphic novel called Overwatch: First<br> Strike, which would have focused on the story of several in-game char<br>acters, including Soldier: 76, TorbjÃ¶rn, Reaper, and Reinhardt.[193]<br>",
          "Blizzard began releasing the series of animated shorts in March 2016; <br>the shorts maintained the style of the game's cinematic trailer, which<br> centered on a battle in which Tracer and Winston fought Reaper and Wi<br>dowmaker in the Overwatch Museum.[25] A collection of these cinematic <br>sequences played in movie theaters across the United States as part of<br> the game's launch event.[194] The first episode of the animated short<br> series, Recall, was released on March 23. It centers on Winston and R<br>eaper,<br>",
          "in movie theaters across the United States as part of the game's launc<br>h event.[194] The first episode of the animated short series, Recall, <br>was released on March 23. It centers on Winston and Reaper, and featur<br>es flashbacks to Winston's childhood.[195]<br>",
          "Blizzard published three digital comic series during Overwatch's 2016â<br>€“2022 run: Overwatch, Tracer - London Calling, and New Blood. These c<br>omics were also printed on hard cover through Dark Horse Comics. Furth<br>er Overwatch literature including an art book, cook book, short storie<br>s, and novelizations were also published.[196][197][198][199][200]  Ov<br>erwatch characters and elements have been brought over to the crossove<br>r MOBA game Heroes of the Storm.[201]<br>",
          "Overwatch characters and elements have been brought over to the crosso<br>ver MOBA game Heroes of the Storm.[201]  Various toy and figurine manu<br>facturers produced merchandise lines featuring Overwatch characters. T<br>hese manufacturers included Funko, Good Smile Company, Nerf and its pa<br>rent company Hasbro, as well as The Lego Group.[d] Esports See also: O<br>verwatch League<br>",
          "Overwatch was not developed with any dedication towards esports, focus<br>ing on \"building a great competitive game\" first and foremost, accordi<br>ng to Morhaime, though they recognized that the game had potential as <br>an esports game through internal testing.[210] Kaplan stated that whil<br>e esports was not a design goal, they included and planned for feature<br>s for the game to support the competitive community.[211] This include<br>d the introduction of the game's competitive mode some months after th<br>e game's<br>",
          "design goal, they included and planned for features for the game to su<br>pport the competitive community.[211] This included the introduction o<br>f the game's competitive mode some months after the game's launch afte<br>r seeing how players took towards Overwatch; Blizzard saw the ladder-a<br>pproach they used as a means for skilled players to reach high ranks a<br>s to be noticed by esport team organizers.[210] Dan Szymborski writing<br> for ESPN stated that Overwatch was poised as the next big esport for <br>having a<br>",
          "Regardless of winning or losing a match, players gained experience tow<br>ards a player level, and on gaining a new level, received loot boxes t<br>hat contain cosmetic items that they can use to customize the appearan<br>ce of the hero characters but otherwise does not affect gameplay. Loot<br> boxes could also be purchased through microtransactions.[7]<br>",
          "a means for skilled players to reach high ranks as to be noticed by es<br>port team organizers.[210] Dan Szymborski writing for ESPN stated that<br> Overwatch was poised as the next big esport for having a sufficiently<br> different look and playstyle from established esports games like Coun<br>ter-Strike: Global Offensive and Call of Duty, enough variety in maps <br>and characters, and strong support from Blizzard to maintain the game <br>for a long time.[212] Bryant Francis writing for Gamasutra noted the s<br>peed and<br>",
          "Offensive and Call of Duty, enough variety in maps and characters, and<br> strong support from Blizzard to maintain the game for a long time.[21<br>2] Bryant Francis writing for Gamasutra noted the speed and short matc<br>h times of Overwatch make the game highly favorable for viewership, fu<br>rther supporting the game as an esports title.[213]<br>",
          "Just before the game's release, PC Gamer writer Stefan Dorresteijn con<br>tacted professional esports players and hosts for their opinions. Long<br>time esports host Paul Chaloner stated that \"[Overwatch] needs a much <br>better spectator system,\" going on to elaborate, \"Right now, it's incr<br>edibly difficult for commentators and viewers to see the skills of the<br> players: who used their ultimates and how did they interact? Who is o<br>n cooldown and who has changed hero?\"[214] Fellow esports player Seb B<br>arton and<br>",
          "commentators and viewers to see the skills of the players: who used th<br>eir ultimates and how did they interact? Who is on cooldown and who ha<br>s changed hero?\"[214] Fellow esports player Seb Barton and Michael Ros<br>en criticized the game's map designs and game modes; Barton remarked t<br>hat \"the game modes are a little hit and miss,\" adding that \"King of t<br>he hill [Control] is super exciting and fast-paced but then you have t<br>he payload [Escort] maps, which are just a snoozefest for everyone<br>",
          "game modes are a little hit and miss,\" adding that \"King of the hill [<br>Control] is super exciting and fast-paced but then you have the payloa<br>d [Escort] maps, which are just a snoozefest for everyone involved.\"[2<br>14] Rosen expressed a need for tweaking to the maps used for the contr<br>ol game mode, as they are \"just too prone to the snowball effect. The <br>moment the attacking team captures the first control point they don't <br>just have the momentum but also the last advantage for the second and <br>final<br>",
          "they are \"just too prone to the snowball effect. The moment the attack<br>ing team captures the first control point they don't just have the mom<br>entum but also the last advantage for the second and final capture poi<br>nt.\"[214]<br>",
          "The first organized, prize-winning competitions for Overwatch started <br>in mid-2016, a few months after launch.[215][216][217] In November 201<br>6, Blizzard hosted their own Overwatch World Cup, allowing users to vo<br>te for teams to represent their nation or region, with finals taking p<br>lace during their BlizzCon event.[218] Overwatch grew increasingly in <br>South Korea since it was released. It topped gaming cafes in Korea in <br>terms of player count, surpassing that of League of Legends.[219]<br>",
          "At the 2016 BlizzCon, Blizzard announced their plans for their Overwat<br>ch League, using an organization of permanent teams in league placemen<br>ts similar to more traditional North American professional sports leag<br>ues,[220] rather than the use of promotion and relegation used in a se<br>ries like League of Legends Championship Series.[221] The OWL would be<br>ing preseason play in December 2017, with its first season taking plac<br>e in 2018.[222] Sequel Main article: Overwatch 2<br>",
          "Overwatch 2, a standalone sequel, was announced at BlizzCon on Novembe<br>r 1, 2019, and was released on October 4, 2022, as a free-to-play game<br> for Nintendo Switch, PlayStation 4, PlayStation 5, Windows, Xbox One,<br> and Xbox Series X and S.[223][224]<br>",
          "Originally, it was planned for Overwatch and Overwatch 2 to have a \"sh<br>ared multiplayer environment\" between it and the original Overwatch, s<br>o that the players in either game could compete together in the existi<br>ng player versus player (PvP) modes, retaining all unlocked cosmetics <br>and other features,[225] but with the transition to free-to-play, Over<br>watch's servers were shut down on October 3, 2022, in favor of the seq<br>uel, and all players were transitioned to Overwatch 2.[3]<br>",
          "Plot See also: Characters of Overwatch<br>",
          "A significant departure was moving to a five-versus-five PvP mode, wit<br>h a restriction of only allowing one tank in play on a team as to help<br> improve the perceived speed of gameplay.[226] To this end, many heroe<br>s had their skill kit reworked, or in some cases, were reclassified in<br>to a new hero class.[227][228]<br>",
          "Another change in the transition to free to play was the elimination o<br>f loot boxes in favor of a season pass. As part of the transition, Bli<br>zzard ended purchases of loot boxes on August 30, 2022 (though players<br> were still able to earn these as drops in-game), and any unopened loo<br>t boxes in a player's inventory on Overwatch 2's release were automati<br>cally opened and contents credited to the player.<br>",
          "The backstory to Overwatch is described through animated shorts and ot<br>her information distributed by Blizzard in promoting the game.[8][9][1<br>0]<br>",
          "Overwatch is set sixty years into the future of a fictionalized Earth,<br> thirty years after the resolution of what is known as the \"Omnic Cris<br>is.\"[11] Before the Omnic Crisis, humanity had been in a golden age of<br> prosperity and technology development. Humans developed robots with a<br>rtificial intelligence called \"Omnics\", which were put to use to achie<br>ve economic equality, and began to be treated as people in their own r<br>ight. The Omnic Crisis began when the worldwide automated \"omnium\" fac<br>ilities<br>",
          "called \"Omnics\", which were put to use to achieve economic equality, a<br>nd began to be treated as people in their own right. The Omnic Crisis <br>began when the worldwide automated \"omnium\" facilities that produced t<br>hem started producing a series of lethal, hostile robots that attacked<br> humankind. After individual nations' efforts failed to ward off the O<br>mnics, the United Nations quickly formed Overwatch, an international t<br>ask force designed to combat this threat and restore order.[12]<br>",
          "Two veteran soldiers from the Soldier Enhancement Program were put in <br>charge of Overwatch: Gabriel Reyes and Jack Morrison. Though Overwatch<br> successfully quelled the robotic uprising and brought many talented i<br>ndividuals to the forefront, a rift developed between Reyes and Morris<br>on due to Reyes being the official leader of the group despite everyon<br>e viewing the more popular Morrison as their true leader. Eventually, <br>Morrison was made the leader of Overwatch while Reyes was given charge<br> of<br>",
          "being the official leader of the group despite everyone viewing the mo<br>re popular Morrison as their true leader. Eventually, Morrison was mad<br>e the leader of Overwatch while Reyes was given charge of Blackwatch, <br>Overwatch's covert operations division, fighting terrorist organizatio<br>ns like Talon, a group that appears to be trying to start a second Omn<br>ic Crisis, and Null Sector, a group of Omnics that revolted against th<br>e society that persecuted Omnics following the first Crisis.[12] Overw<br>atch<br>",
          "Overwatch is Blizzard's fourth major franchise and came about followin<br>g the 2014 cancellation of a massively multiplayer online role-playing<br> game, Titan. A portion of the Titan team were inspired by the success<br> of team-based first-person shooters like Team Fortress 2 and the popu<br>larity of multiplayer online battle arena games, creating a hero-based<br> shooter which emphasized teamwork. Some elements of Overwatch borrow <br>concepts from the canceled Titan project.<br>",
          "a group that appears to be trying to start a second Omnic Crisis, and <br>Null Sector, a group of Omnics that revolted against the society that <br>persecuted Omnics following the first Crisis.[12] Overwatch continued <br>to maintain peace across the world for several decades in what came to<br> be called the \"Overwatch Generation\" as the team gained more members,<br> but the rift between Morrison and Reyes intensified. One night, Black<br>watch was dispatched to arrest a notorious mobster with ties to Talon.<br> After<br>",
          "Generation\" as the team gained more members, but the rift between Morr<br>ison and Reyes intensified. One night, Blackwatch was dispatched to ar<br>rest a notorious mobster with ties to Talon. After infiltrating the co<br>mpound, Reyes chose to execute the mobster rather than let him buy his<br> way out of prison. This action caused Blackwatch and their less heroi<br>c actions to be exposed to the public. Several allegations of wrongdoi<br>ng and failures were leveled at Overwatch, leading to a public outcry <br>against<br>",
          "This action caused Blackwatch and their less heroic actions to be expo<br>sed to the public. Several allegations of wrongdoing and failures were<br> leveled at Overwatch, leading to a public outcry against the organiza<br>tion and in-fighting between its members, prompting the UN to investig<br>ate the situation. During this, an explosion destroyed Overwatch's hea<br>dquarters in Switzerland, purportedly killing Morrison and Reyes among<br> others. The UN passed the Petras Act, which dismantled Overwatch and <br>forbade<br>",
          "During this, an explosion destroyed Overwatch's headquarters in Switze<br>rland, purportedly killing Morrison and Reyes among others. The UN pas<br>sed the Petras Act, which dismantled Overwatch and forbade any Overwat<br>ch-type activity.[12]<br>",
          "Overwatch is set six years after the Petras Act; without Overwatch, co<br>rporations have started to take over, fighting and terrorism have brok<br>en out in parts of the globe, and there are signs of a second Omnic Cr<br>isis occurring in Russia. The intelligent gorilla Winston, a former me<br>mber of Overwatch, decides to begin reforming Overwatch to protect the<br> peace once again despite the Petras Act, with the team members recrui<br>ting old friends and gaining new allies in their fight.[13] It is reve<br>aled that<br>",
          "to begin reforming Overwatch to protect the peace once again despite t<br>he Petras Act, with the team members recruiting old friends and gainin<br>g new allies in their fight.[13] It is revealed that Reyes and Morriso<br>n were not killed in the explosion resulting from their battle: Morris<br>on became a masked vigilante known as \"Soldier: 76\", who is trying to <br>uncover the reasons why Overwatch was shut down, while Reyes joined Ta<br>lon. Which lead to him being experimented on by Moira[14] who then bec<br>ame<br>",
          "vigilante known as \"Soldier: 76\", who is trying to uncover the reasons<br> why Overwatch was shut down, while Reyes joined Talon. Which lead to <br>him being experimented on by Moira[14] who then became \"Reaper\", a ter<br>rorist with a Death-like appearance.<br>",
          "Development Main article: Development of Overwatch Former lead directo<br>r Jeff Kaplan<br>",
          "Overwatch was developed by Blizzard Team 4 and published by Blizzard E<br>ntertainment.[15][16] The game came about in the aftermath of Blizzard<br>'s decision to cancel the massively multiplayer online role-playing ga<br>me Titan in 2013, a project that had been in development for about sev<br>en years. While most others assigned to the project were transferred t<br>o other departments within Blizzard, a small team of about 40 people, <br>led by director Jeff Kaplan, were tasked to come up with a new concept<br> for a<br>",
          "others assigned to the project were transferred to other departments w<br>ithin Blizzard, a small team of about 40 people, led by director Jeff <br>Kaplan, were tasked to come up with a new concept for a game in a few <br>months. After some brainstorming, they came onto the idea of a hero te<br>am-based shooter, building upon the success of games like Team Fortres<br>s 2 and multiplayer online battle arenas. They started with assets dev<br>eloped for Titan to demonstrate the proof-of-concept and were greenlit<br> to build<br>",
          "Overwatch was unveiled at the 2014 BlizzCon event and was in a closed <br>beta from late 2015 through early 2016. An open beta before release dr<br>ew in nearly 10 million players. Overwatch received universal acclaim <br>from critics, who praised the game for its accessibility, the diverse <br>appeal of its hero characters, its cartoonish art style, and enjoyable<br> gameplay. Blizzard reported over US$1 billion in revenue during the f<br>irst year of its release and had more than 50 million players after th<br>ree<br>",
          "upon the success of games like Team Fortress 2 and multiplayer online <br>battle arenas. They started with assets developed for Titan to demonst<br>rate the proof-of-concept and were greenlit to build out the full game<br>, the first new intellectual property that Blizzard had developed sinc<br>e StarCraft.[17][18]<br>",
          "The intra-company experience of Titan's cancellation served to help dr<br>ive the narrative and setting. They created an optimistic vision of th<br>e near-future, some decades following the Omnic Crisis and the formati<br>on and collapse of the peacekeeping Overwatch group. This allowed them<br> to create a diverse cast of characters, including non-human ones, and<br> colorful settings from around the globe.[19] The Overwatch team conti<br>nues to support the game through free updates, the introduction of new<br>",
          "a diverse cast of characters, including non-human ones, and colorful s<br>ettings from around the globe.[19] The Overwatch team continues to sup<br>port the game through free updates, the introduction of new characters<br>, maps, game modes, cosmetic items, seasonal events, and external medi<br>a to support the game's narrative, as well as continuously tuning how <br>the individual heroes play by monitoring meta-game statistics and user<br> feedback.[20] New characters and maps were added regularly to the gam<br>e since<br>",
          "narrative, as well as continuously tuning how the individual heroes pl<br>ay by monitoring meta-game statistics and user feedback.[20] New chara<br>cters and maps were added regularly to the game since launch, expandin<br>g the original hero roster from 21 in May 2016 to 32 by April 2020. Si<br>nce April 2020 however, no heroes have been released, as the developme<br>nt team is focused on creating Overwatch 2.[21]<br>",
          "Overwatch's development had been led by Kaplan through April 2021, aft<br>er which he departed Blizzard. Kaplan's duties were taken over by Aaro<br>n Keller following his departure.[22] Release and marketing<br>",
          "Overwatch was formally announced at the BlizzCon event on November 7, <br>2014; the game was playable during the event to all attendees, with fo<br>urteen characters available to select from.[23] During this event, Bli<br>zzard released a cinematic trailer and an extended gameplay video for <br>the game.[24][25] A month after the BlizzCon event, in December 2014, <br>Blizzard published character introduction videos to its YouTube channe<br>l and followed up on this May 2015 by posting weekly videos of game fo<br>otage and<br>",
          "month after the BlizzCon event, in December 2014, Blizzard published c<br>haracter introduction videos to its YouTube channel and followed up on<br> this May 2015 by posting weekly videos of game footage and character <br>highlights.[23]<br>",
          "A closed beta period for Overwatch across all three platforms began on<br> October 27, 2015.[26] The closed beta was put on \"extended break\" in <br>December and brought back in February 2016.[27] Following the March 20<br>16 release announcement, Blizzard announced an open beta period from M<br>ay 5 to 9 for any registered user of the Battle.net client.[28][29] Th<br>e open beta proved popular with Blizzard reporting over 9.7 million pl<br>ayers participating,[30] and as a way of showing thanks, extended the <br>open beta<br>",
          "user of the Battle.net client.[28][29] The open beta proved popular wi<br>th Blizzard reporting over 9.7 million players participating,[30] and <br>as a way of showing thanks, extended the open beta period by one extra<br> day.[31]<br>",
          "In the week before release, Blizzard arranged to have three giant-size<br>d boxes (approximately 15 feet (4.6 m) tall) of various Overwatch hero<br>es, as if being sold as packaged action figures, put on display across<br> the globe at Hollywood, Paris, and Busan, South Korea.[32][33][34] Th<br>e displays were created by Alliance Studios, led by Steve Wang, who ha<br>s collaborated with Blizzard before on past projects, and Eddie Yang.[<br>35] After planning the design of the sculptures in January 2016, teams<br> across<br>",
          "hero characters, its cartoonish art style, and enjoyable gameplay. Bli<br>zzard reported over US$1 billion in revenue during the first year of i<br>ts release and had more than 50 million players after three years. Ove<br>rwatch is considered to be among the greatest video games ever made, r<br>eceiving numerous game of the year awards and other accolades. The gam<br>e is a popular esport, with Blizzard funding and producing the global <br>Overwatch League.<br>",
          "by Alliance Studios, led by Steve Wang, who has collaborated with Bliz<br>zard before on past projects, and Eddie Yang.[35] After planning the d<br>esign of the sculptures in January 2016, teams across the world, inclu<br>ding Droga5, Scicon, Stratasys and Egads, raced to print, finish and a<br>ssemble the works in time for the game's release.[36] Propelled by Ove<br>rwatch, Blizzard had over 50% of the American advertisement share amon<br>g gaming industry brands from May 16 to June 15, 2016.[37]<br>",
          "Overwatch was released for PlayStation 4, Windows, and Xbox One on May<br> 24, 2016. Blizzard allowed retailers to sell physical copies of the g<br>ame a day before to help players prepare for the servers' launch.[38][<br>39]<br>",
          "Two special editions of Overwatch were released alongside the base gam<br>e. The Origins Edition, available both as a downloadable and retail pr<br>oduct, includes the base game and five additional character skins, as <br>well as other bonus items for other Blizzard games via Battle.net.[40]<br> The Collectors Edition, only available as retail, includes the Origin<br>s Edition content as well as a statue of Soldier: 76, one of the playa<br>ble characters, along with the game's soundtrack and a source book.[41<br>]<br>",
          "In honor of its first anniversary in 2017, Blizzard released a digital<br> Game of the Year edition of Overwatch. It includes all content from t<br>he Origins Edition, in addition to ten free loot boxes.[42] Blizzard h<br>ad expressed interest in supporting cross-platform play between consol<br>e systems in the future, though initially had no plans for Windows-sup<br>ported cross-play due to the precision advantage of keyboard-mouse con<br>trols over controller-based ones.[43][44] However, in June 2021, Blizz<br>ard<br>",
          "future, though initially had no plans for Windows-supported cross-play<br> due to the precision advantage of keyboard-mouse controls over contro<br>ller-based ones.[43][44] However, in June 2021, Blizzard brought cross<br>-platform play to Overwatch across all supported platforms, with a bet<br>a test launched at the start of the month before full release by the e<br>nd of June. To deal with the control differences, the game's competiti<br>ve mode would still remain segregated between console players and comp<br>uter<br>",
          "at the start of the month before full release by the end of June. To d<br>eal with the control differences, the game's competitive mode would st<br>ill remain segregated between console players and computer players, bu<br>t all other game modes would allow for cross-play on any combination o<br>f platforms, after users register their account via Battle.net.[45][46<br>]<br>",
          "The game was announced for Nintendo Switch during the September 2019 N<br>intendo Direct, the Switch had the Overwatch: Legendary Edition and wa<br>s released in North America and Europe on October 15, 2019,[47] and in<br> Japan on November 29, 2019. The Switch version, developed by Iron Gal<br>axy, includes support for the console's gyroscopic controls for some a<br>ctions, such as controlling Junkrat's Rip-tire, and maneuvering Wrecki<br>ng Ball in his spherical form.[47][48][49] The version is equivalent t<br>o the<br>",
          "for the console's gyroscopic controls for some actions, such as contro<br>lling Junkrat's Rip-tire, and maneuvering Wrecking Ball in his spheric<br>al form.[47][48][49] The version is equivalent to the existing version<br> of the game on other platforms, including all heroes, maps, and game <br>modes, although Switch players will not be able to participate in the <br>game's current Competition season as to give players a chance to adjus<br>t to the console's controls before introducing ranked play.[50] The ve<br>rsion has<br>",
          "players will not be able to participate in the game's current Competit<br>ion season as to give players a chance to adjust to the console's cont<br>rols before introducing ranked play.[50] The version has a game case f<br>or retailers in North America and Europe but does not include a physic<br>al Game Card, featuring a download code instead.[51]<br>",
          "The Xbox One version of the game received an optimization patch in Mar<br>ch 2021, adding new performance settings when played using backwards c<br>ompatibility on Xbox Series X/S, allowing the game to run at up to 120<br> frames per second on supported monitors.[52][53] Reception Reception <br>Aggregate scoreAggregator\tScore Metacritic\tNS: 73/100[67] PC: 91/100[6<br>8] PS4: 90/100[69] XONE: 91/100[70] Review scoresPublication\tScore Des<br>tructoid\t10/10[54] Electronic Gaming Monthly\t9/10[55] Game Informer\t10<br>/10[56]<br>",
          "A sequel, Overwatch 2, was announced in 2019 and entered beta in 2022.<br> The game is free to play, with all cosmetic items from Overwatch carr<br>ied over while introducing new heroes, maps, and gamemodes. On October<br> 3, 2022, the Overwatch servers were shut down in preparation for the <br>release of Overwatch 2 the next day. Gameplay Main article: Gameplay o<br>f Overwatch<br>",
          "Metacritic\tNS: 73/100[67] PC: 91/100[68] PS4: 90/100[69] XONE: 91/100[<br>70] Review scoresPublication\tScore Destructoid\t10/10[54] Electronic Ga<br>ming Monthly\t9/10[55] Game Informer\t10/10[56] GameRevolution\t[57] Game<br>Spot\t9/10[58] GamesRadar+\t[59] IGN\t9.4/10[60] PC Gamer (US)\t88/100[61]<br> Polygon\t8/10[62] VideoGamer.com\t9/10[63] PlayStation LifeStyle\t10/10[<br>64] The Escapist\t[65] The Guardian\t[66] Edit on Wikidata<br>",
          "Before its release, Overwatch experienced a period of pre-launch atten<br>tion not typically expected; Game Revolution noted that \"[Overwatch's]<br> reputation has quickly permeated through cyberspace, attracting atten<br>tion from people who may not traditionally put down $40 to $60 each ti<br>me a new first-person shooter releases.\"[71] The game's open beta, whi<br>ch attracted 9.7 million players, was very heavily covered by the medi<br>a.[72]<br>",
          "Overwatch received \"universal acclaim\" upon release, according to revi<br>ew aggregator Metacritic.[68][69][70] IGN's Vince Ingenito praised the<br> game's characters and maps, writing \"Overwatch takes just about every<br> possible opportunity to make its cast and locales seem like people an<br>d places rather than puppets and scenery.\" Ingenito added that the gam<br>e has a \"strong online experience that gets you into games quickly and<br> reliably.\"[60] The Verge's Andrew Webster praised Overwatch and previ<br>ous<br>",
          "than puppets and scenery.\" Ingenito added that the game has a \"strong <br>online experience that gets you into games quickly and reliably.\"[60] <br>The Verge's Andrew Webster praised Overwatch and previous titles Titan<br>fall and Splatoon as \"friendly online shooters\" that have room for bot<br>h new and casual players who may not desire to master the game but can<br> still compete fairly with others, and for expert players that can uti<br>lize the various heroes to adapt to the dynamic tactics of the game.[7<br>3]<br>",
          "players who may not desire to master the game but can still compete fa<br>irly with others, and for expert players that can utilize the various <br>heroes to adapt to the dynamic tactics of the game.[73] Webster went o<br>n to cite the atmosphere of Overwatch as a reason for the game's appro<br>achability, writing, \"The first thing that makes Overwatch's world app<br>ealing and approachable is, well, its world. This isn't the dour brown<br>-and-grey shooter you might be used to. Instead, it's bright and color<br>ful, with<br>",
          "\"The first thing that makes Overwatch's world appealing and approachab<br>le is, well, its world. This isn't the dour brown-and-grey shooter you<br> might be used to. Instead, it's bright and colorful, with a cast of c<br>haracters that's eclectic and diverse.\"[73] Caty McCarthy of Kill Scre<br>en echoed similar thoughts, writing \"When playing Overwatch, the playe<br>r is absorbed by its radiating positivity. It's a world filled with li<br>vely color and energetic, playful competition, much like Nintendo's cr<br>eative<br>",
          "thoughts, writing \"When playing Overwatch, the player is absorbed by i<br>ts radiating positivity. It's a world filled with lively color and ene<br>rgetic, playful competition, much like Nintendo's creative kid-friendl<br>y ink-shooter Splatoon.\"[74] Mike Minotti of VentureBeat commending th<br>e team-based gameplay, the game's diverse character roster, and colorf<br>ul settings, as well as the unlockable cosmetics earned through level <br>progression and the smooth server connection.[75] Referencing its simi<br>larities<br>",
          "the game's diverse character roster, and colorful settings, as well as<br> the unlockable cosmetics earned through level progression and the smo<br>oth server connection.[75] Referencing its similarities to Team Fortre<br>ss 2, Minotti confirmed that \"[Overwatch has] distinct classes, the te<br>am- and objective-based combat, and a bright, cartoon-like art style,\"<br> and that \"Overwatch certainly takes plenty of inspiration from Valve <br>online shooter series,\" but opines that \"[Overwatch is] just better.\"[<br>75]<br>",
          "combat, and a bright, cartoon-like art style,\" and that \"Overwatch cer<br>tainly takes plenty of inspiration from Valve online shooter series,\" <br>but opines that \"[Overwatch is] just better.\"[75] Daniel Tack of The N<br>ews & Observer positively received the game, expressing that \"no matte<br>r what happens â€“ win or lose â€“ you're going to have fun,\" adding t<br>hat \"the game's strength lies in its simplicity and polish.\"[76] Tack <br>went on to praise the game's characters, writing \"Unforgettable charac<br>ters are<br>",
          "win or lose â€“ you're going to have fun,\" adding that \"the game's str<br>ength lies in its simplicity and polish.\"[76] Tack went on to praise t<br>he game's characters, writing \"Unforgettable characters are the lifebl<br>ood and driving force of Overwatch.\"[76] The Denver Post's Hugh Johnso<br>n lauded the game for its emphasis on characters, rather than focusing<br> on traditional first-person shooter tropes, such as weapon load-outs <br>and incremental level upgrades.[77] Johnson went on to insist that the<br>",
          "Gameplay Main article: Gameplay of Overwatch A screenshot from Overwat<br>ch while in-match. The player (playing Tracer) and their allies are in<br>dicated in blue, while the opposing team is in red. The character's he<br>alth bar is shown on the bottom left, their primary skills and attacks<br> are shown on the bottom right, and their progress towards their ultim<br>ate ability is shown in the bottom center.<br>",
          "game for its emphasis on characters, rather than focusing on tradition<br>al first-person shooter tropes, such as weapon load-outs and increment<br>al level upgrades.[77] Johnson went on to insist that the characters a<br>re balanced writing, \"The big question with class-based shooters like <br>these is whether or not the characters are balanced,\" expressing that <br>\"some characters are naturally better, but no character is so overpowe<br>red that their mere presence spells doom for their opponents.\"[77] In <br>June<br>",
          "or not the characters are balanced,\" expressing that \"some characters <br>are naturally better, but no character is so overpowered that their me<br>re presence spells doom for their opponents.\"[77] In June 2016, Vultur<br>e's Joshua Rivera listed Overwatch as one of the \"best video games of <br>2016 (so far),\" writing, \"It's hard to separate Overwatch the game fro<br>m Overwatch the phenomenonâ€”and why bother, both are fascinating.\"[78<br>]<br>",
          "The online magazine Inverse, while expressing an overall positive rece<br>ption for the game, pointed out the balance of McCree (know known as C<br>assidy), teams composed of only one character, issues with matchmaking<br>, and the Play of the Game as problems that should be fixed by the gam<br>e's development team.[79] Gabe Gurwin of Digital Trends, directed crit<br>icism at Blizzard, for their decision to exclude the story from the ga<br>me, which left players \"with a great game, a great story, and no way t<br>o<br>",
          "team.[79] Gabe Gurwin of Digital Trends, directed criticism at Blizzar<br>d, for their decision to exclude the story from the game, which left p<br>layers \"with a great game, a great story, and no way to reconcile the <br>two.\"[80]<br>",
          "Shortly after the game's competitive play mode was released, Kotaku's <br>Nathan Grayson stated that \"Overwatch's competitive mode [is not] all <br>that bad, for how new and unpolished it is,\" but opined that \"high-sta<br>kes competition and toxicity tend to go hand-in-hand, and Overwatch's <br>competitive mode already has an ugly toxic stain.\" Grayson concluded h<br>is piece with \"Overwatch is, most of the time, a feel-good team game. <br>Introducing high-stakes competition with a muddled message about the i<br>mportance<br>",
          "has an ugly toxic stain.\" Grayson concluded his piece with \"Overwatch <br>is, most of the time, a feel-good team game. Introducing high-stakes c<br>ompetition with a muddled message about the importance of individual s<br>kill drags the game into confused, oftentimes negative territory. If B<br>lizzard wants this thing to work, they're gonna have to figure out a c<br>ompetitive framework that's true to Overwatch's spirit, rather than ju<br>st the spirit of competition.\"[81] Kaplan acknowledged that with the<br>",
          "this thing to work, they're gonna have to figure out a competitive fra<br>mework that's true to Overwatch's spirit, rather than just the spirit <br>of competition.\"[81] Kaplan acknowledged that with the introduction of<br> competitive mode that the whole of the Overwatch community has become<br> more toxic, and they are continually adapting elements behind the sce<br>nes to help deal with aggressive players more responsibly, while tryin<br>g to promote more enjoyable matches.[82]<br>",
          "Sales Overwatch player growth \t Graphs are unavailable due to technica<br>l issues. There is more info on Phabricator and on MediaWiki.org.<br>",
          "A week from its launch, Blizzard reported over seven million Overwatch<br> players with a total accumulated playtime of 119 million hours;[83] B<br>lizzard reported more than 10 million players by mid-June[84] and has <br>reported continued increases in the player base, with 60 million playe<br>rs as of April 2021 whilst possibly counting temporary free accounts.[<br>85] The NPD Group, a video game industry tracking firm, reported that <br>Overwatch was the third best-selling retail video game (nb. discountin<br>g digital<br>",
          "whilst possibly counting temporary free accounts.[85] The NPD Group, a<br> video game industry tracking firm, reported that Overwatch was the th<br>ird best-selling retail video game (nb. discounting digital sales thro<br>ugh Battle.net) in the US in May 2016 on the month of its release, and<br> was the top-selling game in June 2016;[86][87] the NPD Group later re<br>ported it was the 7th highest selling game by revenue (excluding Battl<br>e.net sales) in the United States for all of 2016.[88] With digital sa<br>les,<br>",
          "Overwatch was an online team-based game generally played as a first-pe<br>rson shooter. The game featured several different game modes, principa<br>lly designed around squad-based combat with two opposing teams of six <br>players each. Players selected one of over two dozen pre-made hero cha<br>racters from one of three class types: Damage heroes that deal most of<br> the damage to attack or defend control points, Tank heroes that can a<br>bsorb a large amount of damage, and Support heroes that provide healin<br>g or<br>",
          "game in June 2016;[86][87] the NPD Group later reported it was the 7th<br> highest selling game by revenue (excluding Battle.net sales) in the U<br>nited States for all of 2016.[88] With digital sales, Overwatch was th<br>e fastest-selling game during its release month.[89] SuperData Researc<br>h estimated that Overwatch brought in more than $269 million in revenu<br>es from digital sales worldwide in May,[90] and over $565 million in s<br>ales on personal computers along by the end of 2016, making it the<br>",
          "that Overwatch brought in more than $269 million in revenues from digi<br>tal sales worldwide in May,[90] and over $565 million in sales on pers<br>onal computers along by the end of 2016, making it the highest-grossin<br>g paid game for personal computers that year.[91]<br>",
          "In Activision-Blizzard's quarterly earnings report for Q1 2017, the co<br>mpany reported that Overwatch revenues had exceeded one billion dollar<br>s, the eighth such property owned by the company to do so.[92] In June<br> 2016, Gametrics, a South Korean internet cafe survey website, reporte<br>d that Overwatch overtook League of Legends as the most popular game p<br>layed across 4,000 of South Korea's PC bangs at the time.[93] In 2018,<br> Overwatch raised over $12.7 million for the Breast Cancer Research Fo<br>undation,<br>",
          "League of Legends as the most popular game played across 4,000 of Sout<br>h Korea's PC bangs at the time.[93] In 2018, Overwatch raised over $12<br>.7 million for the Breast Cancer Research Foundation, which they gener<br>ated from selling a special pink-colored Mercy skin where all proceeds<br> went towards it.[94] By July 2019, total in-game spending in Overwatc<br>h exceeded one billion dollars as estimated by SuperData, the sixth Ac<br>tivision-Blizzard product line to reach this metric.[95]<br>",
          "Controversies<br>",
          "While the developers were aiming to avoid sexualization of the charact<br>ers, there was some criticism of the female characters of the game dur<br>ing its development. In February 2015, Anita Sarkeesian commented on t<br>he lack of diversity in the female heroes' body types from the game's <br>first twelve revealed characters,[96] while Nathan Grayson of Kotaku r<br>emarked that \"Overwatch's women are mostly super slim and clad in cat <br>suits.\"[97] In March 2015, the development team revealed a new charact<br>er,<br>",
          "characters,[96] while Nathan Grayson of Kotaku remarked that \"Overwatc<br>h's women are mostly super slim and clad in cat suits.\"[97] In March 2<br>015, the development team revealed a new character, Zarya, who is a fe<br>male Russian bodybuilder with a muscular body, and pledged commitment <br>to diversity.[98]<br>",
          "Following promotional images featuring the female character Tracer in <br>March 2016, a thread on Blizzard's official forums drew attention to o<br>ne of Tracer's victory poses, which was criticized by a user as out of<br> character and oversexualized. Kaplan apologized for the pose, stating<br> \"The last thing we want to do is make someone feel uncomfortable, und<br>er-appreciated or misrepresented,\" and confirmed that Blizzard planned<br> to replace the pose. Kaplan's response drew mixed reactions from the <br>gaming<br>",
          "we want to do is make someone feel uncomfortable, under-appreciated or<br> misrepresented,\" and confirmed that Blizzard planned to replace the p<br>ose. Kaplan's response drew mixed reactions from the gaming community,<br> with many claiming Blizzard had forgone its creative control over the<br> game and censored its content to placate one offended user, while oth<br>ers praised Blizzard's willingness to listen to the community and adhe<br>re to standards for portraying a character according to their personal<br>ity.<br>",
          "its content to placate one offended user, while others praised Blizzar<br>d's willingness to listen to the community and adhere to standards for<br> portraying a character according to their personality. Kaplan later s<br>tated that the team was already unsure of the pose and was thinking of<br> changing it.[99] The following week, a replacement pose was released,<br> although it was noted to be similar to the original pose.[100][101] T<br>he replacement pose was alleged to be influenced by Billy DeVorss chee<br>secake<br>",
          "of three class types: Damage heroes that deal most of the damage to at<br>tack or defend control points, Tank heroes that can absorb a large amo<br>unt of damage, and Support heroes that provide healing or other buffs <br>for their teammates.[c] Each hero had a unique skill kit, defining the<br>ir intrinsic attributes like health points and running speed, their pr<br>imary attacks, several active and passive skills, and an ultimate abil<br>ity that can only be used after it has been charged through dealing da<br>mage to<br>",
          "The following week, a replacement pose was released, although it was n<br>oted to be similar to the original pose.[100][101] The replacement pos<br>e was alleged to be influenced by Billy DeVorss cheesecake pin-up art.<br>[101] The pose was replaced during the game's beta period.[100]<br>",
          "Following the game's release, some of the alternative outfits for char<br>acters had come under criticism for using cultural stereotypes, such a<br>s a Native American headdress option for the character of Pharah, who <br>seemed to be primarily of Egyptian origin. Kaplan noted that they had <br>considered if these outfits were appropriate, and believed they were r<br>especting the cultures of the characters they had created and would ma<br>ke necessary changes if they felt there were valid concerns. Kaplan co<br>mmented<br>",
          "outfits were appropriate, and believed they were respecting the cultur<br>es of the characters they had created and would make necessary changes<br> if they felt there were valid concerns. Kaplan commented that many pl<br>ayers have responded positively to these outfits and feel they fit in <br>appropriately with the idealized version of Earth.[102] Later game dev<br>elopments showed that Pharah was set out as a half-Egyptian/half-Nativ<br>e American character, making such outfits appropriate in hindsight.[10<br>3]<br>",
          "In July 2016, the President of the Universal Society of Hinduism (Raja<br>n Zed) urged Blizzard to remove two of Symmetra's hero cosmetic items <br>from the game since they could be seen as inappropriate and not accura<br>te towards the beliefs and practices of Hinduism. In Hinduism, devotee<br>s put their destinies in the hands of their gods and goddesses; this i<br>s a stark contrast to how he believes they are portrayed within the ga<br>me.[104] Zed has in the past commented on other video game depictions <br>of<br>",
          "in the hands of their gods and goddesses; this is a stark contrast to <br>how he believes they are portrayed within the game.[104] Zed has in th<br>e past commented on other video game depictions of Hindu-inspired gods<br>, such as in the multiplayer online battle arena (MOBA) game Smite.[10<br>5][106]<br>",
          "In Overwatch's Asia servers, there were problems with numerous players<br> using cheats tied to the growing number of younger players using PC b<br>angs in South Korea that allowed them to play Overwatch on an inexpens<br>ive hourly rate rather than purchasing the game. As these players do n<br>ot need permanent accounts, they can use disposable Battle.net account<br>s and employ game hacks without repercussions, and if that account is <br>banned, they can quickly make another and continue playing. Blizzard c<br>ontinues<br>",
          "they can use disposable Battle.net accounts and employ game hacks with<br>out repercussions, and if that account is banned, they can quickly mak<br>e another and continue playing. Blizzard continues to block these acco<br>unts at a rate of thousands per day, but have not been able to find a <br>more permanent solution.[107] Subsequently, Blizzard announced that pl<br>ayers from South Korea would be required to log into a Battle.net acco<br>unt to play the game from February 2017 onward, which requires a<br>",
          "permanent solution.[107] Subsequently, Blizzard announced that players<br> from South Korea would be required to log into a Battle.net account t<br>o play the game from February 2017 onward, which requires a difficult-<br>to-spoof resident registration number among other unique information, <br>which Blizzard believes would help to alleviate the problem.[108]<br>",
          "As to maintain a fair competitive field on consoles, Blizzard has spok<br>en out against the use of input converters that would allow console pl<br>ayers to use keyboard/mouse controllers, believing this gives an advan<br>tage to players that can afford the converter.[109] Some players have <br>criticized the ability to use these converters, as players with them o<br>ften populate the top of the competitive ranking ladders. Though Blizz<br>ard has appealed to Sony and Microsoft to either prevent such converte<br>rs, or to<br>",
          "to use these converters, as players with them often populate the top o<br>f the competitive ranking ladders. Though Blizzard has appealed to Son<br>y and Microsoft to either prevent such converters, or to detect when s<br>uch converters are used as to be able to segregate players into server<br>s based on this, disabled players have spoken out against such action,<br> as many need to use such converters to play the game on consoles lack<br>ing the ability to use a normal controller.[110]<br>",
          "like health points and running speed, their primary attacks, several a<br>ctive and passive skills, and an ultimate ability that can only be use<br>d after it has been charged through dealing damage to enemies and heal<br>ing allies. Players could change their hero during the course of a mat<br>ch, as a goal of Overwatch's design was to encourage dynamic team comp<br>ositions that adapt to the situation. The game's genre has been descri<br>bed by some journalists as a \"hero shooter\", due to its design around <br>specific<br>",
          "After a year from its release, journalists observed that the player co<br>mmunity was becoming more toxic, disrupting the enjoyment of playing t<br>he game. It was believed this came from the nature of the game that re<br>quires teamwork, and when teammates see players unwilling to switch to<br> different heroes to balance the team or otherwise play for individual<br> gains, this would cause the teammates to become angry and lash out at<br> the player, become griefers and throw the match, or other harmful beh<br>avior<br>",
          "to balance the team or otherwise play for individual gains, this would<br> cause the teammates to become angry and lash out at the player, becom<br>e griefers and throw the match, or other harmful behavior that would s<br>pread over time, particularly in the game's competitive mode. Players <br>are able to report malicious users with in-game tools, and Blizzard ca<br>n ban players for egregious actions, but they do not attempt to segreg<br>ate out bad actors from the larger pool (a method used by other develo<br>pers in<br>",
          "malicious users with in-game tools, and Blizzard can ban players for e<br>gregious actions, but they do not attempt to segregate out bad actors <br>from the larger pool (a method used by other developers in multiplayer<br> games), instead keeping an inclusive community for all non-banned pla<br>yers, which is believed to contribute to the growing toxicity. Kaplan <br>said in a September 2017 update that Blizzard was very well aware of t<br>he problem, and have worked to improve their in-game player behavior r<br>eporting<br>",
          "to contribute to the growing toxicity. Kaplan said in a September 2017<br> update that Blizzard was very well aware of the problem, and have wor<br>ked to improve their in-game player behavior reporting tools to help c<br>ombat the toxicity, but because they have had to put greater effort in<br>to this, they are distracted from developing new features and content <br>for the game. Kaplan urged the community to consider how they can impr<br>ove individually and as a whole to help combat the situations.[111][11<br>2][113]<br>",
          "In November 2017, the Belgian Gaming Commission announced that it was <br>investigating Overwatch alongside Star Wars Battlefront II to determin<br>e whether loot boxes constituted unlicensed gambling.[114] Many Asian <br>and European countries view loot boxes as a form of gambling and have <br>since decided to make them illegal for companies to sell directly to t<br>heir consumers in their games.[115] Blizzard has chosen to work with t<br>hese regions to follow their gambling laws while staying true to their<br>",
          "to make them illegal for companies to sell directly to their consumers<br> in their games.[115] Blizzard has chosen to work with these regions t<br>o follow their gambling laws while staying true to their microtransact<br>ion focused business model. Within China, Blizzard has allowed their p<br>layers to purchase in-game currency and receive loot boxes as a \"gift.<br>\"[116] In addition to this loot box change, China has required Blizzar<br>d to publicly disclose the exact odds of winning each tier of item wit<br>hin said<br>",
          "in-game currency and receive loot boxes as a \"gift.\"[116] In addition <br>to this loot box change, China has required Blizzard to publicly discl<br>ose the exact odds of winning each tier of item within said loot box.[<br>117][118] While initially loot boxes were not seen as gambling within <br>the United States; the US Federal Trade Commission decided in 2018 to <br>investigate the legality of the projected soon to be 50 billion dollar<br> industry of microtransactions.[119][120]<br>",
          "Awards<br>",
          "Overwatch won numerous awards in 2016, including being named Game of t<br>he Year at The Game Awards, D.I.C.E. Awards, and Game Developers Choic<br>e Awards, as well as several awards and nominations highlighting its g<br>ame direction and as a leading multiplayer game. Several publications,<br> including IGN,[121] GameSpot,[122][123][124][125] Game Revolution,[12<br>6] EGMNow,[127] GamesTM,[128] The Escapist,[129] Game Informer[130] an<br>d Eurogamer,[131] named Overwatch the best game of 2016, receiving 102<br> \"game of<br>",
          "GameSpot,[122][123][124][125] Game Revolution,[126] EGMNow,[127] Games<br>TM,[128] The Escapist,[129] Game Informer[130] and Eurogamer,[131] nam<br>ed Overwatch the best game of 2016, receiving 102 \"game of the year\" a<br>wards across critics and reader polls.[132]<br>"
         ],
         "marker": {
          "color": "gray",
          "size": 10
         },
         "mode": "markers",
         "name": "Dataset Embeddings",
         "type": "scatter",
         "x": [
          8.749430656433105,
          7.3471879959106445,
          7.796474456787109,
          2.869839668273926,
          2.507960796356201,
          2.4859957695007324,
          2.949859857559204,
          1.721820592880249,
          1.6437854766845703,
          1.5527796745300293,
          1.5935641527175903,
          1.6744635105133057,
          1.7633899450302124,
          7.560684680938721,
          1.4893040657043457,
          2.4296576976776123,
          1.9103046655654907,
          9.36307430267334,
          9.415135383605957,
          11.088233947753906,
          11.389582633972168,
          9.665000915527344,
          9.439324378967285,
          10.941082000732422,
          7.262091636657715,
          10.175740242004395,
          11.367059707641602,
          10.857687950134277,
          11.122454643249512,
          11.074164390563965,
          11.185412406921387,
          10.9552583694458,
          9.713425636291504,
          7.828762531280518,
          7.814382076263428,
          8.862137794494629,
          7.761059284210205,
          8.278215408325195,
          7.568939208984375,
          7.59153413772583,
          7.3578267097473145,
          7.7882466316223145,
          9.275777816772461,
          9.058258056640625,
          10.6768159866333,
          10.300341606140137,
          11.153127670288086,
          11.255070686340332,
          9.199518203735352,
          11.32138442993164,
          11.701644897460938,
          12.08052921295166,
          12.647783279418945,
          11.575429916381836,
          11.407068252563477,
          12.205794334411621,
          12.227301597595215,
          12.505624771118164,
          12.675597190856934,
          12.166729927062988,
          12.523853302001953,
          12.596906661987305,
          11.016873359680176,
          10.640850067138672,
          11.399381637573242,
          9.844098091125488,
          8.616308212280273,
          11.730384826660156,
          9.820926666259766,
          11.060894966125488,
          9.752513885498047,
          10.662635803222656,
          10.918665885925293,
          10.6408109664917,
          10.919487953186035,
          11.075955390930176,
          9.1727294921875,
          7.453994274139404,
          9.748124122619629,
          10.861161231994629,
          9.427919387817383,
          8.990705490112305,
          8.11203670501709,
          9.470720291137695,
          8.63555908203125,
          8.227359771728516,
          7.640617370605469,
          9.816691398620605,
          2.312544584274292,
          10.7136812210083,
          9.3280611038208,
          8.81655216217041,
          9.054258346557617,
          8.8569974899292,
          8.860380172729492,
          9.013398170471191,
          8.863229751586914,
          8.497485160827637,
          8.883563995361328,
          8.843661308288574,
          8.818086624145508,
          7.263552188873291,
          7.306716442108154,
          8.123985290527344,
          8.373021125793457,
          8.029928207397461,
          10.327917098999023,
          10.647584915161133,
          10.260851860046387,
          7.58329439163208,
          10.299238204956055,
          10.086465835571289,
          9.86649227142334,
          11.806723594665527,
          7.243588447570801,
          11.296045303344727,
          11.04153823852539,
          10.55196475982666,
          10.240574836730957,
          10.902480125427246,
          11.03715991973877,
          10.979941368103027,
          11.25801944732666,
          11.371098518371582,
          10.991573333740234,
          10.95931339263916,
          8.233187675476074,
          8.3003511428833,
          8.212275505065918,
          7.746247291564941,
          8.008634567260742,
          7.603708744049072,
          7.53574275970459,
          7.328650951385498,
          7.409311294555664,
          7.3867692947387695,
          9.155715942382812,
          8.875765800476074,
          8.940021514892578,
          1.4779258966445923,
          2.963117837905884,
          3.1864190101623535
         ],
         "y": [
          5.0986552238464355,
          9.113041877746582,
          8.93097972869873,
          5.701636791229248,
          5.2205963134765625,
          5.41994047164917,
          6.152406215667725,
          5.4072699546813965,
          5.902561187744141,
          6.362527370452881,
          5.869439125061035,
          5.818027973175049,
          6.269323348999023,
          9.256977081298828,
          6.108299732208252,
          6.782960414886475,
          6.600042819976807,
          10.366545677185059,
          10.451617240905762,
          8.634035110473633,
          9.402840614318848,
          10.336186408996582,
          10.36832332611084,
          10.694238662719727,
          9.230422973632812,
          10.539810180664062,
          5.496109485626221,
          8.53662395477295,
          8.307558059692383,
          6.0049662590026855,
          7.524996757507324,
          8.454319953918457,
          10.420455932617188,
          10.308032035827637,
          10.074430465698242,
          7.216894626617432,
          10.136275291442871,
          10.292076110839844,
          9.647577285766602,
          9.320441246032715,
          9.149685859680176,
          9.040727615356445,
          5.02748966217041,
          4.966485500335693,
          6.265531063079834,
          6.401325702667236,
          8.871071815490723,
          8.458223342895508,
          5.061234951019287,
          8.079702377319336,
          7.1565375328063965,
          7.066771030426025,
          5.961059093475342,
          6.136341571807861,
          7.627287864685059,
          6.892168045043945,
          6.017678737640381,
          6.502260208129883,
          6.586649417877197,
          6.894870281219482,
          6.175024032592773,
          6.061758995056152,
          6.631472110748291,
          6.7386250495910645,
          7.868169784545898,
          4.8112921714782715,
          10.64935302734375,
          7.301592826843262,
          9.04194450378418,
          8.121220588684082,
          4.721095085144043,
          6.263111114501953,
          7.634341716766357,
          6.178133964538574,
          5.626676559448242,
          6.230215549468994,
          11.109402656555176,
          6.190722465515137,
          4.946545124053955,
          5.5200581550598145,
          5.1897101402282715,
          7.041311264038086,
          5.421088218688965,
          6.850258827209473,
          7.025718688964844,
          5.944050312042236,
          6.473363876342773,
          7.117099761962891,
          5.0856122970581055,
          5.252513885498047,
          10.672773361206055,
          10.567197799682617,
          10.261693954467773,
          10.335819244384766,
          10.368908882141113,
          10.31810474395752,
          10.331621170043945,
          10.474843978881836,
          10.651341438293457,
          10.43517017364502,
          10.179340362548828,
          8.828214645385742,
          8.625343322753906,
          10.338081359863281,
          10.475479125976562,
          10.214946746826172,
          4.692460536956787,
          4.98227071762085,
          4.850883960723877,
          9.255902290344238,
          4.898440837860107,
          4.924871444702148,
          4.792252540588379,
          7.4484381675720215,
          8.497525215148926,
          8.974886894226074,
          8.680645942687988,
          10.703048706054688,
          10.687164306640625,
          10.46358585357666,
          8.685952186584473,
          10.356749534606934,
          9.853166580200195,
          9.596644401550293,
          10.401982307434082,
          9.616593360900879,
          5.544713020324707,
          5.548336029052734,
          5.6468281745910645,
          6.6087751388549805,
          6.826338768005371,
          8.978387832641602,
          7.775818347930908,
          7.405597686767578,
          7.406314849853516,
          7.8412861824035645,
          4.973776340484619,
          5.135997772216797,
          5.055571556091309,
          5.874230861663818,
          5.67277717590332,
          5.814332485198975
         ]
        },
        {
         "hovertext": "What is overwatch 2?",
         "marker": {
          "color": "red",
          "size": 25,
          "symbol": "x"
         },
         "mode": "markers",
         "name": "Query Embedding",
         "type": "scatter",
         "x": [
          11.408370971679688
         ],
         "y": [
          8.206779479980469
         ]
        },
        {
         "hoverinfo": "text",
         "hovertext": [
          "Overwatch 2, a standalone sequel, was announced at BlizzCon on November 1, 2019, and was released on October 4, 2022, as a free-to-play game for Nintendo Switch, PlayStation 4, PlayStation 5, Windows, Xbox One, and Xbox Series X and S.[223][224]",
          "Overwatch (retroactively referred to as Overwatch 1[b]) was a 2016 team-based multiplayer first-person shooter game by Blizzard Entertainment. The game was first released for PlayStation 4, Windows, and Xbox One in May 2016 and Nintendo Switch in October 2019. Cross-platform play was supported across all platforms.",
          "the game's diverse character roster, and colorful settings, as well as the unlockable cosmetics earned through level progression and the smooth server connection.[75] Referencing its similarities to Team Fortress 2, Minotti confirmed that \"[Overwatch has] distinct classes, the team- and objective-based combat, and a bright, cartoon-like art style,\" and that \"Overwatch certainly takes plenty of inspiration from Valve online shooter series,\" but opines that \"[Overwatch is] just better.\"[75]"
         ],
         "marker": {
          "color": "orange",
          "size": 15,
          "symbol": "circle"
         },
         "mode": "markers",
         "name": "Retrieved Embeddings",
         "type": "scatter",
         "x": [
          9.015120506286621,
          9.429676055908203,
          8.841986656188965
         ],
         "y": [
          4.937958717346191,
          6.958293437957764,
          10.432920455932617
         ]
        }
       ],
       "layout": {
        "template": {
         "data": {
          "bar": [
           {
            "error_x": {
             "color": "#2a3f5f"
            },
            "error_y": {
             "color": "#2a3f5f"
            },
            "marker": {
             "line": {
              "color": "#E5ECF6",
              "width": 0.5
             },
             "pattern": {
              "fillmode": "overlay",
              "size": 10,
              "solidity": 0.2
             }
            },
            "type": "bar"
           }
          ],
          "barpolar": [
           {
            "marker": {
             "line": {
              "color": "#E5ECF6",
              "width": 0.5
             },
             "pattern": {
              "fillmode": "overlay",
              "size": 10,
              "solidity": 0.2
             }
            },
            "type": "barpolar"
           }
          ],
          "carpet": [
           {
            "aaxis": {
             "endlinecolor": "#2a3f5f",
             "gridcolor": "white",
             "linecolor": "white",
             "minorgridcolor": "white",
             "startlinecolor": "#2a3f5f"
            },
            "baxis": {
             "endlinecolor": "#2a3f5f",
             "gridcolor": "white",
             "linecolor": "white",
             "minorgridcolor": "white",
             "startlinecolor": "#2a3f5f"
            },
            "type": "carpet"
           }
          ],
          "choropleth": [
           {
            "colorbar": {
             "outlinewidth": 0,
             "ticks": ""
            },
            "type": "choropleth"
           }
          ],
          "contour": [
           {
            "colorbar": {
             "outlinewidth": 0,
             "ticks": ""
            },
            "colorscale": [
             [
              0,
              "#0d0887"
             ],
             [
              0.1111111111111111,
              "#46039f"
             ],
             [
              0.2222222222222222,
              "#7201a8"
             ],
             [
              0.3333333333333333,
              "#9c179e"
             ],
             [
              0.4444444444444444,
              "#bd3786"
             ],
             [
              0.5555555555555556,
              "#d8576b"
             ],
             [
              0.6666666666666666,
              "#ed7953"
             ],
             [
              0.7777777777777778,
              "#fb9f3a"
             ],
             [
              0.8888888888888888,
              "#fdca26"
             ],
             [
              1,
              "#f0f921"
             ]
            ],
            "type": "contour"
           }
          ],
          "contourcarpet": [
           {
            "colorbar": {
             "outlinewidth": 0,
             "ticks": ""
            },
            "type": "contourcarpet"
           }
          ],
          "heatmap": [
           {
            "colorbar": {
             "outlinewidth": 0,
             "ticks": ""
            },
            "colorscale": [
             [
              0,
              "#0d0887"
             ],
             [
              0.1111111111111111,
              "#46039f"
             ],
             [
              0.2222222222222222,
              "#7201a8"
             ],
             [
              0.3333333333333333,
              "#9c179e"
             ],
             [
              0.4444444444444444,
              "#bd3786"
             ],
             [
              0.5555555555555556,
              "#d8576b"
             ],
             [
              0.6666666666666666,
              "#ed7953"
             ],
             [
              0.7777777777777778,
              "#fb9f3a"
             ],
             [
              0.8888888888888888,
              "#fdca26"
             ],
             [
              1,
              "#f0f921"
             ]
            ],
            "type": "heatmap"
           }
          ],
          "heatmapgl": [
           {
            "colorbar": {
             "outlinewidth": 0,
             "ticks": ""
            },
            "colorscale": [
             [
              0,
              "#0d0887"
             ],
             [
              0.1111111111111111,
              "#46039f"
             ],
             [
              0.2222222222222222,
              "#7201a8"
             ],
             [
              0.3333333333333333,
              "#9c179e"
             ],
             [
              0.4444444444444444,
              "#bd3786"
             ],
             [
              0.5555555555555556,
              "#d8576b"
             ],
             [
              0.6666666666666666,
              "#ed7953"
             ],
             [
              0.7777777777777778,
              "#fb9f3a"
             ],
             [
              0.8888888888888888,
              "#fdca26"
             ],
             [
              1,
              "#f0f921"
             ]
            ],
            "type": "heatmapgl"
           }
          ],
          "histogram": [
           {
            "marker": {
             "pattern": {
              "fillmode": "overlay",
              "size": 10,
              "solidity": 0.2
             }
            },
            "type": "histogram"
           }
          ],
          "histogram2d": [
           {
            "colorbar": {
             "outlinewidth": 0,
             "ticks": ""
            },
            "colorscale": [
             [
              0,
              "#0d0887"
             ],
             [
              0.1111111111111111,
              "#46039f"
             ],
             [
              0.2222222222222222,
              "#7201a8"
             ],
             [
              0.3333333333333333,
              "#9c179e"
             ],
             [
              0.4444444444444444,
              "#bd3786"
             ],
             [
              0.5555555555555556,
              "#d8576b"
             ],
             [
              0.6666666666666666,
              "#ed7953"
             ],
             [
              0.7777777777777778,
              "#fb9f3a"
             ],
             [
              0.8888888888888888,
              "#fdca26"
             ],
             [
              1,
              "#f0f921"
             ]
            ],
            "type": "histogram2d"
           }
          ],
          "histogram2dcontour": [
           {
            "colorbar": {
             "outlinewidth": 0,
             "ticks": ""
            },
            "colorscale": [
             [
              0,
              "#0d0887"
             ],
             [
              0.1111111111111111,
              "#46039f"
             ],
             [
              0.2222222222222222,
              "#7201a8"
             ],
             [
              0.3333333333333333,
              "#9c179e"
             ],
             [
              0.4444444444444444,
              "#bd3786"
             ],
             [
              0.5555555555555556,
              "#d8576b"
             ],
             [
              0.6666666666666666,
              "#ed7953"
             ],
             [
              0.7777777777777778,
              "#fb9f3a"
             ],
             [
              0.8888888888888888,
              "#fdca26"
             ],
             [
              1,
              "#f0f921"
             ]
            ],
            "type": "histogram2dcontour"
           }
          ],
          "mesh3d": [
           {
            "colorbar": {
             "outlinewidth": 0,
             "ticks": ""
            },
            "type": "mesh3d"
           }
          ],
          "parcoords": [
           {
            "line": {
             "colorbar": {
              "outlinewidth": 0,
              "ticks": ""
             }
            },
            "type": "parcoords"
           }
          ],
          "pie": [
           {
            "automargin": true,
            "type": "pie"
           }
          ],
          "scatter": [
           {
            "fillpattern": {
             "fillmode": "overlay",
             "size": 10,
             "solidity": 0.2
            },
            "type": "scatter"
           }
          ],
          "scatter3d": [
           {
            "line": {
             "colorbar": {
              "outlinewidth": 0,
              "ticks": ""
             }
            },
            "marker": {
             "colorbar": {
              "outlinewidth": 0,
              "ticks": ""
             }
            },
            "type": "scatter3d"
           }
          ],
          "scattercarpet": [
           {
            "marker": {
             "colorbar": {
              "outlinewidth": 0,
              "ticks": ""
             }
            },
            "type": "scattercarpet"
           }
          ],
          "scattergeo": [
           {
            "marker": {
             "colorbar": {
              "outlinewidth": 0,
              "ticks": ""
             }
            },
            "type": "scattergeo"
           }
          ],
          "scattergl": [
           {
            "marker": {
             "colorbar": {
              "outlinewidth": 0,
              "ticks": ""
             }
            },
            "type": "scattergl"
           }
          ],
          "scattermapbox": [
           {
            "marker": {
             "colorbar": {
              "outlinewidth": 0,
              "ticks": ""
             }
            },
            "type": "scattermapbox"
           }
          ],
          "scatterpolar": [
           {
            "marker": {
             "colorbar": {
              "outlinewidth": 0,
              "ticks": ""
             }
            },
            "type": "scatterpolar"
           }
          ],
          "scatterpolargl": [
           {
            "marker": {
             "colorbar": {
              "outlinewidth": 0,
              "ticks": ""
             }
            },
            "type": "scatterpolargl"
           }
          ],
          "scatterternary": [
           {
            "marker": {
             "colorbar": {
              "outlinewidth": 0,
              "ticks": ""
             }
            },
            "type": "scatterternary"
           }
          ],
          "surface": [
           {
            "colorbar": {
             "outlinewidth": 0,
             "ticks": ""
            },
            "colorscale": [
             [
              0,
              "#0d0887"
             ],
             [
              0.1111111111111111,
              "#46039f"
             ],
             [
              0.2222222222222222,
              "#7201a8"
             ],
             [
              0.3333333333333333,
              "#9c179e"
             ],
             [
              0.4444444444444444,
              "#bd3786"
             ],
             [
              0.5555555555555556,
              "#d8576b"
             ],
             [
              0.6666666666666666,
              "#ed7953"
             ],
             [
              0.7777777777777778,
              "#fb9f3a"
             ],
             [
              0.8888888888888888,
              "#fdca26"
             ],
             [
              1,
              "#f0f921"
             ]
            ],
            "type": "surface"
           }
          ],
          "table": [
           {
            "cells": {
             "fill": {
              "color": "#EBF0F8"
             },
             "line": {
              "color": "white"
             }
            },
            "header": {
             "fill": {
              "color": "#C8D4E3"
             },
             "line": {
              "color": "white"
             }
            },
            "type": "table"
           }
          ]
         },
         "layout": {
          "annotationdefaults": {
           "arrowcolor": "#2a3f5f",
           "arrowhead": 0,
           "arrowwidth": 1
          },
          "autotypenumbers": "strict",
          "coloraxis": {
           "colorbar": {
            "outlinewidth": 0,
            "ticks": ""
           }
          },
          "colorscale": {
           "diverging": [
            [
             0,
             "#8e0152"
            ],
            [
             0.1,
             "#c51b7d"
            ],
            [
             0.2,
             "#de77ae"
            ],
            [
             0.3,
             "#f1b6da"
            ],
            [
             0.4,
             "#fde0ef"
            ],
            [
             0.5,
             "#f7f7f7"
            ],
            [
             0.6,
             "#e6f5d0"
            ],
            [
             0.7,
             "#b8e186"
            ],
            [
             0.8,
             "#7fbc41"
            ],
            [
             0.9,
             "#4d9221"
            ],
            [
             1,
             "#276419"
            ]
           ],
           "sequential": [
            [
             0,
             "#0d0887"
            ],
            [
             0.1111111111111111,
             "#46039f"
            ],
            [
             0.2222222222222222,
             "#7201a8"
            ],
            [
             0.3333333333333333,
             "#9c179e"
            ],
            [
             0.4444444444444444,
             "#bd3786"
            ],
            [
             0.5555555555555556,
             "#d8576b"
            ],
            [
             0.6666666666666666,
             "#ed7953"
            ],
            [
             0.7777777777777778,
             "#fb9f3a"
            ],
            [
             0.8888888888888888,
             "#fdca26"
            ],
            [
             1,
             "#f0f921"
            ]
           ],
           "sequentialminus": [
            [
             0,
             "#0d0887"
            ],
            [
             0.1111111111111111,
             "#46039f"
            ],
            [
             0.2222222222222222,
             "#7201a8"
            ],
            [
             0.3333333333333333,
             "#9c179e"
            ],
            [
             0.4444444444444444,
             "#bd3786"
            ],
            [
             0.5555555555555556,
             "#d8576b"
            ],
            [
             0.6666666666666666,
             "#ed7953"
            ],
            [
             0.7777777777777778,
             "#fb9f3a"
            ],
            [
             0.8888888888888888,
             "#fdca26"
            ],
            [
             1,
             "#f0f921"
            ]
           ]
          },
          "colorway": [
           "#636efa",
           "#EF553B",
           "#00cc96",
           "#ab63fa",
           "#FFA15A",
           "#19d3f3",
           "#FF6692",
           "#B6E880",
           "#FF97FF",
           "#FECB52"
          ],
          "font": {
           "color": "#2a3f5f"
          },
          "geo": {
           "bgcolor": "white",
           "lakecolor": "white",
           "landcolor": "#E5ECF6",
           "showlakes": true,
           "showland": true,
           "subunitcolor": "white"
          },
          "hoverlabel": {
           "align": "left"
          },
          "hovermode": "closest",
          "mapbox": {
           "style": "light"
          },
          "paper_bgcolor": "white",
          "plot_bgcolor": "#E5ECF6",
          "polar": {
           "angularaxis": {
            "gridcolor": "white",
            "linecolor": "white",
            "ticks": ""
           },
           "bgcolor": "#E5ECF6",
           "radialaxis": {
            "gridcolor": "white",
            "linecolor": "white",
            "ticks": ""
           }
          },
          "scene": {
           "xaxis": {
            "backgroundcolor": "#E5ECF6",
            "gridcolor": "white",
            "gridwidth": 2,
            "linecolor": "white",
            "showbackground": true,
            "ticks": "",
            "zerolinecolor": "white"
           },
           "yaxis": {
            "backgroundcolor": "#E5ECF6",
            "gridcolor": "white",
            "gridwidth": 2,
            "linecolor": "white",
            "showbackground": true,
            "ticks": "",
            "zerolinecolor": "white"
           },
           "zaxis": {
            "backgroundcolor": "#E5ECF6",
            "gridcolor": "white",
            "gridwidth": 2,
            "linecolor": "white",
            "showbackground": true,
            "ticks": "",
            "zerolinecolor": "white"
           }
          },
          "shapedefaults": {
           "line": {
            "color": "#2a3f5f"
           }
          },
          "ternary": {
           "aaxis": {
            "gridcolor": "white",
            "linecolor": "white",
            "ticks": ""
           },
           "baxis": {
            "gridcolor": "white",
            "linecolor": "white",
            "ticks": ""
           },
           "bgcolor": "#E5ECF6",
           "caxis": {
            "gridcolor": "white",
            "linecolor": "white",
            "ticks": ""
           }
          },
          "title": {
           "x": 0.05
          },
          "xaxis": {
           "automargin": true,
           "gridcolor": "white",
           "linecolor": "white",
           "ticks": "",
           "title": {
            "standoff": 15
           },
           "zerolinecolor": "white",
           "zerolinewidth": 2
          },
          "yaxis": {
           "automargin": true,
           "gridcolor": "white",
           "linecolor": "white",
           "ticks": "",
           "title": {
            "standoff": 15
           },
           "zerolinecolor": "white",
           "zerolinewidth": 2
          }
         }
        },
        "title": {
         "text": "What is overwatch 2?"
        },
        "xaxis": {
         "visible": false
        },
        "yaxis": {
         "visible": false
        }
       }
      }
     },
     "metadata": {},
     "output_type": "display_data"
    }
   ],
   "source": [
    "import plotly.graph_objects as go\n",
    "\n",
    "# Scatter plot for database embeddings\n",
    "scatter_dataset = go.Scatter(\n",
    "    x=projected_dataset_embeddings[:, 0],\n",
    "    y=projected_dataset_embeddings[:, 1],\n",
    "    mode='markers',\n",
    "    marker=dict(size=10, color='gray'),\n",
    "    name='Dataset Embeddings',\n",
    "    hovertext=db_documents,\n",
    "    hoverinfo='text',\n",
    "    hoverlabel = dict(font=dict(color='white'))\n",
    ")\n",
    "\n",
    "# Scatter plot for query embedding\n",
    "scatter_query = go.Scatter(\n",
    "    x=[projected_query_embedding[0, 0]],\n",
    "    y=[projected_query_embedding[0, 1]],\n",
    "    mode='markers',\n",
    "    marker={\"size\":25, \"color\":'red', \"symbol\":'x'},\n",
    "    name='Query Embedding',\n",
    "    hovertext=query,\n",
    "    hoverinfo='text'\n",
    ")\n",
    "\n",
    "# Scatter plot for retrieved embeddings\n",
    "scatter_retrieved = go.Scatter(\n",
    "    x=projected_retrieved_embeddings[:, 0],\n",
    "    y=projected_retrieved_embeddings[:, 1],\n",
    "    mode='markers',\n",
    "    marker=dict(size=15, color='orange', symbol='circle'),\n",
    "    name='Retrieved Embeddings',\n",
    "    hovertext=results['documents'][0],\n",
    "    hoverinfo='text'\n",
    ")\n",
    "\n",
    "# Define layout\n",
    "layout = go.Layout(\n",
    "    title=query,\n",
    "    xaxis=dict(visible=False),\n",
    "    yaxis=dict(visible=False)\n",
    ")\n",
    "\n",
    "# Create figure\n",
    "fig = go.Figure(data=[scatter_dataset, scatter_query, scatter_retrieved], layout=layout)\n",
    "\n",
    "# Display plot\n",
    "fig.show()\n"
   ]
  },
  {
   "cell_type": "code",
   "execution_count": null,
   "metadata": {},
   "outputs": [],
   "source": []
  }
 ],
 "metadata": {
  "kernelspec": {
   "display_name": "Python 3",
   "language": "python",
   "name": "python3"
  },
  "language_info": {
   "codemirror_mode": {
    "name": "ipython",
    "version": 3
   },
   "file_extension": ".py",
   "mimetype": "text/x-python",
   "name": "python",
   "nbconvert_exporter": "python",
   "pygments_lexer": "ipython3",
   "version": "3.11.7"
  }
 },
 "nbformat": 4,
 "nbformat_minor": 2
}
