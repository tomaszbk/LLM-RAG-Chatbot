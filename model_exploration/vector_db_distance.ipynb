{
 "cells": [
  {
   "cell_type": "code",
   "execution_count": 7,
   "metadata": {},
   "outputs": [],
   "source": [
    "import umap\n",
    "import numpy as np\n",
    "from tqdm import tqdm\n",
    "import matplotlib.pyplot as plt\n",
    "import chromadb\n",
    "from chromadb.config import Settings\n",
    "# pip install umap-learn\n",
    "\n",
    "\n",
    "db = chromadb.PersistentClient(path=\"../tests\", settings=Settings(anonymized_telemetry=False))\n",
    "\n",
    "collection = db.get_collection(name=\"test_collection\")\n",
    "\n",
    "embeddings = collection.query(query_texts=[\"overwatch2\"], n_results=5)"
   ]
  },
  {
   "cell_type": "code",
   "execution_count": 9,
   "metadata": {},
   "outputs": [
    {
     "data": {
      "text/plain": [
       "[0.6267114390506009,\n",
       " 0.6526260375976562,\n",
       " 0.6990808248519897,\n",
       " 0.732530951499939,\n",
       " 0.7521661520004272]"
      ]
     },
     "execution_count": 9,
     "metadata": {},
     "output_type": "execute_result"
    }
   ],
   "source": [
    "embeddings['distances'][0]"
   ]
  },
  {
   "cell_type": "markdown",
   "metadata": {},
   "source": [
    "0.6 ~ 0.8 is close, 1 and above is far."
   ]
  },
  {
   "cell_type": "code",
   "execution_count": 10,
   "metadata": {},
   "outputs": [
    {
     "data": {
      "text/plain": [
       "{'ids': [['138', '0', '5', '57', '14']],\n",
       " 'distances': [[0.6267114390506009,\n",
       "   0.6526260375976562,\n",
       "   0.6990808248519897,\n",
       "   0.732530951499939,\n",
       "   0.7521661520004272]],\n",
       " 'metadatas': [[None, None, None, None, None]],\n",
       " 'embeddings': None,\n",
       " 'documents': [['Overwatch 2, a standalone sequel, was announced at BlizzCon on November 1, 2019, and was released on October 4, 2022, as a free-to-play game for Nintendo Switch, PlayStation 4, PlayStation 5, Windows, Xbox One, and Xbox Series X and S.[223][224]',\n",
       "   'Overwatch (retroactively referred to as Overwatch 1[b]) was a 2016 team-based multiplayer first-person shooter game by Blizzard Entertainment. The game was first released for PlayStation 4, Windows, and Xbox One in May 2016 and Nintendo Switch in October 2019. Cross-platform play was supported across all platforms.',\n",
       "   'A sequel, Overwatch 2, was announced in 2019 and entered beta in 2022. The game is free to play, with all cosmetic items from Overwatch carried over while introducing new heroes, maps, and gamemodes. On October 3, 2022, the Overwatch servers were shut down in preparation for the release of Overwatch 2 the next day. Gameplay Main article: Gameplay of Overwatch',\n",
       "   'the game\\'s diverse character roster, and colorful settings, as well as the unlockable cosmetics earned through level progression and the smooth server connection.[75] Referencing its similarities to Team Fortress 2, Minotti confirmed that \"[Overwatch has] distinct classes, the team- and objective-based combat, and a bright, cartoon-like art style,\" and that \"Overwatch certainly takes plenty of inspiration from Valve online shooter series,\" but opines that \"[Overwatch is] just better.\"[75]',\n",
       "   'Plot See also: Characters of Overwatch']],\n",
       " 'uris': None,\n",
       " 'data': None}"
      ]
     },
     "execution_count": 10,
     "metadata": {},
     "output_type": "execute_result"
    }
   ],
   "source": [
    "embeddings"
   ]
  },
  {
   "cell_type": "code",
   "execution_count": null,
   "metadata": {},
   "outputs": [],
   "source": []
  }
 ],
 "metadata": {
  "kernelspec": {
   "display_name": "Python 3",
   "language": "python",
   "name": "python3"
  },
  "language_info": {
   "codemirror_mode": {
    "name": "ipython",
    "version": 3
   },
   "file_extension": ".py",
   "mimetype": "text/x-python",
   "name": "python",
   "nbconvert_exporter": "python",
   "pygments_lexer": "ipython3",
   "version": "3.11.7"
  }
 },
 "nbformat": 4,
 "nbformat_minor": 2
}
