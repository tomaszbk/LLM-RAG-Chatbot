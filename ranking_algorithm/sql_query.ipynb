{
 "cells": [
  {
   "cell_type": "code",
   "execution_count": 9,
   "metadata": {},
   "outputs": [],
   "source": [
    "from sqlalchemy import create_engine\n",
    "from sqlalchemy.orm import sessionmaker\n",
    "\n",
    "\n",
    "from models import Player\n",
    "\n",
    "DATABASE_URL = \"sqlite:///ranking.db\"\n",
    "engine = create_engine(DATABASE_URL)\n",
    "\n",
    "\n",
    "Session = sessionmaker(bind=engine)\n",
    "session = Session()"
   ]
  },
  {
   "cell_type": "code",
   "execution_count": 11,
   "metadata": {},
   "outputs": [
    {
     "name": "stdout",
     "output_type": "stream",
     "text": [
      "rank 1:  jujutsu op 4\n",
      "rank 2:  ousama op 2\n",
      "rank 3:  spy family op 1\n",
      "rank 4:  kimetsu op\n",
      "rank 5:  psycho pass op 2\n",
      "rank 6:  haikyu op 5\n",
      "rank 7:  undead unluck op\n",
      "rank 8:  bnh op 1\n",
      "rank 9:  mob psycho op 2\n",
      "rank 10:  fma op 3\n",
      "rank 11:  bleach op 12\n",
      "rank 12:  jojo chase\n",
      "rank 13:  made in abyss op 2\n",
      "rank 14:  shokugeki no soma op 6\n",
      "rank 15:  aot op 5\n"
     ]
    }
   ],
   "source": [
    "players = session.query(Player).order_by(Player.rank).all()\n",
    "for p in players:\n",
    "    print(f\"rank {p.rank}: \",p.name)"
   ]
  }
 ],
 "metadata": {
  "kernelspec": {
   "display_name": "Python 3",
   "language": "python",
   "name": "python3"
  },
  "language_info": {
   "codemirror_mode": {
    "name": "ipython",
    "version": 3
   },
   "file_extension": ".py",
   "mimetype": "text/x-python",
   "name": "python",
   "nbconvert_exporter": "python",
   "pygments_lexer": "ipython3",
   "version": "3.11.7"
  }
 },
 "nbformat": 4,
 "nbformat_minor": 2
}
