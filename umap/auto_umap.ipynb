{
 "cells": [
  {
   "cell_type": "code",
   "execution_count": 1,
   "metadata": {},
   "outputs": [
    {
     "name": "stderr",
     "output_type": "stream",
     "text": [
      "c:\\Users\\tzbk\\AppData\\Local\\Programs\\Python\\Python311\\Lib\\site-packages\\torch\\_utils.py:831: UserWarning: TypedStorage is deprecated. It will be removed in the future and UntypedStorage will be the only storage class. This should only matter to you if you are using storages directly.  To access UntypedStorage directly, use tensor.untyped_storage() instead of tensor.storage()\n",
      "  return self.fget.__get__(instance, owner)()\n",
      "  1%|          | 1/81 [00:05<07:26,  5.58s/it]\n"
     ]
    },
    {
     "ename": "KeyboardInterrupt",
     "evalue": "",
     "output_type": "error",
     "traceback": [
      "\u001b[1;31m---------------------------------------------------------------------------\u001b[0m",
      "\u001b[1;31mKeyboardInterrupt\u001b[0m                         Traceback (most recent call last)",
      "Cell \u001b[1;32mIn[1], line 35\u001b[0m\n\u001b[0;32m     32\u001b[0m         umap_embeddings[i] \u001b[38;5;241m=\u001b[39m umap_transform\u001b[38;5;241m.\u001b[39mtransform([embedding])\n\u001b[0;32m     33\u001b[0m     \u001b[38;5;28;01mreturn\u001b[39;00m umap_embeddings\n\u001b[1;32m---> 35\u001b[0m projected_dataset_embeddings \u001b[38;5;241m=\u001b[39m \u001b[43mproject_embeddings\u001b[49m\u001b[43m(\u001b[49m\u001b[43membeddings\u001b[49m\u001b[43m[\u001b[49m\u001b[38;5;124;43m'\u001b[39;49m\u001b[38;5;124;43membeddings\u001b[39;49m\u001b[38;5;124;43m'\u001b[39;49m\u001b[43m]\u001b[49m\u001b[43m,\u001b[49m\u001b[43m \u001b[49m\u001b[43mumap_transform\u001b[49m\u001b[43m)\u001b[49m\n\u001b[0;32m     37\u001b[0m query \u001b[38;5;241m=\u001b[39m \u001b[38;5;124m\"\u001b[39m\u001b[38;5;124mWhat is overwatch 2?\u001b[39m\u001b[38;5;124m\"\u001b[39m\n\u001b[0;32m     39\u001b[0m results \u001b[38;5;241m=\u001b[39m collection\u001b[38;5;241m.\u001b[39mquery(query_texts\u001b[38;5;241m=\u001b[39mquery, n_results\u001b[38;5;241m=\u001b[39m\u001b[38;5;241m3\u001b[39m, include\u001b[38;5;241m=\u001b[39m[\u001b[38;5;124m'\u001b[39m\u001b[38;5;124mdocuments\u001b[39m\u001b[38;5;124m'\u001b[39m, \u001b[38;5;124m'\u001b[39m\u001b[38;5;124membeddings\u001b[39m\u001b[38;5;124m'\u001b[39m])\n",
      "Cell \u001b[1;32mIn[1], line 32\u001b[0m, in \u001b[0;36mproject_embeddings\u001b[1;34m(embeddings, umap_transform)\u001b[0m\n\u001b[0;32m     30\u001b[0m umap_embeddings \u001b[38;5;241m=\u001b[39m np\u001b[38;5;241m.\u001b[39mempty((\u001b[38;5;28mlen\u001b[39m(embeddings),\u001b[38;5;241m2\u001b[39m))\n\u001b[0;32m     31\u001b[0m \u001b[38;5;28;01mfor\u001b[39;00m i, embedding \u001b[38;5;129;01min\u001b[39;00m \u001b[38;5;28menumerate\u001b[39m(tqdm(embeddings)):\n\u001b[1;32m---> 32\u001b[0m     umap_embeddings[i] \u001b[38;5;241m=\u001b[39m \u001b[43mumap_transform\u001b[49m\u001b[38;5;241;43m.\u001b[39;49m\u001b[43mtransform\u001b[49m\u001b[43m(\u001b[49m\u001b[43m[\u001b[49m\u001b[43membedding\u001b[49m\u001b[43m]\u001b[49m\u001b[43m)\u001b[49m\n\u001b[0;32m     33\u001b[0m \u001b[38;5;28;01mreturn\u001b[39;00m umap_embeddings\n",
      "File \u001b[1;32mc:\\Users\\tzbk\\AppData\\Local\\Programs\\Python\\Python311\\Lib\\site-packages\\umap\\umap_.py:3090\u001b[0m, in \u001b[0;36mUMAP.transform\u001b[1;34m(self, X, force_all_finite)\u001b[0m\n\u001b[0;32m   3084\u001b[0m \u001b[38;5;66;03m# optimize_layout = make_optimize_layout(\u001b[39;00m\n\u001b[0;32m   3085\u001b[0m \u001b[38;5;66;03m#     self._output_distance_func,\u001b[39;00m\n\u001b[0;32m   3086\u001b[0m \u001b[38;5;66;03m#     tuple(self.output_metric_kwds.values()),\u001b[39;00m\n\u001b[0;32m   3087\u001b[0m \u001b[38;5;66;03m# )\u001b[39;00m\n\u001b[0;32m   3089\u001b[0m \u001b[38;5;28;01mif\u001b[39;00m \u001b[38;5;28mself\u001b[39m\u001b[38;5;241m.\u001b[39moutput_metric \u001b[38;5;241m==\u001b[39m \u001b[38;5;124m\"\u001b[39m\u001b[38;5;124meuclidean\u001b[39m\u001b[38;5;124m\"\u001b[39m:\n\u001b[1;32m-> 3090\u001b[0m     embedding \u001b[38;5;241m=\u001b[39m \u001b[43moptimize_layout_euclidean\u001b[49m\u001b[43m(\u001b[49m\n\u001b[0;32m   3091\u001b[0m \u001b[43m        \u001b[49m\u001b[43membedding\u001b[49m\u001b[43m,\u001b[49m\n\u001b[0;32m   3092\u001b[0m \u001b[43m        \u001b[49m\u001b[38;5;28;43mself\u001b[39;49m\u001b[38;5;241;43m.\u001b[39;49m\u001b[43membedding_\u001b[49m\u001b[38;5;241;43m.\u001b[39;49m\u001b[43mastype\u001b[49m\u001b[43m(\u001b[49m\u001b[43mnp\u001b[49m\u001b[38;5;241;43m.\u001b[39;49m\u001b[43mfloat32\u001b[49m\u001b[43m,\u001b[49m\u001b[43m \u001b[49m\u001b[43mcopy\u001b[49m\u001b[38;5;241;43m=\u001b[39;49m\u001b[38;5;28;43;01mTrue\u001b[39;49;00m\u001b[43m)\u001b[49m\u001b[43m,\u001b[49m\u001b[43m  \u001b[49m\u001b[38;5;66;43;03m# Fixes #179 & #217,\u001b[39;49;00m\n\u001b[0;32m   3093\u001b[0m \u001b[43m        \u001b[49m\u001b[43mhead\u001b[49m\u001b[43m,\u001b[49m\n\u001b[0;32m   3094\u001b[0m \u001b[43m        \u001b[49m\u001b[43mtail\u001b[49m\u001b[43m,\u001b[49m\n\u001b[0;32m   3095\u001b[0m \u001b[43m        \u001b[49m\u001b[43mn_epochs\u001b[49m\u001b[43m,\u001b[49m\n\u001b[0;32m   3096\u001b[0m \u001b[43m        \u001b[49m\u001b[43mgraph\u001b[49m\u001b[38;5;241;43m.\u001b[39;49m\u001b[43mshape\u001b[49m\u001b[43m[\u001b[49m\u001b[38;5;241;43m1\u001b[39;49m\u001b[43m]\u001b[49m\u001b[43m,\u001b[49m\n\u001b[0;32m   3097\u001b[0m \u001b[43m        \u001b[49m\u001b[43mepochs_per_sample\u001b[49m\u001b[43m,\u001b[49m\n\u001b[0;32m   3098\u001b[0m \u001b[43m        \u001b[49m\u001b[38;5;28;43mself\u001b[39;49m\u001b[38;5;241;43m.\u001b[39;49m\u001b[43m_a\u001b[49m\u001b[43m,\u001b[49m\n\u001b[0;32m   3099\u001b[0m \u001b[43m        \u001b[49m\u001b[38;5;28;43mself\u001b[39;49m\u001b[38;5;241;43m.\u001b[39;49m\u001b[43m_b\u001b[49m\u001b[43m,\u001b[49m\n\u001b[0;32m   3100\u001b[0m \u001b[43m        \u001b[49m\u001b[43mrng_state\u001b[49m\u001b[43m,\u001b[49m\n\u001b[0;32m   3101\u001b[0m \u001b[43m        \u001b[49m\u001b[38;5;28;43mself\u001b[39;49m\u001b[38;5;241;43m.\u001b[39;49m\u001b[43mrepulsion_strength\u001b[49m\u001b[43m,\u001b[49m\n\u001b[0;32m   3102\u001b[0m \u001b[43m        \u001b[49m\u001b[38;5;28;43mself\u001b[39;49m\u001b[38;5;241;43m.\u001b[39;49m\u001b[43m_initial_alpha\u001b[49m\u001b[43m \u001b[49m\u001b[38;5;241;43m/\u001b[39;49m\u001b[43m \u001b[49m\u001b[38;5;241;43m4.0\u001b[39;49m\u001b[43m,\u001b[49m\n\u001b[0;32m   3103\u001b[0m \u001b[43m        \u001b[49m\u001b[38;5;28;43mself\u001b[39;49m\u001b[38;5;241;43m.\u001b[39;49m\u001b[43mnegative_sample_rate\u001b[49m\u001b[43m,\u001b[49m\n\u001b[0;32m   3104\u001b[0m \u001b[43m        \u001b[49m\u001b[38;5;28;43mself\u001b[39;49m\u001b[38;5;241;43m.\u001b[39;49m\u001b[43mrandom_state\u001b[49m\u001b[43m \u001b[49m\u001b[38;5;129;43;01mis\u001b[39;49;00m\u001b[43m \u001b[49m\u001b[38;5;28;43;01mNone\u001b[39;49;00m\u001b[43m,\u001b[49m\n\u001b[0;32m   3105\u001b[0m \u001b[43m        \u001b[49m\u001b[43mverbose\u001b[49m\u001b[38;5;241;43m=\u001b[39;49m\u001b[38;5;28;43mself\u001b[39;49m\u001b[38;5;241;43m.\u001b[39;49m\u001b[43mverbose\u001b[49m\u001b[43m,\u001b[49m\n\u001b[0;32m   3106\u001b[0m \u001b[43m        \u001b[49m\u001b[43mtqdm_kwds\u001b[49m\u001b[38;5;241;43m=\u001b[39;49m\u001b[38;5;28;43mself\u001b[39;49m\u001b[38;5;241;43m.\u001b[39;49m\u001b[43mtqdm_kwds\u001b[49m\u001b[43m,\u001b[49m\n\u001b[0;32m   3107\u001b[0m \u001b[43m    \u001b[49m\u001b[43m)\u001b[49m\n\u001b[0;32m   3108\u001b[0m \u001b[38;5;28;01melse\u001b[39;00m:\n\u001b[0;32m   3109\u001b[0m     embedding \u001b[38;5;241m=\u001b[39m optimize_layout_generic(\n\u001b[0;32m   3110\u001b[0m         embedding,\n\u001b[0;32m   3111\u001b[0m         \u001b[38;5;28mself\u001b[39m\u001b[38;5;241m.\u001b[39membedding_\u001b[38;5;241m.\u001b[39mastype(np\u001b[38;5;241m.\u001b[39mfloat32, copy\u001b[38;5;241m=\u001b[39m\u001b[38;5;28;01mTrue\u001b[39;00m),  \u001b[38;5;66;03m# Fixes #179 & #217\u001b[39;00m\n\u001b[1;32m   (...)\u001b[0m\n\u001b[0;32m   3126\u001b[0m         tqdm_kwds\u001b[38;5;241m=\u001b[39m\u001b[38;5;28mself\u001b[39m\u001b[38;5;241m.\u001b[39mtqdm_kwds,\n\u001b[0;32m   3127\u001b[0m     )\n",
      "File \u001b[1;32mc:\\Users\\tzbk\\AppData\\Local\\Programs\\Python\\Python311\\Lib\\site-packages\\umap\\layouts.py:380\u001b[0m, in \u001b[0;36moptimize_layout_euclidean\u001b[1;34m(head_embedding, tail_embedding, head, tail, n_epochs, n_vertices, epochs_per_sample, a, b, rng_state, gamma, initial_alpha, negative_sample_rate, parallel, verbose, densmap, densmap_kwds, tqdm_kwds, move_other)\u001b[0m\n\u001b[0;32m    377\u001b[0m     dens_re_mean \u001b[38;5;241m=\u001b[39m \u001b[38;5;241m0\u001b[39m\n\u001b[0;32m    378\u001b[0m     dens_re_cov \u001b[38;5;241m=\u001b[39m \u001b[38;5;241m0\u001b[39m\n\u001b[1;32m--> 380\u001b[0m \u001b[43moptimize_fn\u001b[49m\u001b[43m(\u001b[49m\n\u001b[0;32m    381\u001b[0m \u001b[43m    \u001b[49m\u001b[43mhead_embedding\u001b[49m\u001b[43m,\u001b[49m\n\u001b[0;32m    382\u001b[0m \u001b[43m    \u001b[49m\u001b[43mtail_embedding\u001b[49m\u001b[43m,\u001b[49m\n\u001b[0;32m    383\u001b[0m \u001b[43m    \u001b[49m\u001b[43mhead\u001b[49m\u001b[43m,\u001b[49m\n\u001b[0;32m    384\u001b[0m \u001b[43m    \u001b[49m\u001b[43mtail\u001b[49m\u001b[43m,\u001b[49m\n\u001b[0;32m    385\u001b[0m \u001b[43m    \u001b[49m\u001b[43mn_vertices\u001b[49m\u001b[43m,\u001b[49m\n\u001b[0;32m    386\u001b[0m \u001b[43m    \u001b[49m\u001b[43mepochs_per_sample\u001b[49m\u001b[43m,\u001b[49m\n\u001b[0;32m    387\u001b[0m \u001b[43m    \u001b[49m\u001b[43ma\u001b[49m\u001b[43m,\u001b[49m\n\u001b[0;32m    388\u001b[0m \u001b[43m    \u001b[49m\u001b[43mb\u001b[49m\u001b[43m,\u001b[49m\n\u001b[0;32m    389\u001b[0m \u001b[43m    \u001b[49m\u001b[43mrng_state\u001b[49m\u001b[43m,\u001b[49m\n\u001b[0;32m    390\u001b[0m \u001b[43m    \u001b[49m\u001b[43mgamma\u001b[49m\u001b[43m,\u001b[49m\n\u001b[0;32m    391\u001b[0m \u001b[43m    \u001b[49m\u001b[43mdim\u001b[49m\u001b[43m,\u001b[49m\n\u001b[0;32m    392\u001b[0m \u001b[43m    \u001b[49m\u001b[43mmove_other\u001b[49m\u001b[43m,\u001b[49m\n\u001b[0;32m    393\u001b[0m \u001b[43m    \u001b[49m\u001b[43malpha\u001b[49m\u001b[43m,\u001b[49m\n\u001b[0;32m    394\u001b[0m \u001b[43m    \u001b[49m\u001b[43mepochs_per_negative_sample\u001b[49m\u001b[43m,\u001b[49m\n\u001b[0;32m    395\u001b[0m \u001b[43m    \u001b[49m\u001b[43mepoch_of_next_negative_sample\u001b[49m\u001b[43m,\u001b[49m\n\u001b[0;32m    396\u001b[0m \u001b[43m    \u001b[49m\u001b[43mepoch_of_next_sample\u001b[49m\u001b[43m,\u001b[49m\n\u001b[0;32m    397\u001b[0m \u001b[43m    \u001b[49m\u001b[43mn\u001b[49m\u001b[43m,\u001b[49m\n\u001b[0;32m    398\u001b[0m \u001b[43m    \u001b[49m\u001b[43mdensmap_flag\u001b[49m\u001b[43m,\u001b[49m\n\u001b[0;32m    399\u001b[0m \u001b[43m    \u001b[49m\u001b[43mdens_phi_sum\u001b[49m\u001b[43m,\u001b[49m\n\u001b[0;32m    400\u001b[0m \u001b[43m    \u001b[49m\u001b[43mdens_re_sum\u001b[49m\u001b[43m,\u001b[49m\n\u001b[0;32m    401\u001b[0m \u001b[43m    \u001b[49m\u001b[43mdens_re_cov\u001b[49m\u001b[43m,\u001b[49m\n\u001b[0;32m    402\u001b[0m \u001b[43m    \u001b[49m\u001b[43mdens_re_std\u001b[49m\u001b[43m,\u001b[49m\n\u001b[0;32m    403\u001b[0m \u001b[43m    \u001b[49m\u001b[43mdens_re_mean\u001b[49m\u001b[43m,\u001b[49m\n\u001b[0;32m    404\u001b[0m \u001b[43m    \u001b[49m\u001b[43mdens_lambda\u001b[49m\u001b[43m,\u001b[49m\n\u001b[0;32m    405\u001b[0m \u001b[43m    \u001b[49m\u001b[43mdens_R\u001b[49m\u001b[43m,\u001b[49m\n\u001b[0;32m    406\u001b[0m \u001b[43m    \u001b[49m\u001b[43mdens_mu\u001b[49m\u001b[43m,\u001b[49m\n\u001b[0;32m    407\u001b[0m \u001b[43m    \u001b[49m\u001b[43mdens_mu_tot\u001b[49m\u001b[43m,\u001b[49m\n\u001b[0;32m    408\u001b[0m \u001b[43m\u001b[49m\u001b[43m)\u001b[49m\n\u001b[0;32m    410\u001b[0m alpha \u001b[38;5;241m=\u001b[39m initial_alpha \u001b[38;5;241m*\u001b[39m (\u001b[38;5;241m1.0\u001b[39m \u001b[38;5;241m-\u001b[39m (\u001b[38;5;28mfloat\u001b[39m(n) \u001b[38;5;241m/\u001b[39m \u001b[38;5;28mfloat\u001b[39m(n_epochs)))\n\u001b[0;32m    412\u001b[0m \u001b[38;5;28;01mif\u001b[39;00m verbose \u001b[38;5;129;01mand\u001b[39;00m n \u001b[38;5;241m%\u001b[39m \u001b[38;5;28mint\u001b[39m(n_epochs \u001b[38;5;241m/\u001b[39m \u001b[38;5;241m10\u001b[39m) \u001b[38;5;241m==\u001b[39m \u001b[38;5;241m0\u001b[39m:\n",
      "\u001b[1;31mKeyboardInterrupt\u001b[0m: "
     ]
    }
   ],
   "source": [
    "import umap\n",
    "import numpy as np\n",
    "from tqdm import tqdm\n",
    "import matplotlib.pyplot as plt\n",
    "import chromadb\n",
    "from chromadb.config import Settings\n",
    "# pip install umap-learn\n",
    "\n",
    "from app.infrastructure.vector_db import retrieve_context, store_embedding_with_document\n",
    "from app.services.embedding_model import get_sentence_embedding\n",
    "from app.services.splitter import text_splitter\n",
    "\n",
    "db = chromadb.EphemeralClient(settings=Settings(anonymized_telemetry=False))\n",
    "# db.delete_collection(name=\"test_collection\")\n",
    "collection = db.get_or_create_collection(name=\"make_umap\")\n",
    "with open(\"tests/ow.txt\") as file:\n",
    "    text = file.read()\n",
    "chunks = text_splitter.split_text(text)\n",
    "for i, chunk in enumerate(chunks):\n",
    "    chunk = chunk.replace(\"\\n\", \" \")\n",
    "    embedding = get_sentence_embedding(chunk)\n",
    "    store_embedding_with_document(embedding, str(i), chunk, collection=collection)\n",
    "\n",
    "embeddings = collection.get(include=['embeddings', 'documents'])\n",
    "np_embeddings = np.array(embeddings['embeddings'])\n",
    "\n",
    "umap_transform = umap.UMAP().fit(np_embeddings)\n",
    "\n",
    "def project_embeddings(embeddings, umap_transform):\n",
    "    umap_embeddings = np.empty((len(embeddings),2))\n",
    "    for i, embedding in enumerate(tqdm(embeddings)):\n",
    "        umap_embeddings[i] = umap_transform.transform([embedding])\n",
    "    return umap_embeddings\n",
    "\n",
    "projected_dataset_embeddings = project_embeddings(embeddings['embeddings'], umap_transform)\n",
    "\n",
    "query = \"What is overwatch 2?\"\n",
    "\n",
    "results = collection.query(query_texts=query, n_results=3, include=['documents', 'embeddings'])\n",
    "\n",
    "query_embedding = get_sentence_embedding([query])\n",
    "retrieved_embeddings = results['embeddings'][0]\n",
    "\n",
    "projected_query_embedding = project_embeddings([query_embedding], umap_transform)\n",
    "projected_retrieved_embeddings = project_embeddings(retrieved_embeddings, umap_transform)\n",
    "\n",
    "db_documents = []\n",
    "for x in embeddings['documents']:\n",
    "    result = ''\n",
    "    for i in range(0, len(x), 70):\n",
    "        result += x[i:i+70] + '<br>'\n",
    "    db_documents.append(result)"
   ]
  },
  {
   "cell_type": "code",
   "execution_count": null,
   "metadata": {},
   "outputs": [],
   "source": [
    "retrieved_documents = []\n",
    "for x in results['documents'][0]:\n",
    "    result = ''\n",
    "    for i in range(0, len(x), 70):\n",
    "        result += x[i:i+70] + '<br>'\n",
    "    retrieved_documents.append(result)"
   ]
  },
  {
   "cell_type": "code",
   "execution_count": null,
   "metadata": {},
   "outputs": [
    {
     "data": {
      "application/vnd.plotly.v1+json": {
       "config": {
        "plotlyServerURL": "https://plot.ly"
       },
       "data": [
        {
         "hoverinfo": "text",
         "hoverlabel": {
          "font": {
           "color": "white"
          }
         },
         "hovertext": [
          "Overwatch (retroactively referred to as Overwatch 1[b]) was a 2016 tea<br>m-based multiplayer first-person shooter game by Blizzard Entertainmen<br>t. The game was first released for PlayStation 4, Windows, and Xbox On<br>e in May 2016 and Nintendo Switch in October 2019. Cross-platform play<br> was supported across all platforms.  Described as a \"hero shooter\", O<br>verwatch assigned players into two teams of six, with each player sele<br>cting from a large roster of characters, known as \"heroes\", with uniqu<br>e abilities. Teams worked to complete map-specific objectives within a<br> limited period of time. Blizzard added new characters, maps, and game<br> modes post-release, all free of charge, with the only additional cost<br> to players being optional loot boxes to purchase cosmetic items.<br>",
          "Overwatch is Blizzard's fourth major franchise and came about followin<br>g the 2014 cancellation of a massively multiplayer online role-playing<br> game, Titan. A portion of the Titan team were inspired by the success<br> of team-based first-person shooters like Team Fortress 2 and the popu<br>larity of multiplayer online battle arena games, creating a hero-based<br> shooter which emphasized teamwork. Some elements of Overwatch borrow <br>concepts from the canceled Titan project.<br>",
          "Overwatch is set sixty years into the future of a fictionalized Earth,<br> thirty years after the resolution of what is known as the \"Omnic Cris<br>is.\"[11] Before the Omnic Crisis, humanity had been in a golden age of<br> prosperity and technology development. Humans developed robots with a<br>rtificial intelligence called \"Omnics\", which were put to use to achie<br>ve economic equality, and began to be treated as people in their own r<br>ight. The Omnic Crisis began when the worldwide automated \"omnium\" fac<br>ilities that produced them started producing a series of lethal, hosti<br>le robots that attacked humankind. After individual nations' efforts f<br>ailed to ward off the Omnics, the United Nations quickly formed Overwa<br>tch, an international task force designed to combat this threat and re<br>store order.[12]<br>",
          "Two veteran soldiers from the Soldier Enhancement Program were put in <br>charge of Overwatch: Gabriel Reyes and Jack Morrison. Though Overwatch<br> successfully quelled the robotic uprising and brought many talented i<br>ndividuals to the forefront, a rift developed between Reyes and Morris<br>on due to Reyes being the official leader of the group despite everyon<br>e viewing the more popular Morrison as their true leader. Eventually, <br>Morrison was made the leader of Overwatch while Reyes was given charge<br> of Blackwatch, Overwatch's covert operations division, fighting terro<br>rist organizations like Talon, a group that appears to be trying to st<br>art a second Omnic Crisis, and Null Sector, a group of Omnics that rev<br>olted against the society that persecuted Omnics following the first C<br>risis.[12] Overwatch<br>",
          "a group that appears to be trying to start a second Omnic Crisis, and <br>Null Sector, a group of Omnics that revolted against the society that <br>persecuted Omnics following the first Crisis.[12] Overwatch continued <br>to maintain peace across the world for several decades in what came to<br> be called the \"Overwatch Generation\" as the team gained more members,<br> but the rift between Morrison and Reyes intensified. One night, Black<br>watch was dispatched to arrest a notorious mobster with ties to Talon.<br> After infiltrating the compound, Reyes chose to execute the mobster r<br>ather than let him buy his way out of prison. This action caused Black<br>watch and their less heroic actions to be exposed to the public. Sever<br>al allegations of wrongdoing and failures were leveled at Overwatch, l<br>eading to a public outcry<br>",
          "prison. This action caused Blackwatch and their less heroic actions to<br> be exposed to the public. Several allegations of wrongdoing and failu<br>res were leveled at Overwatch, leading to a public outcry against the <br>organization and in-fighting between its members, prompting the UN to <br>investigate the situation. During this, an explosion destroyed Overwat<br>ch's headquarters in Switzerland, purportedly killing Morrison and Rey<br>es among others. The UN passed the Petras Act, which dismantled Overwa<br>tch and forbade any Overwatch-type activity.[12]<br>",
          "Overwatch is set six years after the Petras Act; without Overwatch, co<br>rporations have started to take over, fighting and terrorism have brok<br>en out in parts of the globe, and there are signs of a second Omnic Cr<br>isis occurring in Russia. The intelligent gorilla Winston, a former me<br>mber of Overwatch, decides to begin reforming Overwatch to protect the<br> peace once again despite the Petras Act, with the team members recrui<br>ting old friends and gaining new allies in their fight.[13] It is reve<br>aled that Reyes and Morrison were not killed in the explosion resultin<br>g from their battle: Morrison became a masked vigilante known as \"Sold<br>ier: 76\", who is trying to uncover the reasons why Overwatch was shut <br>down, while Reyes joined Talon. Which lead to him being experimented o<br>n by Moira[14] who then<br>",
          "a masked vigilante known as \"Soldier: 76\", who is trying to uncover th<br>e reasons why Overwatch was shut down, while Reyes joined Talon. Which<br> lead to him being experimented on by Moira[14] who then became \"Reape<br>r\", a terrorist with a Death-like appearance.<br>",
          "Development Main article: Development of Overwatch Former lead directo<br>r Jeff Kaplan<br>",
          "Overwatch was developed by Blizzard Team 4 and published by Blizzard E<br>ntertainment.[15][16] The game came about in the aftermath of Blizzard<br>'s decision to cancel the massively multiplayer online role-playing ga<br>me Titan in 2013, a project that had been in development for about sev<br>en years. While most others assigned to the project were transferred t<br>o other departments within Blizzard, a small team of about 40 people, <br>led by director Jeff Kaplan, were tasked to come up with a new concept<br> for a game in a few months. After some brainstorming, they came onto <br>the idea of a hero team-based shooter, building upon the success of ga<br>mes like Team Fortress 2 and multiplayer online battle arenas. They st<br>arted with assets developed for Titan to demonstrate the proof-of-conc<br>ept and were greenlit to<br>",
          "building upon the success of games like Team Fortress 2 and multiplaye<br>r online battle arenas. They started with assets developed for Titan t<br>o demonstrate the proof-of-concept and were greenlit to build out the <br>full game, the first new intellectual property that Blizzard had devel<br>oped since StarCraft.[17][18]<br>",
          "The intra-company experience of Titan's cancellation served to help dr<br>ive the narrative and setting. They created an optimistic vision of th<br>e near-future, some decades following the Omnic Crisis and the formati<br>on and collapse of the peacekeeping Overwatch group. This allowed them<br> to create a diverse cast of characters, including non-human ones, and<br> colorful settings from around the globe.[19] The Overwatch team conti<br>nues to support the game through free updates, the introduction of new<br> characters, maps, game modes, cosmetic items, seasonal events, and ex<br>ternal media to support the game's narrative, as well as continuously <br>tuning how the individual heroes play by monitoring meta-game statisti<br>cs and user feedback.[20] New characters and maps were added regularly<br> to the game since launch,<br>",
          "Overwatch was unveiled at the 2014 BlizzCon event and was in a closed <br>beta from late 2015 through early 2016. An open beta before release dr<br>ew in nearly 10 million players. Overwatch received universal acclaim <br>from critics, who praised the game for its accessibility, the diverse <br>appeal of its hero characters, its cartoonish art style, and enjoyable<br> gameplay. Blizzard reported over US$1 billion in revenue during the f<br>irst year of its release and had more than 50 million players after th<br>ree years. Overwatch is considered to be among the greatest video game<br>s ever made, receiving numerous game of the year awards and other acco<br>lades. The game is a popular esport, with Blizzard funding and produci<br>ng the global Overwatch League.<br>",
          "as well as continuously tuning how the individual heroes play by monit<br>oring meta-game statistics and user feedback.[20] New characters and m<br>aps were added regularly to the game since launch, expanding the origi<br>nal hero roster from 21 in May 2016 to 32 by April 2020. Since April 2<br>020 however, no heroes have been released, as the development team is <br>focused on creating Overwatch 2.[21]<br>",
          "Overwatch's development had been led by Kaplan through April 2021, aft<br>er which he departed Blizzard. Kaplan's duties were taken over by Aaro<br>n Keller following his departure.[22] Release and marketing  Overwatch<br> was formally announced at the BlizzCon event on November 7, 2014; the<br> game was playable during the event to all attendees, with fourteen ch<br>aracters available to select from.[23] During this event, Blizzard rel<br>eased a cinematic trailer and an extended gameplay video for the game.<br>[24][25] A month after the BlizzCon event, in December 2014, Blizzard <br>published character introduction videos to its YouTube channel and fol<br>lowed up on this May 2015 by posting weekly videos of game footage and<br> character highlights.[23]<br>",
          "A closed beta period for Overwatch across all three platforms began on<br> October 27, 2015.[26] The closed beta was put on \"extended break\" in <br>December and brought back in February 2016.[27] Following the March 20<br>16 release announcement, Blizzard announced an open beta period from M<br>ay 5 to 9 for any registered user of the Battle.net client.[28][29] Th<br>e open beta proved popular with Blizzard reporting over 9.7 million pl<br>ayers participating,[30] and as a way of showing thanks, extended the <br>open beta period by one extra day.[31]<br>",
          "In the week before release, Blizzard arranged to have three giant-size<br>d boxes (approximately 15 feet (4.6 m) tall) of various Overwatch hero<br>es, as if being sold as packaged action figures, put on display across<br> the globe at Hollywood, Paris, and Busan, South Korea.[32][33][34] Th<br>e displays were created by Alliance Studios, led by Steve Wang, who ha<br>s collaborated with Blizzard before on past projects, and Eddie Yang.[<br>35] After planning the design of the sculptures in January 2016, teams<br> across the world, including Droga5, Scicon, Stratasys and Egads, race<br>d to print, finish and assemble the works in time for the game's relea<br>se.[36] Propelled by Overwatch, Blizzard had over 50% of the American <br>advertisement share among gaming industry brands from May 16 to June 1<br>5, 2016.[37]<br>",
          "Overwatch was released for PlayStation 4, Windows, and Xbox One on May<br> 24, 2016. Blizzard allowed retailers to sell physical copies of the g<br>ame a day before to help players prepare for the servers' launch.[38][<br>39]  Two special editions of Overwatch were released alongside the bas<br>e game. The Origins Edition, available both as a downloadable and reta<br>il product, includes the base game and five additional character skins<br>, as well as other bonus items for other Blizzard games via Battle.net<br>.[40] The Collectors Edition, only available as retail, includes the O<br>rigins Edition content as well as a statue of Soldier: 76, one of the <br>playable characters, along with the game's soundtrack and a source boo<br>k.[41]<br>",
          "In honor of its first anniversary in 2017, Blizzard released a digital<br> Game of the Year edition of Overwatch. It includes all content from t<br>he Origins Edition, in addition to ten free loot boxes.[42] Blizzard h<br>ad expressed interest in supporting cross-platform play between consol<br>e systems in the future, though initially had no plans for Windows-sup<br>ported cross-play due to the precision advantage of keyboard-mouse con<br>trols over controller-based ones.[43][44] However, in June 2021, Blizz<br>ard brought cross-platform play to Overwatch across all supported plat<br>forms, with a beta test launched at the start of the month before full<br> release by the end of June. To deal with the control differences, the<br> game's competitive mode would still remain segregated between console<br> players and computer<br>",
          "at the start of the month before full release by the end of June. To d<br>eal with the control differences, the game's competitive mode would st<br>ill remain segregated between console players and computer players, bu<br>t all other game modes would allow for cross-play on any combination o<br>f platforms, after users register their account via Battle.net.[45][46<br>]<br>",
          "The game was announced for Nintendo Switch during the September 2019 N<br>intendo Direct, the Switch had the Overwatch: Legendary Edition and wa<br>s released in North America and Europe on October 15, 2019,[47] and in<br> Japan on November 29, 2019. The Switch version, developed by Iron Gal<br>axy, includes support for the console's gyroscopic controls for some a<br>ctions, such as controlling Junkrat's Rip-tire, and maneuvering Wrecki<br>ng Ball in his spherical form.[47][48][49] The version is equivalent t<br>o the existing version of the game on other platforms, including all h<br>eroes, maps, and game modes, although Switch players will not be able <br>to participate in the game's current Competition season as to give pla<br>yers a chance to adjust to the console's controls before introducing r<br>anked play.[50] The version<br>",
          "Switch players will not be able to participate in the game's current C<br>ompetition season as to give players a chance to adjust to the console<br>'s controls before introducing ranked play.[50] The version has a game<br> case for retailers in North America and Europe but does not include a<br> physical Game Card, featuring a download code instead.[51]<br>",
          "The Xbox One version of the game received an optimization patch in Mar<br>ch 2021, adding new performance settings when played using backwards c<br>ompatibility on Xbox Series X/S, allowing the game to run at up to 120<br> frames per second on supported monitors.[52][53] Reception Reception <br>Aggregate scoreAggregator\tScore Metacritic\tNS: 73/100[67] PC: 91/100[6<br>8] PS4: 90/100[69] XONE: 91/100[70] Review scoresPublication\tScore Des<br>tructoid\t10/10[54] Electronic Gaming Monthly\t9/10[55] Game Informer\t10<br>/10[56] GameRevolution\t[57] GameSpot\t9/10[58] GamesRadar+\t[59] IGN\t9.4<br>/10[60] PC Gamer (US)\t88/100[61] Polygon\t8/10[62] VideoGamer.com\t9/10[<br>63] PlayStation LifeStyle\t10/10[64] The Escapist\t[65] The Guardian\t[66<br>] Edit on Wikidata<br>",
          "A sequel, Overwatch 2, was announced in 2019 and entered beta in 2022.<br> The game is free to play, with all cosmetic items from Overwatch carr<br>ied over while introducing new heroes, maps, and gamemodes. On October<br> 3, 2022, the Overwatch servers were shut down in preparation for the <br>release of Overwatch 2 the next day. Gameplay Main article: Gameplay o<br>f Overwatch A screenshot from Overwatch while in-match. The player (pl<br>aying Tracer) and their allies are indicated in blue, while the opposi<br>ng team is in red. The character's health bar is shown on the bottom l<br>eft, their primary skills and attacks are shown on the bottom right, a<br>nd their progress towards their ultimate ability is shown in the botto<br>m center.<br>",
          "Before its release, Overwatch experienced a period of pre-launch atten<br>tion not typically expected; Game Revolution noted that \"[Overwatch's]<br> reputation has quickly permeated through cyberspace, attracting atten<br>tion from people who may not traditionally put down $40 to $60 each ti<br>me a new first-person shooter releases.\"[71] The game's open beta, whi<br>ch attracted 9.7 million players, was very heavily covered by the medi<br>a.[72]<br>",
          "Overwatch received \"universal acclaim\" upon release, according to revi<br>ew aggregator Metacritic.[68][69][70] IGN's Vince Ingenito praised the<br> game's characters and maps, writing \"Overwatch takes just about every<br> possible opportunity to make its cast and locales seem like people an<br>d places rather than puppets and scenery.\" Ingenito added that the gam<br>e has a \"strong online experience that gets you into games quickly and<br> reliably.\"[60] The Verge's Andrew Webster praised Overwatch and previ<br>ous titles Titanfall and Splatoon as \"friendly online shooters\" that h<br>ave room for both new and casual players who may not desire to master <br>the game but can still compete fairly with others, and for expert play<br>ers that can utilize the various heroes to adapt to the dynamic tactic<br>s of the game.[73] Webster<br>",
          "who may not desire to master the game but can still compete fairly wit<br>h others, and for expert players that can utilize the various heroes t<br>o adapt to the dynamic tactics of the game.[73] Webster went on to cit<br>e the atmosphere of Overwatch as a reason for the game's approachabili<br>ty, writing, \"The first thing that makes Overwatch's world appealing a<br>nd approachable is, well, its world. This isn't the dour brown-and-gre<br>y shooter you might be used to. Instead, it's bright and colorful, wit<br>h a cast of characters that's eclectic and diverse.\"[73] Caty McCarthy<br> of Kill Screen echoed similar thoughts, writing \"When playing Overwat<br>ch, the player is absorbed by its radiating positivity. It's a world f<br>illed with lively color and energetic, playful competition, much like <br>Nintendo's creative<br>",
          "thoughts, writing \"When playing Overwatch, the player is absorbed by i<br>ts radiating positivity. It's a world filled with lively color and ene<br>rgetic, playful competition, much like Nintendo's creative kid-friendl<br>y ink-shooter Splatoon.\"[74] Mike Minotti of VentureBeat commending th<br>e team-based gameplay, the game's diverse character roster, and colorf<br>ul settings, as well as the unlockable cosmetics earned through level <br>progression and the smooth server connection.[75] Referencing its simi<br>larities to Team Fortress 2, Minotti confirmed that \"[Overwatch has] d<br>istinct classes, the team- and objective-based combat, and a bright, c<br>artoon-like art style,\" and that \"Overwatch certainly takes plenty of <br>inspiration from Valve online shooter series,\" but opines that \"[Overw<br>atch is] just better.\"[75]<br>",
          "combat, and a bright, cartoon-like art style,\" and that \"Overwatch cer<br>tainly takes plenty of inspiration from Valve online shooter series,\" <br>but opines that \"[Overwatch is] just better.\"[75] Daniel Tack of The N<br>ews & Observer positively received the game, expressing that \"no matte<br>r what happens â€“ win or lose â€“ you're going to have fun,\" adding t<br>hat \"the game's strength lies in its simplicity and polish.\"[76] Tack <br>went on to praise the game's characters, writing \"Unforgettable charac<br>ters are the lifeblood and driving force of Overwatch.\"[76] The Denver<br> Post's Hugh Johnson lauded the game for its emphasis on characters, r<br>ather than focusing on traditional first-person shooter tropes, such a<br>s weapon load-outs and incremental level upgrades.[77] Johnson went on<br> to insist that the<br>",
          "game for its emphasis on characters, rather than focusing on tradition<br>al first-person shooter tropes, such as weapon load-outs and increment<br>al level upgrades.[77] Johnson went on to insist that the characters a<br>re balanced writing, \"The big question with class-based shooters like <br>these is whether or not the characters are balanced,\" expressing that <br>\"some characters are naturally better, but no character is so overpowe<br>red that their mere presence spells doom for their opponents.\"[77] In <br>June 2016, Vulture's Joshua Rivera listed Overwatch as one of the \"bes<br>t video games of 2016 (so far),\" writing, \"It's hard to separate Overw<br>atch the game from Overwatch the phenomenonâ€”and why bother, both are<br> fascinating.\"[78]<br>",
          "The online magazine Inverse, while expressing an overall positive rece<br>ption for the game, pointed out the balance of McCree (know known as C<br>assidy), teams composed of only one character, issues with matchmaking<br>, and the Play of the Game as problems that should be fixed by the gam<br>e's development team.[79] Gabe Gurwin of Digital Trends, directed crit<br>icism at Blizzard, for their decision to exclude the story from the ga<br>me, which left players \"with a great game, a great story, and no way t<br>o reconcile the two.\"[80]<br>",
          "Shortly after the game's competitive play mode was released, Kotaku's <br>Nathan Grayson stated that \"Overwatch's competitive mode [is not] all <br>that bad, for how new and unpolished it is,\" but opined that \"high-sta<br>kes competition and toxicity tend to go hand-in-hand, and Overwatch's <br>competitive mode already has an ugly toxic stain.\" Grayson concluded h<br>is piece with \"Overwatch is, most of the time, a feel-good team game. <br>Introducing high-stakes competition with a muddled message about the i<br>mportance of individual skill drags the game into confused, oftentimes<br> negative territory. If Blizzard wants this thing to work, they're gon<br>na have to figure out a competitive framework that's true to Overwatch<br>'s spirit, rather than just the spirit of competition.\"[81] Kaplan ack<br>nowledged that with the<br>",
          "this thing to work, they're gonna have to figure out a competitive fra<br>mework that's true to Overwatch's spirit, rather than just the spirit <br>of competition.\"[81] Kaplan acknowledged that with the introduction of<br> competitive mode that the whole of the Overwatch community has become<br> more toxic, and they are continually adapting elements behind the sce<br>nes to help deal with aggressive players more responsibly, while tryin<br>g to promote more enjoyable matches.[82]<br>",
          "Sales Overwatch player growth \t Graphs are unavailable due to technica<br>l issues. There is more info on Phabricator and on MediaWiki.org.<br>",
          "Overwatch was an online team-based game generally played as a first-pe<br>rson shooter. The game featured several different game modes, principa<br>lly designed around squad-based combat with two opposing teams of six <br>players each. Players selected one of over two dozen pre-made hero cha<br>racters from one of three class types: Damage heroes that deal most of<br> the damage to attack or defend control points, Tank heroes that can a<br>bsorb a large amount of damage, and Support heroes that provide healin<br>g or other buffs for their teammates.[c] Each hero had a unique skill <br>kit, defining their intrinsic attributes like health points and runnin<br>g speed, their primary attacks, several active and passive skills, and<br> an ultimate ability that can only be used after it has been charged t<br>hrough dealing damage to<br>",
          "A week from its launch, Blizzard reported over seven million Overwatch<br> players with a total accumulated playtime of 119 million hours;[83] B<br>lizzard reported more than 10 million players by mid-June[84] and has <br>reported continued increases in the player base, with 60 million playe<br>rs as of April 2021 whilst possibly counting temporary free accounts.[<br>85] The NPD Group, a video game industry tracking firm, reported that <br>Overwatch was the third best-selling retail video game (nb. discountin<br>g digital sales through Battle.net) in the US in May 2016 on the month<br> of its release, and was the top-selling game in June 2016;[86][87] th<br>e NPD Group later reported it was the 7th highest selling game by reve<br>nue (excluding Battle.net sales) in the United States for all of 2016.<br>[88] With digital sales,<br>",
          "game in June 2016;[86][87] the NPD Group later reported it was the 7th<br> highest selling game by revenue (excluding Battle.net sales) in the U<br>nited States for all of 2016.[88] With digital sales, Overwatch was th<br>e fastest-selling game during its release month.[89] SuperData Researc<br>h estimated that Overwatch brought in more than $269 million in revenu<br>es from digital sales worldwide in May,[90] and over $565 million in s<br>ales on personal computers along by the end of 2016, making it the hig<br>hest-grossing paid game for personal computers that year.[91]<br>",
          "In Activision-Blizzard's quarterly earnings report for Q1 2017, the co<br>mpany reported that Overwatch revenues had exceeded one billion dollar<br>s, the eighth such property owned by the company to do so.[92] In June<br> 2016, Gametrics, a South Korean internet cafe survey website, reporte<br>d that Overwatch overtook League of Legends as the most popular game p<br>layed across 4,000 of South Korea's PC bangs at the time.[93] In 2018,<br> Overwatch raised over $12.7 million for the Breast Cancer Research Fo<br>undation, which they generated from selling a special pink-colored Mer<br>cy skin where all proceeds went towards it.[94] By July 2019, total in<br>-game spending in Overwatch exceeded one billion dollars as estimated <br>by SuperData, the sixth Activision-Blizzard product line to reach this<br> metric.[95] Controversies<br>",
          "While the developers were aiming to avoid sexualization of the charact<br>ers, there was some criticism of the female characters of the game dur<br>ing its development. In February 2015, Anita Sarkeesian commented on t<br>he lack of diversity in the female heroes' body types from the game's <br>first twelve revealed characters,[96] while Nathan Grayson of Kotaku r<br>emarked that \"Overwatch's women are mostly super slim and clad in cat <br>suits.\"[97] In March 2015, the development team revealed a new charact<br>er, Zarya, who is a female Russian bodybuilder with a muscular body, a<br>nd pledged commitment to diversity.[98]<br>",
          "Following promotional images featuring the female character Tracer in <br>March 2016, a thread on Blizzard's official forums drew attention to o<br>ne of Tracer's victory poses, which was criticized by a user as out of<br> character and oversexualized. Kaplan apologized for the pose, stating<br> \"The last thing we want to do is make someone feel uncomfortable, und<br>er-appreciated or misrepresented,\" and confirmed that Blizzard planned<br> to replace the pose. Kaplan's response drew mixed reactions from the <br>gaming community, with many claiming Blizzard had forgone its creative<br> control over the game and censored its content to placate one offende<br>d user, while others praised Blizzard's willingness to listen to the c<br>ommunity and adhere to standards for portraying a character according <br>to their personality. Kaplan<br>",
          "content to placate one offended user, while others praised Blizzard's <br>willingness to listen to the community and adhere to standards for por<br>traying a character according to their personality. Kaplan later state<br>d that the team was already unsure of the pose and was thinking of cha<br>nging it.[99] The following week, a replacement pose was released, alt<br>hough it was noted to be similar to the original pose.[100][101] The r<br>eplacement pose was alleged to be influenced by Billy DeVorss cheeseca<br>ke pin-up art.[101] The pose was replaced during the game's beta perio<br>d.[100]<br>",
          "Following the game's release, some of the alternative outfits for char<br>acters had come under criticism for using cultural stereotypes, such a<br>s a Native American headdress option for the character of Pharah, who <br>seemed to be primarily of Egyptian origin. Kaplan noted that they had <br>considered if these outfits were appropriate, and believed they were r<br>especting the cultures of the characters they had created and would ma<br>ke necessary changes if they felt there were valid concerns. Kaplan co<br>mmented that many players have responded positively to these outfits a<br>nd feel they fit in appropriately with the idealized version of Earth.<br>[102] Later game developments showed that Pharah was set out as a half<br>-Egyptian/half-Native American character, making such outfits appropri<br>ate in hindsight.[103]<br>",
          "In July 2016, the President of the Universal Society of Hinduism (Raja<br>n Zed) urged Blizzard to remove two of Symmetra's hero cosmetic items <br>from the game since they could be seen as inappropriate and not accura<br>te towards the beliefs and practices of Hinduism. In Hinduism, devotee<br>s put their destinies in the hands of their gods and goddesses; this i<br>s a stark contrast to how he believes they are portrayed within the ga<br>me.[104] Zed has in the past commented on other video game depictions <br>of Hindu-inspired gods, such as in the multiplayer online battle arena<br> (MOBA) game Smite.[105][106]<br>",
          "In Overwatch's Asia servers, there were problems with numerous players<br> using cheats tied to the growing number of younger players using PC b<br>angs in South Korea that allowed them to play Overwatch on an inexpens<br>ive hourly rate rather than purchasing the game. As these players do n<br>ot need permanent accounts, they can use disposable Battle.net account<br>s and employ game hacks without repercussions, and if that account is <br>banned, they can quickly make another and continue playing. Blizzard c<br>ontinues to block these accounts at a rate of thousands per day, but h<br>ave not been able to find a more permanent solution.[107] Subsequently<br>, Blizzard announced that players from South Korea would be required t<br>o log into a Battle.net account to play the game from February 2017 on<br>ward, which requires a<br>",
          "permanent solution.[107] Subsequently, Blizzard announced that players<br> from South Korea would be required to log into a Battle.net account t<br>o play the game from February 2017 onward, which requires a difficult-<br>to-spoof resident registration number among other unique information, <br>which Blizzard believes would help to alleviate the problem.[108]<br>",
          "like health points and running speed, their primary attacks, several a<br>ctive and passive skills, and an ultimate ability that can only be use<br>d after it has been charged through dealing damage to enemies and heal<br>ing allies. Players could change their hero during the course of a mat<br>ch, as a goal of Overwatch's design was to encourage dynamic team comp<br>ositions that adapt to the situation. The game's genre has been descri<br>bed by some journalists as a \"hero shooter\", due to its design around <br>specific heroes and classes.[5][6]<br>",
          "As to maintain a fair competitive field on consoles, Blizzard has spok<br>en out against the use of input converters that would allow console pl<br>ayers to use keyboard/mouse controllers, believing this gives an advan<br>tage to players that can afford the converter.[109] Some players have <br>criticized the ability to use these converters, as players with them o<br>ften populate the top of the competitive ranking ladders. Though Blizz<br>ard has appealed to Sony and Microsoft to either prevent such converte<br>rs, or to detect when such converters are used as to be able to segreg<br>ate players into servers based on this, disabled players have spoken o<br>ut against such action, as many need to use such converters to play th<br>e game on consoles lacking the ability to use a normal controller.[110<br>]<br>",
          "After a year from its release, journalists observed that the player co<br>mmunity was becoming more toxic, disrupting the enjoyment of playing t<br>he game. It was believed this came from the nature of the game that re<br>quires teamwork, and when teammates see players unwilling to switch to<br> different heroes to balance the team or otherwise play for individual<br> gains, this would cause the teammates to become angry and lash out at<br> the player, become griefers and throw the match, or other harmful beh<br>avior that would spread over time, particularly in the game's competit<br>ive mode. Players are able to report malicious users with in-game tool<br>s, and Blizzard can ban players for egregious actions, but they do not<br> attempt to segregate out bad actors from the larger pool (a method us<br>ed by other developers in<br>",
          "malicious users with in-game tools, and Blizzard can ban players for e<br>gregious actions, but they do not attempt to segregate out bad actors <br>from the larger pool (a method used by other developers in multiplayer<br> games), instead keeping an inclusive community for all non-banned pla<br>yers, which is believed to contribute to the growing toxicity. Kaplan <br>said in a September 2017 update that Blizzard was very well aware of t<br>he problem, and have worked to improve their in-game player behavior r<br>eporting tools to help combat the toxicity, but because they have had <br>to put greater effort into this, they are distracted from developing n<br>ew features and content for the game. Kaplan urged the community to co<br>nsider how they can improve individually and as a whole to help combat<br> the<br>",
          "effort into this, they are distracted from developing new features and<br> content for the game. Kaplan urged the community to consider how they<br> can improve individually and as a whole to help combat the situations<br>.[111][112][113]<br>",
          "In November 2017, the Belgian Gaming Commission announced that it was <br>investigating Overwatch alongside Star Wars Battlefront II to determin<br>e whether loot boxes constituted unlicensed gambling.[114] Many Asian <br>and European countries view loot boxes as a form of gambling and have <br>since decided to make them illegal for companies to sell directly to t<br>heir consumers in their games.[115] Blizzard has chosen to work with t<br>hese regions to follow their gambling laws while staying true to their<br> microtransaction focused business model. Within China, Blizzard has a<br>llowed their players to purchase in-game currency and receive loot box<br>es as a \"gift.\"[116] In addition to this loot box change, China has re<br>quired Blizzard to publicly disclose the exact odds of winning each ti<br>er of item within said loot<br>",
          "currency and receive loot boxes as a \"gift.\"[116] In addition to this <br>loot box change, China has required Blizzard to publicly disclose the <br>exact odds of winning each tier of item within said loot box.[117][118<br>] While initially loot boxes were not seen as gambling within the Unit<br>ed States; the US Federal Trade Commission decided in 2018 to investig<br>ate the legality of the projected soon to be 50 billion dollar industr<br>y of microtransactions.[119][120]<br>",
          "Awards<br>",
          "Overwatch won numerous awards in 2016, including being named Game of t<br>he Year at The Game Awards, D.I.C.E. Awards, and Game Developers Choic<br>e Awards, as well as several awards and nominations highlighting its g<br>ame direction and as a leading multiplayer game. Several publications,<br> including IGN,[121] GameSpot,[122][123][124][125] Game Revolution,[12<br>6] EGMNow,[127] GamesTM,[128] The Escapist,[129] Game Informer[130] an<br>d Eurogamer,[131] named Overwatch the best game of 2016, receiving 102<br> \"game of the year\" awards across critics and reader polls.[132]<br>",
          "Giant Bomb gave it the awards for \"Best Debut\" and \"Best Multiplayer\",<br>[133][134] and put it in third place for \"Game of the Year\".[135] Poly<br>gon and Slant Magazine also put the game in third place for \"Game of t<br>he Year\",[136][137] while PC Gamer gave it the award for \"Best Multipl<br>ayer\".[138] Besides \"Game of the Year\", The Escapist gave it the award<br>s for \"Best Shooter and Multiplayer\".[139] Game Informer gave it the a<br>wards for \"Best Competitive Multiplayer\" and \"Best Shooter\".[140][141]<br> At IGN's Best of 2016 Awards, the game won the awards for \"Best Shoot<br>er\", \"Best eSports Game\", \"Best Multiplayer\", and \"PC Game of the Year<br>\".[121] In IGN's Best of 2017 Awards, the game won the People's Choice<br> Award for \"Best Spectator Game\",[142] while Game Informer gave it the<br> award for \"Best Shooter as<br>",
          "and \"PC Game of the Year\".[121] In IGN's Best of 2017 Awards, the game<br> won the People's Choice Award for \"Best Spectator Game\",[142] while G<br>ame Informer gave it the award for \"Best Shooter as Service\" in their <br>2017 Shooter of the Year Awards.[143]<br>",
          "The game featured game modes for casual play, competitive ranked play,<br> and for supporting esports competitions including Blizzard's Overwatc<br>h League. These modes were generally centered around sequentially secu<br>ring control of points on the map, or escorting a payload between poin<br>ts on the map, with one team attacking while the other defends. Other <br>modes set aside for casual matches include solo and team deathmatch, c<br>apture-the-flag, and unique modes run during various seasonal events. <br>More recent updates had enabled users to craft their own game modes wi<br>th a limited set of scripting tools. Regardless of winning or losing a<br> match, players gained experience towards a player level, and on gaini<br>ng a new level, received loot boxes that contain cosmetic items that t<br>hey can use to customize the<br>",
          "In the years since its release, Overwatch has continued to be nominate<br>d and awarded for its strength as an esports game, as well as the ongo<br>ing content added to the title. Year \tAward \tCategory \tResult \t Ref. 2<br>016 \tGolden Joystick Awards \tBest Original Game \tWon \t[144][145] Best <br>Visual Design \tNominated Best Audio \tNominated Best Multiplayer Game \t<br>Won Best Gaming Moment (Play of the Game) \tWon Game of the Year \tNomin<br>ated PC Game of the Year \tWon Competitive Game of the Year \tWon The Ga<br>me Awards 2016 \tGame of the Year \tWon \t[146][147] Best Game Direction <br>\tWon Best Art Direction \tNominated Best Action Game \tNominated Best Mu<br>ltiplayer \tWon ESports Game of the Year \tWon Hollywood Music in Media <br>Awards \tBest Original Score â€“ Video Game \tWon \t[148]<br>",
          "Best Art Direction \tNominated Best Action Game \tNominated Best Multipl<br>ayer \tWon ESports Game of the Year \tWon Hollywood Music in Media Award<br>s \tBest Original Score â€“ Video Game \tWon \t[148] 2017 \t20th Annual D.<br>I.C.E. Awards \tGame of the Year \tWon \t[149] Action Game of the Year \tW<br>on Outstanding Achievement in Animation \tNominated Outstanding Achieve<br>ment in Game Design \tWon Outstanding Achievement in Online Gameplay \tW<br>on Outstanding Technical Achievement \tNominated 2017 SXSW Gaming Award<br>s \tVideo Game of the Year \tNominated \t[150][151] ESports Game of the Y<br>ear \tWon Trending Game of the Year \tWon Excellence in Design \tNominate<br>d Most Promising New Intellectual Property \tWon Most Memorable Charact<br>er (Tracer) \tNominated Excellence in Multiplayer \tWon Excellence in Ar<br>t \tNominated<br>",
          "Excellence in Design \tNominated Most Promising New Intellectual Proper<br>ty \tWon Most Memorable Character (Tracer) \tNominated Excellence in Mul<br>tiplayer \tWon Excellence in Art \tNominated Excellence in Animation \tNo<br>minated Game Developers Choice Awards \tGame of the Year \tWon \t[152][15<br>3] Best Audio \tNominated Best Design \tWon Best Technology \tNominated B<br>est Visual Art \tNominated 13th British Academy Games Awards \tBest Game<br> \tNominated \t[154][155] Game Design \tNominated Multiplayer \tWon Origin<br>al Property \tNominated AMD Esports Audience Award \tNominated ASCAP Com<br>posers' Choice Awards \t2016 Video Game Score of the Year \tNominated \t[<br>156] 2017 Teen Choice Awards \tChoice Video Game \tWon \t[157] Golden Joy<br>stick Awards \teSports Game of the Year \tWon \t[158][159] Still Playing <br>\tNominated<br>",
          "2017 Teen Choice Awards \tChoice Video Game \tWon \t[157] Golden Joystick<br> Awards \teSports Game of the Year \tWon \t[158][159] Still Playing \tNomi<br>nated The Game Awards 2017 \tBest Ongoing Game \tWon \t[160] Best eSports<br> Game \tWon 2018 \t14th British Academy Games Awards \tEvolving Game \tWon<br> \t[161] 2018 Webby Awards \tBest Game Design \tWon \t[162] Best Multiplay<br>er/Competitive Game \tWon 2018 Teen Choice Awards \tChoice Video Game \tN<br>ominated \t[163][164] Golden Joystick Awards \tStill Playing Award \tNomi<br>nated \t[165][166] eSports Game of the Year \tWon The Game Awards 2018 \t<br>Best Ongoing Game \tNominated \t[167][168] Best eSports Game \tWon 2019 \t<br>2019 SXSW Gaming Awards \tMost Evolved Game \tNominated \t[169] 15th Brit<br>ish Academy Games Awards \tEvolving Game \tNominated \t[170]<br>",
          "Best eSports Game \tWon 2019 \t2019 SXSW Gaming Awards \tMost Evolved Gam<br>e \tNominated \t[169] 15th British Academy Games Awards \tEvolving Game \t<br>Nominated \t[170] 2019 Webby Awards \tBest Multiplayer/Competitive Game <br>(People's Voice) \tWon \t[171] Golden Joystick Awards \teSports Game of t<br>he Year \tNominated \t[172] The Game Awards 2019 \tBest Esports Game \tNom<br>inated \t[173] Best Esports Event (2019 Overwatch League Grand Finals) <br>\tNominated 2020 \tGLAAD Media Awards \tOutstanding Video Game \tNominated<br> \t[174] Legacy Cosplay of various Overwatch characters at New York Com<br>ic Con 2016<br>",
          "Overwatch's fan base has been noted to be generally kind and supportiv<br>e; Daniel Starkey of Wired wrote, \"where many fresh games struggle wit<br>h an endless stream of player complaints and developer-prodding, Overw<br>atch's community is vivacious and jubilant.\"[24] A gamer with cerebral<br> palsy publicly praised the game's customizable controls, which let hi<br>m make his first snipe in a video game.[175][176] One of Blizzard's ar<br>tists, Roman Kenney, drew concept art based on one player's daughter's<br> original Overwatch character design.[177] Blizzard altered one of the<br> game's maps to include a tribute to an avid Chinese fan of the game w<br>ho died from injuries while trying to stop a motorcycle theft on the d<br>ay before the game's public release.[178]<br>",
          "Blizzard has encouraged fans of Overwatch to make artistic content bas<br>ed on the game.[179] To support this, Blizzard released the hero refer<br>ence kit before release, providing official colors and costume and wea<br>pon designs for all 21 heroes present at the game's launch.[180] Fans <br>have used these, the game's animated media, and other assets to create<br> a large amount of content, including art,[181][182] cosplay,[183][184<br>] and anime opening-style music videos.[185][186] Some Overwatch conce<br>pts have created internet memes such as \"Gremlin D.Va\", which focuses <br>on the character D.Va, portrayed through Western gamer stereotypes.[18<br>7] In some cases, Blizzard has reciprocated these fan creations back i<br>nto the game, such as an emote for D.Va, based on the Gremlin meme.[18<br>8] At the 2017 D.I.C.E.<br>",
          "Western gamer stereotypes.[187] In some cases, Blizzard has reciprocat<br>ed these fan creations back into the game, such as an emote for D.Va, <br>based on the Gremlin meme.[188] At the 2017 D.I.C.E. Summit in Februar<br>y 2017, Kaplan said that much of Overwatch's narrative is now being bo<br>rne out of the game's fans, adding \"We love it, that it belongs to the<br>m...We're just the custodians of the universe.\"[19] Kaplan recognizes <br>that he himself is seen as an Overwatch character within the fan commu<br>nity, and following similar steps that Hearthstone's lead designer Ben<br> Brode has done, has continued to engage with the fan community.[189]<br>",
          "Pornographic fan art of the game is popular, with Pornhub searches of <br>Overwatch characters partaking in sexual activities spiking by 817% sh<br>ortly after the release of the open beta.[190] A large amount of such <br>pornographic fan works are created with Valve's Source Filmmaker tool <br>and make use of the game's assets, which were ripped from the game dur<br>ing its closed beta and consequently spread over the internet.[191] Bl<br>izzard made efforts to remove the works.[179] Kaplan stated that while<br> the studio does not want to infringe on anyone's freedom of expressio<br>n, Blizzard is mindful that many players are not adults and would hope<br> the community would try to keep such imagery away from them.[102] Fra<br>nchise Related media and merchandise<br>",
          "Franchise Related media and merchandise See also: Overwatch animated m<br>edia and Overwatch (digital comic series)<br>",
          "of winning or losing a match, players gained experience towards a play<br>er level, and on gaining a new level, received loot boxes that contain<br> cosmetic items that they can use to customize the appearance of the h<br>ero characters but otherwise does not affect gameplay. Loot boxes coul<br>d also be purchased through microtransactions.[7]<br>",
          "Blizzard opted to tell the story of Overwatch across various mediums, <br>rather than include a story mode; Chu stated, \"One of the things that'<br>s really great is we're able to leverage the strengths of these differ<br>ent mediums to tell different parts of the story,\" citing Soldier: 76'<br>s appearances in fake news reports, an animated video narrated from hi<br>s perspective, as well as the Hero short.[192]  In March 2016, Blizzar<br>d announced that they would be releasing comics and animated shorts ba<br>sed on Overwatch in 2016. The related media included plans for a since<br>-cancelled graphic novel called Overwatch: First Strike, which would h<br>ave focused on the story of several in-game characters, including Sold<br>ier: 76, TorbjÃ¶rn, Reaper, and Reinhardt.[193]<br>",
          "Blizzard began releasing the series of animated shorts in March 2016; <br>the shorts maintained the style of the game's cinematic trailer, which<br> centered on a battle in which Tracer and Winston fought Reaper and Wi<br>dowmaker in the Overwatch Museum.[25] A collection of these cinematic <br>sequences played in movie theaters across the United States as part of<br> the game's launch event.[194] The first episode of the animated short<br> series, Recall, was released on March 23. It centers on Winston and R<br>eaper, and features flashbacks to Winston's childhood.[195]<br>",
          "Blizzard published three digital comic series during Overwatch's 2016â<br>€“2022 run: Overwatch, Tracer - London Calling, and New Blood. These c<br>omics were also printed on hard cover through Dark Horse Comics. Furth<br>er Overwatch literature including an art book, cook book, short storie<br>s, and novelizations were also published.[196][197][198][199][200]  Ov<br>erwatch characters and elements have been brought over to the crossove<br>r MOBA game Heroes of the Storm.[201]  Various toy and figurine manufa<br>cturers produced merchandise lines featuring Overwatch characters. The<br>se manufacturers included Funko, Good Smile Company, Nerf and its pare<br>nt company Hasbro, as well as The Lego Group.[d] Esports See also: Ove<br>rwatch League<br>",
          "Overwatch was not developed with any dedication towards esports, focus<br>ing on \"building a great competitive game\" first and foremost, accordi<br>ng to Morhaime, though they recognized that the game had potential as <br>an esports game through internal testing.[210] Kaplan stated that whil<br>e esports was not a design goal, they included and planned for feature<br>s for the game to support the competitive community.[211] This include<br>d the introduction of the game's competitive mode some months after th<br>e game's launch after seeing how players took towards Overwatch; Blizz<br>ard saw the ladder-approach they used as a means for skilled players t<br>o reach high ranks as to be noticed by esport team organizers.[210] Da<br>n Szymborski writing for ESPN stated that Overwatch was poised as the <br>next big esport for having a<br>",
          "a means for skilled players to reach high ranks as to be noticed by es<br>port team organizers.[210] Dan Szymborski writing for ESPN stated that<br> Overwatch was poised as the next big esport for having a sufficiently<br> different look and playstyle from established esports games like Coun<br>ter-Strike: Global Offensive and Call of Duty, enough variety in maps <br>and characters, and strong support from Blizzard to maintain the game <br>for a long time.[212] Bryant Francis writing for Gamasutra noted the s<br>peed and short match times of Overwatch make the game highly favorable<br> for viewership, further supporting the game as an esports title.[213]<br>",
          "Just before the game's release, PC Gamer writer Stefan Dorresteijn con<br>tacted professional esports players and hosts for their opinions. Long<br>time esports host Paul Chaloner stated that \"[Overwatch] needs a much <br>better spectator system,\" going on to elaborate, \"Right now, it's incr<br>edibly difficult for commentators and viewers to see the skills of the<br> players: who used their ultimates and how did they interact? Who is o<br>n cooldown and who has changed hero?\"[214] Fellow esports player Seb B<br>arton and Michael Rosen criticized the game's map designs and game mod<br>es; Barton remarked that \"the game modes are a little hit and miss,\" a<br>dding that \"King of the hill [Control] is super exciting and fast-pace<br>d but then you have the payload [Escort] maps, which are just a snooze<br>fest for everyone<br>",
          "game modes are a little hit and miss,\" adding that \"King of the hill [<br>Control] is super exciting and fast-paced but then you have the payloa<br>d [Escort] maps, which are just a snoozefest for everyone involved.\"[2<br>14] Rosen expressed a need for tweaking to the maps used for the contr<br>ol game mode, as they are \"just too prone to the snowball effect. The <br>moment the attacking team captures the first control point they don't <br>just have the momentum but also the last advantage for the second and <br>final capture point.\"[214]<br>",
          "The first organized, prize-winning competitions for Overwatch started <br>in mid-2016, a few months after launch.[215][216][217] In November 201<br>6, Blizzard hosted their own Overwatch World Cup, allowing users to vo<br>te for teams to represent their nation or region, with finals taking p<br>lace during their BlizzCon event.[218] Overwatch grew increasingly in <br>South Korea since it was released. It topped gaming cafes in Korea in <br>terms of player count, surpassing that of League of Legends.[219]<br>",
          "At the 2016 BlizzCon, Blizzard announced their plans for their Overwat<br>ch League, using an organization of permanent teams in league placemen<br>ts similar to more traditional North American professional sports leag<br>ues,[220] rather than the use of promotion and relegation used in a se<br>ries like League of Legends Championship Series.[221] The OWL would be<br>ing preseason play in December 2017, with its first season taking plac<br>e in 2018.[222] Sequel Main article: Overwatch 2  Overwatch 2, a stand<br>alone sequel, was announced at BlizzCon on November 1, 2019, and was r<br>eleased on October 4, 2022, as a free-to-play game for Nintendo Switch<br>, PlayStation 4, PlayStation 5, Windows, Xbox One, and Xbox Series X a<br>nd S.[223][224]<br>",
          "Originally, it was planned for Overwatch and Overwatch 2 to have a \"sh<br>ared multiplayer environment\" between it and the original Overwatch, s<br>o that the players in either game could compete together in the existi<br>ng player versus player (PvP) modes, retaining all unlocked cosmetics <br>and other features,[225] but with the transition to free-to-play, Over<br>watch's servers were shut down on October 3, 2022, in favor of the seq<br>uel, and all players were transitioned to Overwatch 2.[3]  A significa<br>nt departure was moving to a five-versus-five PvP mode, with a restric<br>tion of only allowing one tank in play on a team as to help improve th<br>e perceived speed of gameplay.[226] To this end, many heroes had their<br> skill kit reworked, or in some cases, were reclassified into a new he<br>ro class.[227][228]<br>",
          "Plot See also: Characters of Overwatch<br>",
          "Another change in the transition to free to play was the elimination o<br>f loot boxes in favor of a season pass. As part of the transition, Bli<br>zzard ended purchases of loot boxes on August 30, 2022 (though players<br> were still able to earn these as drops in-game), and any unopened loo<br>t boxes in a player's inventory on Overwatch 2's release were automati<br>cally opened and contents credited to the player.<br>",
          "The backstory to Overwatch is described through animated shorts and ot<br>her information distributed by Blizzard in promoting the game.[8][9][1<br>0]<br>"
         ],
         "marker": {
          "color": "gray",
          "size": 10
         },
         "mode": "markers",
         "name": "Dataset Embeddings",
         "type": "scatter",
         "x": [
          7.075060844421387,
          7.683139324188232,
          10.306696891784668,
          9.065871238708496,
          10.14085578918457,
          9.086884498596191,
          9.145021438598633,
          10.26218032836914,
          8.471187591552734,
          7.899272441864014,
          9.873917579650879,
          10.488542556762695,
          5.997405529022217,
          7.838122367858887,
          7.814920425415039,
          7.147643089294434,
          7.5904717445373535,
          7.883123874664307,
          6.770061016082764,
          6.656760215759277,
          7.167313098907471,
          6.721735954284668,
          4.8633317947387695,
          7.802283763885498,
          6.057371139526367,
          9.968022346496582,
          8.498162269592285,
          9.851757049560547,
          9.859111785888672,
          9.969554901123047,
          9.891690254211426,
          9.490732192993164,
          8.251226425170898,
          5.8783674240112305,
          8.187287330627441,
          6.141468048095703,
          5.829864978790283,
          6.558323383331299,
          10.385819435119629,
          11.454495429992676,
          11.166264533996582,
          10.96378231048584,
          11.096040725708008,
          6.123549938201904,
          6.209383010864258,
          9.678666114807129,
          6.305447578430176,
          8.594939231872559,
          9.458609580993652,
          9.079764366149902,
          7.002529621124268,
          6.8515472412109375,
          3.6069648265838623,
          4.60934591293335,
          3.9957289695739746,
          4.223387241363525,
          7.997673988342285,
          4.802396774291992,
          3.190279245376587,
          3.4761438369750977,
          3.523317813873291,
          3.3139584064483643,
          11.400860786437988,
          11.205558776855469,
          10.432539939880371,
          11.024152755737305,
          10.477731704711914,
          6.537385940551758,
          10.407052993774414,
          10.059527397155762,
          10.343891143798828,
          8.063044548034668,
          6.4473371505737305,
          9.742256164550781,
          9.652265548706055,
          6.786757946014404,
          7.409803867340088,
          7.684499740600586,
          10.145078659057617,
          6.2203569412231445,
          10.347041130065918
         ],
         "y": [
          2.125627040863037,
          2.3844354152679443,
          2.2438035011291504,
          3.1394240856170654,
          3.447115659713745,
          3.143225908279419,
          3.154984712600708,
          2.614811420440674,
          2.550901412963867,
          2.273679494857788,
          -1.4131945371627808,
          1.6502022743225098,
          -0.7760340571403503,
          2.198932409286499,
          2.2436516284942627,
          1.8344215154647827,
          2.35330867767334,
          0.34524887800216675,
          1.9569758176803589,
          1.4154714345932007,
          1.8576189279556274,
          1.6227221488952637,
          -0.7547472715377808,
          2.0969932079315186,
          -0.6005445122718811,
          -1.1985105276107788,
          -1.802970290184021,
          -1.143296480178833,
          -1.2464665174484253,
          -1.217905879020691,
          -1.010843276977539,
          -1.6337931156158447,
          -1.5380604267120361,
          0.5363984107971191,
          -1.5387464761734009,
          -0.6927237510681152,
          -0.5452934503555298,
          -1.0787252187728882,
          -1.0523589849472046,
          0.07500781118869781,
          -0.20813146233558655,
          0.7267003059387207,
          0.3675801157951355,
          0.4943958818912506,
          0.9522508382797241,
          -1.4426554441452026,
          1.4747084379196167,
          -1.5944905281066895,
          -1.6828670501708984,
          -1.8071281909942627,
          -1.2150460481643677,
          -1.3445106744766235,
          0.2441738396883011,
          0.19599750638008118,
          -1.3540980815887451,
          -1.3107976913452148,
          -1.4697091579437256,
          -1.1227222681045532,
          -0.3803040683269501,
          -0.10669738054275513,
          -1.1350409984588623,
          -0.3504890501499176,
          0.27251431345939636,
          0.32907819747924805,
          -1.0679295063018799,
          0.3265036940574646,
          1.449913740158081,
          -1.1529375314712524,
          1.6826176643371582,
          1.8888903856277466,
          1.4798753261566162,
          -1.3686002492904663,
          1.805424690246582,
          -1.413744330406189,
          -1.2711671590805054,
          -1.3870943784713745,
          1.8379576206207275,
          2.127223253250122,
          1.5888352394104004,
          0.6174448728561401,
          1.691385269165039
         ]
        },
        {
         "hoverinfo": "text",
         "hovertext": "What is overwatch 2?",
         "marker": {
          "color": "red",
          "size": 25,
          "symbol": "x"
         },
         "mode": "markers",
         "name": "Query Embedding",
         "type": "scatter",
         "x": [
          9.871163368225098
         ],
         "y": [
          -1.434550166130066
         ]
        },
        {
         "hoverinfo": "text",
         "hovertext": [
          "A sequel, Overwatch 2, was announced in 2019 and entered beta in 2022.<br> The game is free to play, with all cosmetic items from Overwatch carr<br>ied over while introducing new heroes, maps, and gamemodes. On October<br> 3, 2022, the Overwatch servers were shut down in preparation for the <br>release of Overwatch 2 the next day. Gameplay Main article: Gameplay o<br>f Overwatch A screenshot from Overwatch while in-match. The player (pl<br>aying Tracer) and their allies are indicated in blue, while the opposi<br>ng team is in red. The character's health bar is shown on the bottom l<br>eft, their primary skills and attacks are shown on the bottom right, a<br>nd their progress towards their ultimate ability is shown in the botto<br>m center.<br>",
          "thoughts, writing \"When playing Overwatch, the player is absorbed by i<br>ts radiating positivity. It's a world filled with lively color and ene<br>rgetic, playful competition, much like Nintendo's creative kid-friendl<br>y ink-shooter Splatoon.\"[74] Mike Minotti of VentureBeat commending th<br>e team-based gameplay, the game's diverse character roster, and colorf<br>ul settings, as well as the unlockable cosmetics earned through level <br>progression and the smooth server connection.[75] Referencing its simi<br>larities to Team Fortress 2, Minotti confirmed that \"[Overwatch has] d<br>istinct classes, the team- and objective-based combat, and a bright, c<br>artoon-like art style,\" and that \"Overwatch certainly takes plenty of <br>inspiration from Valve online shooter series,\" but opines that \"[Overw<br>atch is] just better.\"[75]<br>",
          "Overwatch (retroactively referred to as Overwatch 1[b]) was a 2016 tea<br>m-based multiplayer first-person shooter game by Blizzard Entertainmen<br>t. The game was first released for PlayStation 4, Windows, and Xbox On<br>e in May 2016 and Nintendo Switch in October 2019. Cross-platform play<br> was supported across all platforms.  Described as a \"hero shooter\", O<br>verwatch assigned players into two teams of six, with each player sele<br>cting from a large roster of characters, known as \"heroes\", with uniqu<br>e abilities. Teams worked to complete map-specific objectives within a<br> limited period of time. Blizzard added new characters, maps, and game<br> modes post-release, all free of charge, with the only additional cost<br> to players being optional loot boxes to purchase cosmetic items.<br>"
         ],
         "marker": {
          "color": "orange",
          "size": 15,
          "symbol": "circle"
         },
         "mode": "markers",
         "name": "Retrieved Embeddings",
         "type": "scatter",
         "x": [
          7.743908882141113,
          9.8355712890625,
          7.088689804077148
         ],
         "y": [
          2.135446310043335,
          -1.0890871286392212,
          1.9700437784194946
         ]
        }
       ],
       "layout": {
        "template": {
         "data": {
          "bar": [
           {
            "error_x": {
             "color": "#2a3f5f"
            },
            "error_y": {
             "color": "#2a3f5f"
            },
            "marker": {
             "line": {
              "color": "#E5ECF6",
              "width": 0.5
             },
             "pattern": {
              "fillmode": "overlay",
              "size": 10,
              "solidity": 0.2
             }
            },
            "type": "bar"
           }
          ],
          "barpolar": [
           {
            "marker": {
             "line": {
              "color": "#E5ECF6",
              "width": 0.5
             },
             "pattern": {
              "fillmode": "overlay",
              "size": 10,
              "solidity": 0.2
             }
            },
            "type": "barpolar"
           }
          ],
          "carpet": [
           {
            "aaxis": {
             "endlinecolor": "#2a3f5f",
             "gridcolor": "white",
             "linecolor": "white",
             "minorgridcolor": "white",
             "startlinecolor": "#2a3f5f"
            },
            "baxis": {
             "endlinecolor": "#2a3f5f",
             "gridcolor": "white",
             "linecolor": "white",
             "minorgridcolor": "white",
             "startlinecolor": "#2a3f5f"
            },
            "type": "carpet"
           }
          ],
          "choropleth": [
           {
            "colorbar": {
             "outlinewidth": 0,
             "ticks": ""
            },
            "type": "choropleth"
           }
          ],
          "contour": [
           {
            "colorbar": {
             "outlinewidth": 0,
             "ticks": ""
            },
            "colorscale": [
             [
              0,
              "#0d0887"
             ],
             [
              0.1111111111111111,
              "#46039f"
             ],
             [
              0.2222222222222222,
              "#7201a8"
             ],
             [
              0.3333333333333333,
              "#9c179e"
             ],
             [
              0.4444444444444444,
              "#bd3786"
             ],
             [
              0.5555555555555556,
              "#d8576b"
             ],
             [
              0.6666666666666666,
              "#ed7953"
             ],
             [
              0.7777777777777778,
              "#fb9f3a"
             ],
             [
              0.8888888888888888,
              "#fdca26"
             ],
             [
              1,
              "#f0f921"
             ]
            ],
            "type": "contour"
           }
          ],
          "contourcarpet": [
           {
            "colorbar": {
             "outlinewidth": 0,
             "ticks": ""
            },
            "type": "contourcarpet"
           }
          ],
          "heatmap": [
           {
            "colorbar": {
             "outlinewidth": 0,
             "ticks": ""
            },
            "colorscale": [
             [
              0,
              "#0d0887"
             ],
             [
              0.1111111111111111,
              "#46039f"
             ],
             [
              0.2222222222222222,
              "#7201a8"
             ],
             [
              0.3333333333333333,
              "#9c179e"
             ],
             [
              0.4444444444444444,
              "#bd3786"
             ],
             [
              0.5555555555555556,
              "#d8576b"
             ],
             [
              0.6666666666666666,
              "#ed7953"
             ],
             [
              0.7777777777777778,
              "#fb9f3a"
             ],
             [
              0.8888888888888888,
              "#fdca26"
             ],
             [
              1,
              "#f0f921"
             ]
            ],
            "type": "heatmap"
           }
          ],
          "heatmapgl": [
           {
            "colorbar": {
             "outlinewidth": 0,
             "ticks": ""
            },
            "colorscale": [
             [
              0,
              "#0d0887"
             ],
             [
              0.1111111111111111,
              "#46039f"
             ],
             [
              0.2222222222222222,
              "#7201a8"
             ],
             [
              0.3333333333333333,
              "#9c179e"
             ],
             [
              0.4444444444444444,
              "#bd3786"
             ],
             [
              0.5555555555555556,
              "#d8576b"
             ],
             [
              0.6666666666666666,
              "#ed7953"
             ],
             [
              0.7777777777777778,
              "#fb9f3a"
             ],
             [
              0.8888888888888888,
              "#fdca26"
             ],
             [
              1,
              "#f0f921"
             ]
            ],
            "type": "heatmapgl"
           }
          ],
          "histogram": [
           {
            "marker": {
             "pattern": {
              "fillmode": "overlay",
              "size": 10,
              "solidity": 0.2
             }
            },
            "type": "histogram"
           }
          ],
          "histogram2d": [
           {
            "colorbar": {
             "outlinewidth": 0,
             "ticks": ""
            },
            "colorscale": [
             [
              0,
              "#0d0887"
             ],
             [
              0.1111111111111111,
              "#46039f"
             ],
             [
              0.2222222222222222,
              "#7201a8"
             ],
             [
              0.3333333333333333,
              "#9c179e"
             ],
             [
              0.4444444444444444,
              "#bd3786"
             ],
             [
              0.5555555555555556,
              "#d8576b"
             ],
             [
              0.6666666666666666,
              "#ed7953"
             ],
             [
              0.7777777777777778,
              "#fb9f3a"
             ],
             [
              0.8888888888888888,
              "#fdca26"
             ],
             [
              1,
              "#f0f921"
             ]
            ],
            "type": "histogram2d"
           }
          ],
          "histogram2dcontour": [
           {
            "colorbar": {
             "outlinewidth": 0,
             "ticks": ""
            },
            "colorscale": [
             [
              0,
              "#0d0887"
             ],
             [
              0.1111111111111111,
              "#46039f"
             ],
             [
              0.2222222222222222,
              "#7201a8"
             ],
             [
              0.3333333333333333,
              "#9c179e"
             ],
             [
              0.4444444444444444,
              "#bd3786"
             ],
             [
              0.5555555555555556,
              "#d8576b"
             ],
             [
              0.6666666666666666,
              "#ed7953"
             ],
             [
              0.7777777777777778,
              "#fb9f3a"
             ],
             [
              0.8888888888888888,
              "#fdca26"
             ],
             [
              1,
              "#f0f921"
             ]
            ],
            "type": "histogram2dcontour"
           }
          ],
          "mesh3d": [
           {
            "colorbar": {
             "outlinewidth": 0,
             "ticks": ""
            },
            "type": "mesh3d"
           }
          ],
          "parcoords": [
           {
            "line": {
             "colorbar": {
              "outlinewidth": 0,
              "ticks": ""
             }
            },
            "type": "parcoords"
           }
          ],
          "pie": [
           {
            "automargin": true,
            "type": "pie"
           }
          ],
          "scatter": [
           {
            "fillpattern": {
             "fillmode": "overlay",
             "size": 10,
             "solidity": 0.2
            },
            "type": "scatter"
           }
          ],
          "scatter3d": [
           {
            "line": {
             "colorbar": {
              "outlinewidth": 0,
              "ticks": ""
             }
            },
            "marker": {
             "colorbar": {
              "outlinewidth": 0,
              "ticks": ""
             }
            },
            "type": "scatter3d"
           }
          ],
          "scattercarpet": [
           {
            "marker": {
             "colorbar": {
              "outlinewidth": 0,
              "ticks": ""
             }
            },
            "type": "scattercarpet"
           }
          ],
          "scattergeo": [
           {
            "marker": {
             "colorbar": {
              "outlinewidth": 0,
              "ticks": ""
             }
            },
            "type": "scattergeo"
           }
          ],
          "scattergl": [
           {
            "marker": {
             "colorbar": {
              "outlinewidth": 0,
              "ticks": ""
             }
            },
            "type": "scattergl"
           }
          ],
          "scattermapbox": [
           {
            "marker": {
             "colorbar": {
              "outlinewidth": 0,
              "ticks": ""
             }
            },
            "type": "scattermapbox"
           }
          ],
          "scatterpolar": [
           {
            "marker": {
             "colorbar": {
              "outlinewidth": 0,
              "ticks": ""
             }
            },
            "type": "scatterpolar"
           }
          ],
          "scatterpolargl": [
           {
            "marker": {
             "colorbar": {
              "outlinewidth": 0,
              "ticks": ""
             }
            },
            "type": "scatterpolargl"
           }
          ],
          "scatterternary": [
           {
            "marker": {
             "colorbar": {
              "outlinewidth": 0,
              "ticks": ""
             }
            },
            "type": "scatterternary"
           }
          ],
          "surface": [
           {
            "colorbar": {
             "outlinewidth": 0,
             "ticks": ""
            },
            "colorscale": [
             [
              0,
              "#0d0887"
             ],
             [
              0.1111111111111111,
              "#46039f"
             ],
             [
              0.2222222222222222,
              "#7201a8"
             ],
             [
              0.3333333333333333,
              "#9c179e"
             ],
             [
              0.4444444444444444,
              "#bd3786"
             ],
             [
              0.5555555555555556,
              "#d8576b"
             ],
             [
              0.6666666666666666,
              "#ed7953"
             ],
             [
              0.7777777777777778,
              "#fb9f3a"
             ],
             [
              0.8888888888888888,
              "#fdca26"
             ],
             [
              1,
              "#f0f921"
             ]
            ],
            "type": "surface"
           }
          ],
          "table": [
           {
            "cells": {
             "fill": {
              "color": "#EBF0F8"
             },
             "line": {
              "color": "white"
             }
            },
            "header": {
             "fill": {
              "color": "#C8D4E3"
             },
             "line": {
              "color": "white"
             }
            },
            "type": "table"
           }
          ]
         },
         "layout": {
          "annotationdefaults": {
           "arrowcolor": "#2a3f5f",
           "arrowhead": 0,
           "arrowwidth": 1
          },
          "autotypenumbers": "strict",
          "coloraxis": {
           "colorbar": {
            "outlinewidth": 0,
            "ticks": ""
           }
          },
          "colorscale": {
           "diverging": [
            [
             0,
             "#8e0152"
            ],
            [
             0.1,
             "#c51b7d"
            ],
            [
             0.2,
             "#de77ae"
            ],
            [
             0.3,
             "#f1b6da"
            ],
            [
             0.4,
             "#fde0ef"
            ],
            [
             0.5,
             "#f7f7f7"
            ],
            [
             0.6,
             "#e6f5d0"
            ],
            [
             0.7,
             "#b8e186"
            ],
            [
             0.8,
             "#7fbc41"
            ],
            [
             0.9,
             "#4d9221"
            ],
            [
             1,
             "#276419"
            ]
           ],
           "sequential": [
            [
             0,
             "#0d0887"
            ],
            [
             0.1111111111111111,
             "#46039f"
            ],
            [
             0.2222222222222222,
             "#7201a8"
            ],
            [
             0.3333333333333333,
             "#9c179e"
            ],
            [
             0.4444444444444444,
             "#bd3786"
            ],
            [
             0.5555555555555556,
             "#d8576b"
            ],
            [
             0.6666666666666666,
             "#ed7953"
            ],
            [
             0.7777777777777778,
             "#fb9f3a"
            ],
            [
             0.8888888888888888,
             "#fdca26"
            ],
            [
             1,
             "#f0f921"
            ]
           ],
           "sequentialminus": [
            [
             0,
             "#0d0887"
            ],
            [
             0.1111111111111111,
             "#46039f"
            ],
            [
             0.2222222222222222,
             "#7201a8"
            ],
            [
             0.3333333333333333,
             "#9c179e"
            ],
            [
             0.4444444444444444,
             "#bd3786"
            ],
            [
             0.5555555555555556,
             "#d8576b"
            ],
            [
             0.6666666666666666,
             "#ed7953"
            ],
            [
             0.7777777777777778,
             "#fb9f3a"
            ],
            [
             0.8888888888888888,
             "#fdca26"
            ],
            [
             1,
             "#f0f921"
            ]
           ]
          },
          "colorway": [
           "#636efa",
           "#EF553B",
           "#00cc96",
           "#ab63fa",
           "#FFA15A",
           "#19d3f3",
           "#FF6692",
           "#B6E880",
           "#FF97FF",
           "#FECB52"
          ],
          "font": {
           "color": "#2a3f5f"
          },
          "geo": {
           "bgcolor": "white",
           "lakecolor": "white",
           "landcolor": "#E5ECF6",
           "showlakes": true,
           "showland": true,
           "subunitcolor": "white"
          },
          "hoverlabel": {
           "align": "left"
          },
          "hovermode": "closest",
          "mapbox": {
           "style": "light"
          },
          "paper_bgcolor": "white",
          "plot_bgcolor": "#E5ECF6",
          "polar": {
           "angularaxis": {
            "gridcolor": "white",
            "linecolor": "white",
            "ticks": ""
           },
           "bgcolor": "#E5ECF6",
           "radialaxis": {
            "gridcolor": "white",
            "linecolor": "white",
            "ticks": ""
           }
          },
          "scene": {
           "xaxis": {
            "backgroundcolor": "#E5ECF6",
            "gridcolor": "white",
            "gridwidth": 2,
            "linecolor": "white",
            "showbackground": true,
            "ticks": "",
            "zerolinecolor": "white"
           },
           "yaxis": {
            "backgroundcolor": "#E5ECF6",
            "gridcolor": "white",
            "gridwidth": 2,
            "linecolor": "white",
            "showbackground": true,
            "ticks": "",
            "zerolinecolor": "white"
           },
           "zaxis": {
            "backgroundcolor": "#E5ECF6",
            "gridcolor": "white",
            "gridwidth": 2,
            "linecolor": "white",
            "showbackground": true,
            "ticks": "",
            "zerolinecolor": "white"
           }
          },
          "shapedefaults": {
           "line": {
            "color": "#2a3f5f"
           }
          },
          "ternary": {
           "aaxis": {
            "gridcolor": "white",
            "linecolor": "white",
            "ticks": ""
           },
           "baxis": {
            "gridcolor": "white",
            "linecolor": "white",
            "ticks": ""
           },
           "bgcolor": "#E5ECF6",
           "caxis": {
            "gridcolor": "white",
            "linecolor": "white",
            "ticks": ""
           }
          },
          "title": {
           "x": 0.05
          },
          "xaxis": {
           "automargin": true,
           "gridcolor": "white",
           "linecolor": "white",
           "ticks": "",
           "title": {
            "standoff": 15
           },
           "zerolinecolor": "white",
           "zerolinewidth": 2
          },
          "yaxis": {
           "automargin": true,
           "gridcolor": "white",
           "linecolor": "white",
           "ticks": "",
           "title": {
            "standoff": 15
           },
           "zerolinecolor": "white",
           "zerolinewidth": 2
          }
         }
        },
        "title": {
         "text": "What is overwatch 2?"
        },
        "xaxis": {
         "visible": false
        },
        "yaxis": {
         "visible": false
        }
       }
      }
     },
     "metadata": {},
     "output_type": "display_data"
    }
   ],
   "source": [
    "import plotly.graph_objects as go\n",
    "\n",
    "# Scatter plot for database embeddings\n",
    "scatter_dataset = go.Scatter(\n",
    "    x=projected_dataset_embeddings[:, 0],\n",
    "    y=projected_dataset_embeddings[:, 1],\n",
    "    mode='markers',\n",
    "    marker=dict(size=10, color='gray'),\n",
    "    name='Dataset Embeddings',\n",
    "    hovertext=db_documents,\n",
    "    hoverinfo='text',\n",
    "    hoverlabel = dict(font=dict(color='white'))\n",
    ")\n",
    "\n",
    "# Scatter plot for query embedding\n",
    "scatter_query = go.Scatter(\n",
    "    x=[projected_query_embedding[0, 0]],\n",
    "    y=[projected_query_embedding[0, 1]],\n",
    "    mode='markers',\n",
    "    marker={\"size\":25, \"color\":'red', \"symbol\":'x'},\n",
    "    name='Query Embedding',\n",
    "    hovertext=query,\n",
    "    hoverinfo='text'\n",
    ")\n",
    "\n",
    "# Scatter plot for retrieved embeddings\n",
    "scatter_retrieved = go.Scatter(\n",
    "    x=projected_retrieved_embeddings[:, 0],\n",
    "    y=projected_retrieved_embeddings[:, 1],\n",
    "    mode='markers',\n",
    "    marker=dict(size=15, color='orange', symbol='circle'),\n",
    "    name='Retrieved Embeddings',\n",
    "    hovertext=retrieved_documents,\n",
    "    hoverinfo='text'\n",
    ")\n",
    "\n",
    "# Define layout\n",
    "layout = go.Layout(\n",
    "    title=query,\n",
    "    xaxis=dict(visible=False),\n",
    "    yaxis=dict(visible=False)\n",
    ")\n",
    "\n",
    "# Create figure\n",
    "fig = go.Figure(data=[scatter_dataset, scatter_query, scatter_retrieved], layout=layout)\n",
    "\n",
    "# Display plot\n",
    "fig.show()"
   ]
  },
  {
   "cell_type": "code",
   "execution_count": null,
   "metadata": {},
   "outputs": [],
   "source": [
    "fig.write_html(\"file.html\")"
   ]
  },
  {
   "cell_type": "code",
   "execution_count": null,
   "metadata": {},
   "outputs": [
    {
     "data": {
      "text/plain": [
       "True"
      ]
     },
     "execution_count": 21,
     "metadata": {},
     "output_type": "execute_result"
    }
   ],
   "source": [
    "import webbrowser\n",
    "\n",
    "webbrowser.open_new_tab(\"file.html\")"
   ]
  },
  {
   "cell_type": "code",
   "execution_count": null,
   "metadata": {},
   "outputs": [],
   "source": []
  },
  {
   "cell_type": "code",
   "execution_count": null,
   "metadata": {},
   "outputs": [],
   "source": []
  },
  {
   "cell_type": "code",
   "execution_count": 2,
   "metadata": {},
   "outputs": [
    {
     "name": "stderr",
     "output_type": "stream",
     "text": [
      "c:\\Users\\tzbk\\AppData\\Local\\Programs\\Python\\Python311\\Lib\\site-packages\\torch\\_utils.py:831: UserWarning: TypedStorage is deprecated. It will be removed in the future and UntypedStorage will be the only storage class. This should only matter to you if you are using storages directly.  To access UntypedStorage directly, use tensor.untyped_storage() instead of tensor.storage()\n",
      "  return self.fget.__get__(instance, owner)()\n"
     ]
    },
    {
     "ename": "AttributeError",
     "evalue": "partially initialized module 'umap' has no attribute 'UMAP' (most likely due to a circular import)",
     "output_type": "error",
     "traceback": [
      "\u001b[1;31m---------------------------------------------------------------------------\u001b[0m",
      "\u001b[1;31mAttributeError\u001b[0m                            Traceback (most recent call last)",
      "Cell \u001b[1;32mIn[2], line 1\u001b[0m\n\u001b[1;32m----> 1\u001b[0m \u001b[38;5;28;01mimport\u001b[39;00m \u001b[38;5;21;01mumap\u001b[39;00m\n\u001b[0;32m      2\u001b[0m \u001b[38;5;28;01mimport\u001b[39;00m \u001b[38;5;21;01mnumpy\u001b[39;00m \u001b[38;5;28;01mas\u001b[39;00m \u001b[38;5;21;01mnp\u001b[39;00m\n\u001b[0;32m      3\u001b[0m \u001b[38;5;28;01mfrom\u001b[39;00m \u001b[38;5;21;01mtqdm\u001b[39;00m \u001b[38;5;28;01mimport\u001b[39;00m tqdm\n",
      "File \u001b[1;32mc:\\Users\\tzbk\\CODIGOS\\machine_learning\\nlp_rag\\umap.py:27\u001b[0m\n\u001b[0;32m     24\u001b[0m embeddings \u001b[38;5;241m=\u001b[39m collection\u001b[38;5;241m.\u001b[39mget(include\u001b[38;5;241m=\u001b[39m[\u001b[38;5;124m\"\u001b[39m\u001b[38;5;124membeddings\u001b[39m\u001b[38;5;124m\"\u001b[39m, \u001b[38;5;124m\"\u001b[39m\u001b[38;5;124mdocuments\u001b[39m\u001b[38;5;124m\"\u001b[39m])\n\u001b[0;32m     25\u001b[0m np_embeddings \u001b[38;5;241m=\u001b[39m np\u001b[38;5;241m.\u001b[39marray(embeddings[\u001b[38;5;124m\"\u001b[39m\u001b[38;5;124membeddings\u001b[39m\u001b[38;5;124m\"\u001b[39m])\n\u001b[1;32m---> 27\u001b[0m umap_transform \u001b[38;5;241m=\u001b[39m \u001b[43mumap\u001b[49m\u001b[38;5;241;43m.\u001b[39;49m\u001b[43mUMAP\u001b[49m(n_components\u001b[38;5;241m=\u001b[39m\u001b[38;5;241m4\u001b[39m)\u001b[38;5;241m.\u001b[39mfit(np_embeddings)\n\u001b[0;32m     30\u001b[0m \u001b[38;5;28;01mdef\u001b[39;00m \u001b[38;5;21mproject_embeddings\u001b[39m(embeddings, umap_transform):\n\u001b[0;32m     31\u001b[0m     umap_embeddings \u001b[38;5;241m=\u001b[39m np\u001b[38;5;241m.\u001b[39mempty((\u001b[38;5;28mlen\u001b[39m(embeddings), \u001b[38;5;241m4\u001b[39m))\n",
      "\u001b[1;31mAttributeError\u001b[0m: partially initialized module 'umap' has no attribute 'UMAP' (most likely due to a circular import)"
     ]
    }
   ],
   "source": [
    "import umap\n",
    "import numpy as np\n",
    "from tqdm import tqdm\n",
    "import chromadb\n",
    "from chromadb.config import Settings\n",
    "# pip install umap-learn\n",
    "\n",
    "from app.infrastructure.vector_db import retrieve_context, store_embedding_with_document\n",
    "from app.services.embedding_model import get_sentence_embedding\n",
    "from app.services.splitter import text_splitter\n",
    "\n",
    "db = chromadb.EphemeralClient(settings=Settings(anonymized_telemetry=False))\n",
    "# db.delete_collection(name=\"test_collection\")\n",
    "collection = db.get_or_create_collection(name=\"make_umap\")\n",
    "with open(\"tests/ow.txt\") as file:\n",
    "    text = file.read()\n",
    "chunks = text_splitter.split_text(text)\n",
    "for i, chunk in enumerate(chunks):\n",
    "    chunk = chunk.replace(\"\\n\", \" \")\n",
    "    embedding = get_sentence_embedding(chunk)\n",
    "    store_embedding_with_document(embedding, str(i), chunk, collection=collection)\n"
   ]
  },
  {
   "cell_type": "code",
   "execution_count": null,
   "metadata": {},
   "outputs": [
    {
     "ename": "NameError",
     "evalue": "name 'collection' is not defined",
     "output_type": "error",
     "traceback": [
      "\u001b[1;31m---------------------------------------------------------------------------\u001b[0m",
      "\u001b[1;31mNameError\u001b[0m                                 Traceback (most recent call last)",
      "Cell \u001b[1;32mIn[1], line 1\u001b[0m\n\u001b[1;32m----> 1\u001b[0m embeddings \u001b[38;5;241m=\u001b[39m \u001b[43mcollection\u001b[49m\u001b[38;5;241m.\u001b[39mget(include\u001b[38;5;241m=\u001b[39m[\u001b[38;5;124m'\u001b[39m\u001b[38;5;124membeddings\u001b[39m\u001b[38;5;124m'\u001b[39m, \u001b[38;5;124m'\u001b[39m\u001b[38;5;124mdocuments\u001b[39m\u001b[38;5;124m'\u001b[39m])\n\u001b[0;32m      2\u001b[0m np_embeddings \u001b[38;5;241m=\u001b[39m np\u001b[38;5;241m.\u001b[39marray(embeddings[\u001b[38;5;124m'\u001b[39m\u001b[38;5;124membeddings\u001b[39m\u001b[38;5;124m'\u001b[39m])\n\u001b[0;32m      4\u001b[0m umap_transform \u001b[38;5;241m=\u001b[39m umap\u001b[38;5;241m.\u001b[39mUMAP(n_components\u001b[38;5;241m=\u001b[39m\u001b[38;5;241m4\u001b[39m)\u001b[38;5;241m.\u001b[39mfit(np_embeddings)\n",
      "\u001b[1;31mNameError\u001b[0m: name 'collection' is not defined"
     ]
    }
   ],
   "source": [
    "embeddings = collection.get(include=['embeddings', 'documents'])\n",
    "np_embeddings = np.array(embeddings['embeddings'])\n",
    "\n",
    "umap_transform = umap.UMAP(n_components=4).fit(np_embeddings)\n",
    "\n",
    "def project_embeddings(embeddings, umap_transform):\n",
    "    umap_embeddings = np.empty((len(embeddings),4))\n",
    "    for i, embedding in enumerate(tqdm(embeddings)):\n",
    "        umap_embeddings[i] = umap_transform.transform([embedding])\n",
    "    return umap_embeddings\n",
    "\n",
    "projected_dataset_embeddings = project_embeddings(embeddings['embeddings'], umap_transform)\n",
    "\n",
    "query = \"What is overwatch 2?\"\n",
    "\n",
    "results = collection.query(query_texts=query, n_results=3, include=['documents', 'embeddings'])\n",
    "\n",
    "query_embedding = get_sentence_embedding([query])\n",
    "retrieved_embeddings = results['embeddings'][0]\n",
    "\n",
    "projected_query_embedding = project_embeddings([query_embedding], umap_transform)\n",
    "projected_retrieved_embeddings = project_embeddings(retrieved_embeddings, umap_transform)\n",
    "\n",
    "db_documents = []\n",
    "for x in embeddings['documents']:\n",
    "    result = ''\n",
    "    for i in range(0, len(x), 70):\n",
    "        result += x[i:i+70] + '<br>'\n",
    "    db_documents.append(result)"
   ]
  },
  {
   "cell_type": "code",
   "execution_count": null,
   "metadata": {},
   "outputs": [],
   "source": [
    "retrieved_documents = []\n",
    "for x in results['documents'][0]:\n",
    "    result = ''\n",
    "    for i in range(0, len(x), 70):\n",
    "        result += x[i:i+70] + '<br>'\n",
    "    retrieved_documents.append(result)"
   ]
  },
  {
   "cell_type": "code",
   "execution_count": null,
   "metadata": {},
   "outputs": [
    {
     "data": {
      "application/vnd.plotly.v1+json": {
       "config": {
        "plotlyServerURL": "https://plot.ly"
       },
       "data": [
        {
         "hoverinfo": "text",
         "hoverlabel": {
          "font": {
           "color": "white"
          }
         },
         "hovertext": [
          "Overwatch (retroactively referred to as Overwatch 1[b]) was a 2016 tea<br>m-based multiplayer first-person shooter game by Blizzard Entertainmen<br>t. The game was first released for PlayStation 4, Windows, and Xbox On<br>e in May 2016 and Nintendo Switch in October 2019. Cross-platform play<br> was supported across all platforms.  Described as a \"hero shooter\", O<br>verwatch assigned players into two teams of six, with each player sele<br>cting from a large roster of characters, known as \"heroes\", with uniqu<br>e abilities. Teams worked to complete map-specific objectives within a<br> limited period of time. Blizzard added new characters, maps, and game<br> modes post-release, all free of charge, with the only additional cost<br> to players being optional loot boxes to purchase cosmetic items.<br>",
          "Overwatch is Blizzard's fourth major franchise and came about followin<br>g the 2014 cancellation of a massively multiplayer online role-playing<br> game, Titan. A portion of the Titan team were inspired by the success<br> of team-based first-person shooters like Team Fortress 2 and the popu<br>larity of multiplayer online battle arena games, creating a hero-based<br> shooter which emphasized teamwork. Some elements of Overwatch borrow <br>concepts from the canceled Titan project.<br>",
          "Overwatch is set sixty years into the future of a fictionalized Earth,<br> thirty years after the resolution of what is known as the \"Omnic Cris<br>is.\"[11] Before the Omnic Crisis, humanity had been in a golden age of<br> prosperity and technology development. Humans developed robots with a<br>rtificial intelligence called \"Omnics\", which were put to use to achie<br>ve economic equality, and began to be treated as people in their own r<br>ight. The Omnic Crisis began when the worldwide automated \"omnium\" fac<br>ilities that produced them started producing a series of lethal, hosti<br>le robots that attacked humankind. After individual nations' efforts f<br>ailed to ward off the Omnics, the United Nations quickly formed Overwa<br>tch, an international task force designed to combat this threat and re<br>store order.[12]<br>",
          "Two veteran soldiers from the Soldier Enhancement Program were put in <br>charge of Overwatch: Gabriel Reyes and Jack Morrison. Though Overwatch<br> successfully quelled the robotic uprising and brought many talented i<br>ndividuals to the forefront, a rift developed between Reyes and Morris<br>on due to Reyes being the official leader of the group despite everyon<br>e viewing the more popular Morrison as their true leader. Eventually, <br>Morrison was made the leader of Overwatch while Reyes was given charge<br> of Blackwatch, Overwatch's covert operations division, fighting terro<br>rist organizations like Talon, a group that appears to be trying to st<br>art a second Omnic Crisis, and Null Sector, a group of Omnics that rev<br>olted against the society that persecuted Omnics following the first C<br>risis.[12] Overwatch<br>",
          "a group that appears to be trying to start a second Omnic Crisis, and <br>Null Sector, a group of Omnics that revolted against the society that <br>persecuted Omnics following the first Crisis.[12] Overwatch continued <br>to maintain peace across the world for several decades in what came to<br> be called the \"Overwatch Generation\" as the team gained more members,<br> but the rift between Morrison and Reyes intensified. One night, Black<br>watch was dispatched to arrest a notorious mobster with ties to Talon.<br> After infiltrating the compound, Reyes chose to execute the mobster r<br>ather than let him buy his way out of prison. This action caused Black<br>watch and their less heroic actions to be exposed to the public. Sever<br>al allegations of wrongdoing and failures were leveled at Overwatch, l<br>eading to a public outcry<br>",
          "prison. This action caused Blackwatch and their less heroic actions to<br> be exposed to the public. Several allegations of wrongdoing and failu<br>res were leveled at Overwatch, leading to a public outcry against the <br>organization and in-fighting between its members, prompting the UN to <br>investigate the situation. During this, an explosion destroyed Overwat<br>ch's headquarters in Switzerland, purportedly killing Morrison and Rey<br>es among others. The UN passed the Petras Act, which dismantled Overwa<br>tch and forbade any Overwatch-type activity.[12]<br>",
          "Overwatch is set six years after the Petras Act; without Overwatch, co<br>rporations have started to take over, fighting and terrorism have brok<br>en out in parts of the globe, and there are signs of a second Omnic Cr<br>isis occurring in Russia. The intelligent gorilla Winston, a former me<br>mber of Overwatch, decides to begin reforming Overwatch to protect the<br> peace once again despite the Petras Act, with the team members recrui<br>ting old friends and gaining new allies in their fight.[13] It is reve<br>aled that Reyes and Morrison were not killed in the explosion resultin<br>g from their battle: Morrison became a masked vigilante known as \"Sold<br>ier: 76\", who is trying to uncover the reasons why Overwatch was shut <br>down, while Reyes joined Talon. Which lead to him being experimented o<br>n by Moira[14] who then<br>",
          "a masked vigilante known as \"Soldier: 76\", who is trying to uncover th<br>e reasons why Overwatch was shut down, while Reyes joined Talon. Which<br> lead to him being experimented on by Moira[14] who then became \"Reape<br>r\", a terrorist with a Death-like appearance.<br>",
          "Development Main article: Development of Overwatch Former lead directo<br>r Jeff Kaplan<br>",
          "Overwatch was developed by Blizzard Team 4 and published by Blizzard E<br>ntertainment.[15][16] The game came about in the aftermath of Blizzard<br>'s decision to cancel the massively multiplayer online role-playing ga<br>me Titan in 2013, a project that had been in development for about sev<br>en years. While most others assigned to the project were transferred t<br>o other departments within Blizzard, a small team of about 40 people, <br>led by director Jeff Kaplan, were tasked to come up with a new concept<br> for a game in a few months. After some brainstorming, they came onto <br>the idea of a hero team-based shooter, building upon the success of ga<br>mes like Team Fortress 2 and multiplayer online battle arenas. They st<br>arted with assets developed for Titan to demonstrate the proof-of-conc<br>ept and were greenlit to<br>",
          "building upon the success of games like Team Fortress 2 and multiplaye<br>r online battle arenas. They started with assets developed for Titan t<br>o demonstrate the proof-of-concept and were greenlit to build out the <br>full game, the first new intellectual property that Blizzard had devel<br>oped since StarCraft.[17][18]<br>",
          "The intra-company experience of Titan's cancellation served to help dr<br>ive the narrative and setting. They created an optimistic vision of th<br>e near-future, some decades following the Omnic Crisis and the formati<br>on and collapse of the peacekeeping Overwatch group. This allowed them<br> to create a diverse cast of characters, including non-human ones, and<br> colorful settings from around the globe.[19] The Overwatch team conti<br>nues to support the game through free updates, the introduction of new<br> characters, maps, game modes, cosmetic items, seasonal events, and ex<br>ternal media to support the game's narrative, as well as continuously <br>tuning how the individual heroes play by monitoring meta-game statisti<br>cs and user feedback.[20] New characters and maps were added regularly<br> to the game since launch,<br>",
          "Overwatch was unveiled at the 2014 BlizzCon event and was in a closed <br>beta from late 2015 through early 2016. An open beta before release dr<br>ew in nearly 10 million players. Overwatch received universal acclaim <br>from critics, who praised the game for its accessibility, the diverse <br>appeal of its hero characters, its cartoonish art style, and enjoyable<br> gameplay. Blizzard reported over US$1 billion in revenue during the f<br>irst year of its release and had more than 50 million players after th<br>ree years. Overwatch is considered to be among the greatest video game<br>s ever made, receiving numerous game of the year awards and other acco<br>lades. The game is a popular esport, with Blizzard funding and produci<br>ng the global Overwatch League.<br>",
          "as well as continuously tuning how the individual heroes play by monit<br>oring meta-game statistics and user feedback.[20] New characters and m<br>aps were added regularly to the game since launch, expanding the origi<br>nal hero roster from 21 in May 2016 to 32 by April 2020. Since April 2<br>020 however, no heroes have been released, as the development team is <br>focused on creating Overwatch 2.[21]<br>",
          "Overwatch's development had been led by Kaplan through April 2021, aft<br>er which he departed Blizzard. Kaplan's duties were taken over by Aaro<br>n Keller following his departure.[22] Release and marketing  Overwatch<br> was formally announced at the BlizzCon event on November 7, 2014; the<br> game was playable during the event to all attendees, with fourteen ch<br>aracters available to select from.[23] During this event, Blizzard rel<br>eased a cinematic trailer and an extended gameplay video for the game.<br>[24][25] A month after the BlizzCon event, in December 2014, Blizzard <br>published character introduction videos to its YouTube channel and fol<br>lowed up on this May 2015 by posting weekly videos of game footage and<br> character highlights.[23]<br>",
          "A closed beta period for Overwatch across all three platforms began on<br> October 27, 2015.[26] The closed beta was put on \"extended break\" in <br>December and brought back in February 2016.[27] Following the March 20<br>16 release announcement, Blizzard announced an open beta period from M<br>ay 5 to 9 for any registered user of the Battle.net client.[28][29] Th<br>e open beta proved popular with Blizzard reporting over 9.7 million pl<br>ayers participating,[30] and as a way of showing thanks, extended the <br>open beta period by one extra day.[31]<br>",
          "In the week before release, Blizzard arranged to have three giant-size<br>d boxes (approximately 15 feet (4.6 m) tall) of various Overwatch hero<br>es, as if being sold as packaged action figures, put on display across<br> the globe at Hollywood, Paris, and Busan, South Korea.[32][33][34] Th<br>e displays were created by Alliance Studios, led by Steve Wang, who ha<br>s collaborated with Blizzard before on past projects, and Eddie Yang.[<br>35] After planning the design of the sculptures in January 2016, teams<br> across the world, including Droga5, Scicon, Stratasys and Egads, race<br>d to print, finish and assemble the works in time for the game's relea<br>se.[36] Propelled by Overwatch, Blizzard had over 50% of the American <br>advertisement share among gaming industry brands from May 16 to June 1<br>5, 2016.[37]<br>",
          "Overwatch was released for PlayStation 4, Windows, and Xbox One on May<br> 24, 2016. Blizzard allowed retailers to sell physical copies of the g<br>ame a day before to help players prepare for the servers' launch.[38][<br>39]  Two special editions of Overwatch were released alongside the bas<br>e game. The Origins Edition, available both as a downloadable and reta<br>il product, includes the base game and five additional character skins<br>, as well as other bonus items for other Blizzard games via Battle.net<br>.[40] The Collectors Edition, only available as retail, includes the O<br>rigins Edition content as well as a statue of Soldier: 76, one of the <br>playable characters, along with the game's soundtrack and a source boo<br>k.[41]<br>",
          "In honor of its first anniversary in 2017, Blizzard released a digital<br> Game of the Year edition of Overwatch. It includes all content from t<br>he Origins Edition, in addition to ten free loot boxes.[42] Blizzard h<br>ad expressed interest in supporting cross-platform play between consol<br>e systems in the future, though initially had no plans for Windows-sup<br>ported cross-play due to the precision advantage of keyboard-mouse con<br>trols over controller-based ones.[43][44] However, in June 2021, Blizz<br>ard brought cross-platform play to Overwatch across all supported plat<br>forms, with a beta test launched at the start of the month before full<br> release by the end of June. To deal with the control differences, the<br> game's competitive mode would still remain segregated between console<br> players and computer<br>",
          "at the start of the month before full release by the end of June. To d<br>eal with the control differences, the game's competitive mode would st<br>ill remain segregated between console players and computer players, bu<br>t all other game modes would allow for cross-play on any combination o<br>f platforms, after users register their account via Battle.net.[45][46<br>]<br>",
          "The game was announced for Nintendo Switch during the September 2019 N<br>intendo Direct, the Switch had the Overwatch: Legendary Edition and wa<br>s released in North America and Europe on October 15, 2019,[47] and in<br> Japan on November 29, 2019. The Switch version, developed by Iron Gal<br>axy, includes support for the console's gyroscopic controls for some a<br>ctions, such as controlling Junkrat's Rip-tire, and maneuvering Wrecki<br>ng Ball in his spherical form.[47][48][49] The version is equivalent t<br>o the existing version of the game on other platforms, including all h<br>eroes, maps, and game modes, although Switch players will not be able <br>to participate in the game's current Competition season as to give pla<br>yers a chance to adjust to the console's controls before introducing r<br>anked play.[50] The version<br>",
          "Switch players will not be able to participate in the game's current C<br>ompetition season as to give players a chance to adjust to the console<br>'s controls before introducing ranked play.[50] The version has a game<br> case for retailers in North America and Europe but does not include a<br> physical Game Card, featuring a download code instead.[51]<br>",
          "The Xbox One version of the game received an optimization patch in Mar<br>ch 2021, adding new performance settings when played using backwards c<br>ompatibility on Xbox Series X/S, allowing the game to run at up to 120<br> frames per second on supported monitors.[52][53] Reception Reception <br>Aggregate scoreAggregator\tScore Metacritic\tNS: 73/100[67] PC: 91/100[6<br>8] PS4: 90/100[69] XONE: 91/100[70] Review scoresPublication\tScore Des<br>tructoid\t10/10[54] Electronic Gaming Monthly\t9/10[55] Game Informer\t10<br>/10[56] GameRevolution\t[57] GameSpot\t9/10[58] GamesRadar+\t[59] IGN\t9.4<br>/10[60] PC Gamer (US)\t88/100[61] Polygon\t8/10[62] VideoGamer.com\t9/10[<br>63] PlayStation LifeStyle\t10/10[64] The Escapist\t[65] The Guardian\t[66<br>] Edit on Wikidata<br>",
          "A sequel, Overwatch 2, was announced in 2019 and entered beta in 2022.<br> The game is free to play, with all cosmetic items from Overwatch carr<br>ied over while introducing new heroes, maps, and gamemodes. On October<br> 3, 2022, the Overwatch servers were shut down in preparation for the <br>release of Overwatch 2 the next day. Gameplay Main article: Gameplay o<br>f Overwatch A screenshot from Overwatch while in-match. The player (pl<br>aying Tracer) and their allies are indicated in blue, while the opposi<br>ng team is in red. The character's health bar is shown on the bottom l<br>eft, their primary skills and attacks are shown on the bottom right, a<br>nd their progress towards their ultimate ability is shown in the botto<br>m center.<br>",
          "Before its release, Overwatch experienced a period of pre-launch atten<br>tion not typically expected; Game Revolution noted that \"[Overwatch's]<br> reputation has quickly permeated through cyberspace, attracting atten<br>tion from people who may not traditionally put down $40 to $60 each ti<br>me a new first-person shooter releases.\"[71] The game's open beta, whi<br>ch attracted 9.7 million players, was very heavily covered by the medi<br>a.[72]<br>",
          "Overwatch received \"universal acclaim\" upon release, according to revi<br>ew aggregator Metacritic.[68][69][70] IGN's Vince Ingenito praised the<br> game's characters and maps, writing \"Overwatch takes just about every<br> possible opportunity to make its cast and locales seem like people an<br>d places rather than puppets and scenery.\" Ingenito added that the gam<br>e has a \"strong online experience that gets you into games quickly and<br> reliably.\"[60] The Verge's Andrew Webster praised Overwatch and previ<br>ous titles Titanfall and Splatoon as \"friendly online shooters\" that h<br>ave room for both new and casual players who may not desire to master <br>the game but can still compete fairly with others, and for expert play<br>ers that can utilize the various heroes to adapt to the dynamic tactic<br>s of the game.[73] Webster<br>",
          "who may not desire to master the game but can still compete fairly wit<br>h others, and for expert players that can utilize the various heroes t<br>o adapt to the dynamic tactics of the game.[73] Webster went on to cit<br>e the atmosphere of Overwatch as a reason for the game's approachabili<br>ty, writing, \"The first thing that makes Overwatch's world appealing a<br>nd approachable is, well, its world. This isn't the dour brown-and-gre<br>y shooter you might be used to. Instead, it's bright and colorful, wit<br>h a cast of characters that's eclectic and diverse.\"[73] Caty McCarthy<br> of Kill Screen echoed similar thoughts, writing \"When playing Overwat<br>ch, the player is absorbed by its radiating positivity. It's a world f<br>illed with lively color and energetic, playful competition, much like <br>Nintendo's creative<br>",
          "thoughts, writing \"When playing Overwatch, the player is absorbed by i<br>ts radiating positivity. It's a world filled with lively color and ene<br>rgetic, playful competition, much like Nintendo's creative kid-friendl<br>y ink-shooter Splatoon.\"[74] Mike Minotti of VentureBeat commending th<br>e team-based gameplay, the game's diverse character roster, and colorf<br>ul settings, as well as the unlockable cosmetics earned through level <br>progression and the smooth server connection.[75] Referencing its simi<br>larities to Team Fortress 2, Minotti confirmed that \"[Overwatch has] d<br>istinct classes, the team- and objective-based combat, and a bright, c<br>artoon-like art style,\" and that \"Overwatch certainly takes plenty of <br>inspiration from Valve online shooter series,\" but opines that \"[Overw<br>atch is] just better.\"[75]<br>",
          "combat, and a bright, cartoon-like art style,\" and that \"Overwatch cer<br>tainly takes plenty of inspiration from Valve online shooter series,\" <br>but opines that \"[Overwatch is] just better.\"[75] Daniel Tack of The N<br>ews & Observer positively received the game, expressing that \"no matte<br>r what happens â€“ win or lose â€“ you're going to have fun,\" adding t<br>hat \"the game's strength lies in its simplicity and polish.\"[76] Tack <br>went on to praise the game's characters, writing \"Unforgettable charac<br>ters are the lifeblood and driving force of Overwatch.\"[76] The Denver<br> Post's Hugh Johnson lauded the game for its emphasis on characters, r<br>ather than focusing on traditional first-person shooter tropes, such a<br>s weapon load-outs and incremental level upgrades.[77] Johnson went on<br> to insist that the<br>",
          "game for its emphasis on characters, rather than focusing on tradition<br>al first-person shooter tropes, such as weapon load-outs and increment<br>al level upgrades.[77] Johnson went on to insist that the characters a<br>re balanced writing, \"The big question with class-based shooters like <br>these is whether or not the characters are balanced,\" expressing that <br>\"some characters are naturally better, but no character is so overpowe<br>red that their mere presence spells doom for their opponents.\"[77] In <br>June 2016, Vulture's Joshua Rivera listed Overwatch as one of the \"bes<br>t video games of 2016 (so far),\" writing, \"It's hard to separate Overw<br>atch the game from Overwatch the phenomenonâ€”and why bother, both are<br> fascinating.\"[78]<br>",
          "The online magazine Inverse, while expressing an overall positive rece<br>ption for the game, pointed out the balance of McCree (know known as C<br>assidy), teams composed of only one character, issues with matchmaking<br>, and the Play of the Game as problems that should be fixed by the gam<br>e's development team.[79] Gabe Gurwin of Digital Trends, directed crit<br>icism at Blizzard, for their decision to exclude the story from the ga<br>me, which left players \"with a great game, a great story, and no way t<br>o reconcile the two.\"[80]<br>",
          "Shortly after the game's competitive play mode was released, Kotaku's <br>Nathan Grayson stated that \"Overwatch's competitive mode [is not] all <br>that bad, for how new and unpolished it is,\" but opined that \"high-sta<br>kes competition and toxicity tend to go hand-in-hand, and Overwatch's <br>competitive mode already has an ugly toxic stain.\" Grayson concluded h<br>is piece with \"Overwatch is, most of the time, a feel-good team game. <br>Introducing high-stakes competition with a muddled message about the i<br>mportance of individual skill drags the game into confused, oftentimes<br> negative territory. If Blizzard wants this thing to work, they're gon<br>na have to figure out a competitive framework that's true to Overwatch<br>'s spirit, rather than just the spirit of competition.\"[81] Kaplan ack<br>nowledged that with the<br>",
          "this thing to work, they're gonna have to figure out a competitive fra<br>mework that's true to Overwatch's spirit, rather than just the spirit <br>of competition.\"[81] Kaplan acknowledged that with the introduction of<br> competitive mode that the whole of the Overwatch community has become<br> more toxic, and they are continually adapting elements behind the sce<br>nes to help deal with aggressive players more responsibly, while tryin<br>g to promote more enjoyable matches.[82]<br>",
          "Sales Overwatch player growth \t Graphs are unavailable due to technica<br>l issues. There is more info on Phabricator and on MediaWiki.org.<br>",
          "Overwatch was an online team-based game generally played as a first-pe<br>rson shooter. The game featured several different game modes, principa<br>lly designed around squad-based combat with two opposing teams of six <br>players each. Players selected one of over two dozen pre-made hero cha<br>racters from one of three class types: Damage heroes that deal most of<br> the damage to attack or defend control points, Tank heroes that can a<br>bsorb a large amount of damage, and Support heroes that provide healin<br>g or other buffs for their teammates.[c] Each hero had a unique skill <br>kit, defining their intrinsic attributes like health points and runnin<br>g speed, their primary attacks, several active and passive skills, and<br> an ultimate ability that can only be used after it has been charged t<br>hrough dealing damage to<br>",
          "A week from its launch, Blizzard reported over seven million Overwatch<br> players with a total accumulated playtime of 119 million hours;[83] B<br>lizzard reported more than 10 million players by mid-June[84] and has <br>reported continued increases in the player base, with 60 million playe<br>rs as of April 2021 whilst possibly counting temporary free accounts.[<br>85] The NPD Group, a video game industry tracking firm, reported that <br>Overwatch was the third best-selling retail video game (nb. discountin<br>g digital sales through Battle.net) in the US in May 2016 on the month<br> of its release, and was the top-selling game in June 2016;[86][87] th<br>e NPD Group later reported it was the 7th highest selling game by reve<br>nue (excluding Battle.net sales) in the United States for all of 2016.<br>[88] With digital sales,<br>",
          "game in June 2016;[86][87] the NPD Group later reported it was the 7th<br> highest selling game by revenue (excluding Battle.net sales) in the U<br>nited States for all of 2016.[88] With digital sales, Overwatch was th<br>e fastest-selling game during its release month.[89] SuperData Researc<br>h estimated that Overwatch brought in more than $269 million in revenu<br>es from digital sales worldwide in May,[90] and over $565 million in s<br>ales on personal computers along by the end of 2016, making it the hig<br>hest-grossing paid game for personal computers that year.[91]<br>",
          "In Activision-Blizzard's quarterly earnings report for Q1 2017, the co<br>mpany reported that Overwatch revenues had exceeded one billion dollar<br>s, the eighth such property owned by the company to do so.[92] In June<br> 2016, Gametrics, a South Korean internet cafe survey website, reporte<br>d that Overwatch overtook League of Legends as the most popular game p<br>layed across 4,000 of South Korea's PC bangs at the time.[93] In 2018,<br> Overwatch raised over $12.7 million for the Breast Cancer Research Fo<br>undation, which they generated from selling a special pink-colored Mer<br>cy skin where all proceeds went towards it.[94] By July 2019, total in<br>-game spending in Overwatch exceeded one billion dollars as estimated <br>by SuperData, the sixth Activision-Blizzard product line to reach this<br> metric.[95] Controversies<br>",
          "While the developers were aiming to avoid sexualization of the charact<br>ers, there was some criticism of the female characters of the game dur<br>ing its development. In February 2015, Anita Sarkeesian commented on t<br>he lack of diversity in the female heroes' body types from the game's <br>first twelve revealed characters,[96] while Nathan Grayson of Kotaku r<br>emarked that \"Overwatch's women are mostly super slim and clad in cat <br>suits.\"[97] In March 2015, the development team revealed a new charact<br>er, Zarya, who is a female Russian bodybuilder with a muscular body, a<br>nd pledged commitment to diversity.[98]<br>",
          "Following promotional images featuring the female character Tracer in <br>March 2016, a thread on Blizzard's official forums drew attention to o<br>ne of Tracer's victory poses, which was criticized by a user as out of<br> character and oversexualized. Kaplan apologized for the pose, stating<br> \"The last thing we want to do is make someone feel uncomfortable, und<br>er-appreciated or misrepresented,\" and confirmed that Blizzard planned<br> to replace the pose. Kaplan's response drew mixed reactions from the <br>gaming community, with many claiming Blizzard had forgone its creative<br> control over the game and censored its content to placate one offende<br>d user, while others praised Blizzard's willingness to listen to the c<br>ommunity and adhere to standards for portraying a character according <br>to their personality. Kaplan<br>",
          "content to placate one offended user, while others praised Blizzard's <br>willingness to listen to the community and adhere to standards for por<br>traying a character according to their personality. Kaplan later state<br>d that the team was already unsure of the pose and was thinking of cha<br>nging it.[99] The following week, a replacement pose was released, alt<br>hough it was noted to be similar to the original pose.[100][101] The r<br>eplacement pose was alleged to be influenced by Billy DeVorss cheeseca<br>ke pin-up art.[101] The pose was replaced during the game's beta perio<br>d.[100]<br>",
          "Following the game's release, some of the alternative outfits for char<br>acters had come under criticism for using cultural stereotypes, such a<br>s a Native American headdress option for the character of Pharah, who <br>seemed to be primarily of Egyptian origin. Kaplan noted that they had <br>considered if these outfits were appropriate, and believed they were r<br>especting the cultures of the characters they had created and would ma<br>ke necessary changes if they felt there were valid concerns. Kaplan co<br>mmented that many players have responded positively to these outfits a<br>nd feel they fit in appropriately with the idealized version of Earth.<br>[102] Later game developments showed that Pharah was set out as a half<br>-Egyptian/half-Native American character, making such outfits appropri<br>ate in hindsight.[103]<br>",
          "In July 2016, the President of the Universal Society of Hinduism (Raja<br>n Zed) urged Blizzard to remove two of Symmetra's hero cosmetic items <br>from the game since they could be seen as inappropriate and not accura<br>te towards the beliefs and practices of Hinduism. In Hinduism, devotee<br>s put their destinies in the hands of their gods and goddesses; this i<br>s a stark contrast to how he believes they are portrayed within the ga<br>me.[104] Zed has in the past commented on other video game depictions <br>of Hindu-inspired gods, such as in the multiplayer online battle arena<br> (MOBA) game Smite.[105][106]<br>",
          "In Overwatch's Asia servers, there were problems with numerous players<br> using cheats tied to the growing number of younger players using PC b<br>angs in South Korea that allowed them to play Overwatch on an inexpens<br>ive hourly rate rather than purchasing the game. As these players do n<br>ot need permanent accounts, they can use disposable Battle.net account<br>s and employ game hacks without repercussions, and if that account is <br>banned, they can quickly make another and continue playing. Blizzard c<br>ontinues to block these accounts at a rate of thousands per day, but h<br>ave not been able to find a more permanent solution.[107] Subsequently<br>, Blizzard announced that players from South Korea would be required t<br>o log into a Battle.net account to play the game from February 2017 on<br>ward, which requires a<br>",
          "permanent solution.[107] Subsequently, Blizzard announced that players<br> from South Korea would be required to log into a Battle.net account t<br>o play the game from February 2017 onward, which requires a difficult-<br>to-spoof resident registration number among other unique information, <br>which Blizzard believes would help to alleviate the problem.[108]<br>",
          "like health points and running speed, their primary attacks, several a<br>ctive and passive skills, and an ultimate ability that can only be use<br>d after it has been charged through dealing damage to enemies and heal<br>ing allies. Players could change their hero during the course of a mat<br>ch, as a goal of Overwatch's design was to encourage dynamic team comp<br>ositions that adapt to the situation. The game's genre has been descri<br>bed by some journalists as a \"hero shooter\", due to its design around <br>specific heroes and classes.[5][6]<br>",
          "As to maintain a fair competitive field on consoles, Blizzard has spok<br>en out against the use of input converters that would allow console pl<br>ayers to use keyboard/mouse controllers, believing this gives an advan<br>tage to players that can afford the converter.[109] Some players have <br>criticized the ability to use these converters, as players with them o<br>ften populate the top of the competitive ranking ladders. Though Blizz<br>ard has appealed to Sony and Microsoft to either prevent such converte<br>rs, or to detect when such converters are used as to be able to segreg<br>ate players into servers based on this, disabled players have spoken o<br>ut against such action, as many need to use such converters to play th<br>e game on consoles lacking the ability to use a normal controller.[110<br>]<br>",
          "After a year from its release, journalists observed that the player co<br>mmunity was becoming more toxic, disrupting the enjoyment of playing t<br>he game. It was believed this came from the nature of the game that re<br>quires teamwork, and when teammates see players unwilling to switch to<br> different heroes to balance the team or otherwise play for individual<br> gains, this would cause the teammates to become angry and lash out at<br> the player, become griefers and throw the match, or other harmful beh<br>avior that would spread over time, particularly in the game's competit<br>ive mode. Players are able to report malicious users with in-game tool<br>s, and Blizzard can ban players for egregious actions, but they do not<br> attempt to segregate out bad actors from the larger pool (a method us<br>ed by other developers in<br>",
          "malicious users with in-game tools, and Blizzard can ban players for e<br>gregious actions, but they do not attempt to segregate out bad actors <br>from the larger pool (a method used by other developers in multiplayer<br> games), instead keeping an inclusive community for all non-banned pla<br>yers, which is believed to contribute to the growing toxicity. Kaplan <br>said in a September 2017 update that Blizzard was very well aware of t<br>he problem, and have worked to improve their in-game player behavior r<br>eporting tools to help combat the toxicity, but because they have had <br>to put greater effort into this, they are distracted from developing n<br>ew features and content for the game. Kaplan urged the community to co<br>nsider how they can improve individually and as a whole to help combat<br> the<br>",
          "effort into this, they are distracted from developing new features and<br> content for the game. Kaplan urged the community to consider how they<br> can improve individually and as a whole to help combat the situations<br>.[111][112][113]<br>",
          "In November 2017, the Belgian Gaming Commission announced that it was <br>investigating Overwatch alongside Star Wars Battlefront II to determin<br>e whether loot boxes constituted unlicensed gambling.[114] Many Asian <br>and European countries view loot boxes as a form of gambling and have <br>since decided to make them illegal for companies to sell directly to t<br>heir consumers in their games.[115] Blizzard has chosen to work with t<br>hese regions to follow their gambling laws while staying true to their<br> microtransaction focused business model. Within China, Blizzard has a<br>llowed their players to purchase in-game currency and receive loot box<br>es as a \"gift.\"[116] In addition to this loot box change, China has re<br>quired Blizzard to publicly disclose the exact odds of winning each ti<br>er of item within said loot<br>",
          "currency and receive loot boxes as a \"gift.\"[116] In addition to this <br>loot box change, China has required Blizzard to publicly disclose the <br>exact odds of winning each tier of item within said loot box.[117][118<br>] While initially loot boxes were not seen as gambling within the Unit<br>ed States; the US Federal Trade Commission decided in 2018 to investig<br>ate the legality of the projected soon to be 50 billion dollar industr<br>y of microtransactions.[119][120]<br>",
          "Awards<br>",
          "Overwatch won numerous awards in 2016, including being named Game of t<br>he Year at The Game Awards, D.I.C.E. Awards, and Game Developers Choic<br>e Awards, as well as several awards and nominations highlighting its g<br>ame direction and as a leading multiplayer game. Several publications,<br> including IGN,[121] GameSpot,[122][123][124][125] Game Revolution,[12<br>6] EGMNow,[127] GamesTM,[128] The Escapist,[129] Game Informer[130] an<br>d Eurogamer,[131] named Overwatch the best game of 2016, receiving 102<br> \"game of the year\" awards across critics and reader polls.[132]<br>",
          "Giant Bomb gave it the awards for \"Best Debut\" and \"Best Multiplayer\",<br>[133][134] and put it in third place for \"Game of the Year\".[135] Poly<br>gon and Slant Magazine also put the game in third place for \"Game of t<br>he Year\",[136][137] while PC Gamer gave it the award for \"Best Multipl<br>ayer\".[138] Besides \"Game of the Year\", The Escapist gave it the award<br>s for \"Best Shooter and Multiplayer\".[139] Game Informer gave it the a<br>wards for \"Best Competitive Multiplayer\" and \"Best Shooter\".[140][141]<br> At IGN's Best of 2016 Awards, the game won the awards for \"Best Shoot<br>er\", \"Best eSports Game\", \"Best Multiplayer\", and \"PC Game of the Year<br>\".[121] In IGN's Best of 2017 Awards, the game won the People's Choice<br> Award for \"Best Spectator Game\",[142] while Game Informer gave it the<br> award for \"Best Shooter as<br>",
          "and \"PC Game of the Year\".[121] In IGN's Best of 2017 Awards, the game<br> won the People's Choice Award for \"Best Spectator Game\",[142] while G<br>ame Informer gave it the award for \"Best Shooter as Service\" in their <br>2017 Shooter of the Year Awards.[143]<br>",
          "The game featured game modes for casual play, competitive ranked play,<br> and for supporting esports competitions including Blizzard's Overwatc<br>h League. These modes were generally centered around sequentially secu<br>ring control of points on the map, or escorting a payload between poin<br>ts on the map, with one team attacking while the other defends. Other <br>modes set aside for casual matches include solo and team deathmatch, c<br>apture-the-flag, and unique modes run during various seasonal events. <br>More recent updates had enabled users to craft their own game modes wi<br>th a limited set of scripting tools. Regardless of winning or losing a<br> match, players gained experience towards a player level, and on gaini<br>ng a new level, received loot boxes that contain cosmetic items that t<br>hey can use to customize the<br>",
          "In the years since its release, Overwatch has continued to be nominate<br>d and awarded for its strength as an esports game, as well as the ongo<br>ing content added to the title. Year \tAward \tCategory \tResult \t Ref. 2<br>016 \tGolden Joystick Awards \tBest Original Game \tWon \t[144][145] Best <br>Visual Design \tNominated Best Audio \tNominated Best Multiplayer Game \t<br>Won Best Gaming Moment (Play of the Game) \tWon Game of the Year \tNomin<br>ated PC Game of the Year \tWon Competitive Game of the Year \tWon The Ga<br>me Awards 2016 \tGame of the Year \tWon \t[146][147] Best Game Direction <br>\tWon Best Art Direction \tNominated Best Action Game \tNominated Best Mu<br>ltiplayer \tWon ESports Game of the Year \tWon Hollywood Music in Media <br>Awards \tBest Original Score â€“ Video Game \tWon \t[148]<br>",
          "Best Art Direction \tNominated Best Action Game \tNominated Best Multipl<br>ayer \tWon ESports Game of the Year \tWon Hollywood Music in Media Award<br>s \tBest Original Score â€“ Video Game \tWon \t[148] 2017 \t20th Annual D.<br>I.C.E. Awards \tGame of the Year \tWon \t[149] Action Game of the Year \tW<br>on Outstanding Achievement in Animation \tNominated Outstanding Achieve<br>ment in Game Design \tWon Outstanding Achievement in Online Gameplay \tW<br>on Outstanding Technical Achievement \tNominated 2017 SXSW Gaming Award<br>s \tVideo Game of the Year \tNominated \t[150][151] ESports Game of the Y<br>ear \tWon Trending Game of the Year \tWon Excellence in Design \tNominate<br>d Most Promising New Intellectual Property \tWon Most Memorable Charact<br>er (Tracer) \tNominated Excellence in Multiplayer \tWon Excellence in Ar<br>t \tNominated<br>",
          "Excellence in Design \tNominated Most Promising New Intellectual Proper<br>ty \tWon Most Memorable Character (Tracer) \tNominated Excellence in Mul<br>tiplayer \tWon Excellence in Art \tNominated Excellence in Animation \tNo<br>minated Game Developers Choice Awards \tGame of the Year \tWon \t[152][15<br>3] Best Audio \tNominated Best Design \tWon Best Technology \tNominated B<br>est Visual Art \tNominated 13th British Academy Games Awards \tBest Game<br> \tNominated \t[154][155] Game Design \tNominated Multiplayer \tWon Origin<br>al Property \tNominated AMD Esports Audience Award \tNominated ASCAP Com<br>posers' Choice Awards \t2016 Video Game Score of the Year \tNominated \t[<br>156] 2017 Teen Choice Awards \tChoice Video Game \tWon \t[157] Golden Joy<br>stick Awards \teSports Game of the Year \tWon \t[158][159] Still Playing <br>\tNominated<br>",
          "2017 Teen Choice Awards \tChoice Video Game \tWon \t[157] Golden Joystick<br> Awards \teSports Game of the Year \tWon \t[158][159] Still Playing \tNomi<br>nated The Game Awards 2017 \tBest Ongoing Game \tWon \t[160] Best eSports<br> Game \tWon 2018 \t14th British Academy Games Awards \tEvolving Game \tWon<br> \t[161] 2018 Webby Awards \tBest Game Design \tWon \t[162] Best Multiplay<br>er/Competitive Game \tWon 2018 Teen Choice Awards \tChoice Video Game \tN<br>ominated \t[163][164] Golden Joystick Awards \tStill Playing Award \tNomi<br>nated \t[165][166] eSports Game of the Year \tWon The Game Awards 2018 \t<br>Best Ongoing Game \tNominated \t[167][168] Best eSports Game \tWon 2019 \t<br>2019 SXSW Gaming Awards \tMost Evolved Game \tNominated \t[169] 15th Brit<br>ish Academy Games Awards \tEvolving Game \tNominated \t[170]<br>",
          "Best eSports Game \tWon 2019 \t2019 SXSW Gaming Awards \tMost Evolved Gam<br>e \tNominated \t[169] 15th British Academy Games Awards \tEvolving Game \t<br>Nominated \t[170] 2019 Webby Awards \tBest Multiplayer/Competitive Game <br>(People's Voice) \tWon \t[171] Golden Joystick Awards \teSports Game of t<br>he Year \tNominated \t[172] The Game Awards 2019 \tBest Esports Game \tNom<br>inated \t[173] Best Esports Event (2019 Overwatch League Grand Finals) <br>\tNominated 2020 \tGLAAD Media Awards \tOutstanding Video Game \tNominated<br> \t[174] Legacy Cosplay of various Overwatch characters at New York Com<br>ic Con 2016<br>",
          "Overwatch's fan base has been noted to be generally kind and supportiv<br>e; Daniel Starkey of Wired wrote, \"where many fresh games struggle wit<br>h an endless stream of player complaints and developer-prodding, Overw<br>atch's community is vivacious and jubilant.\"[24] A gamer with cerebral<br> palsy publicly praised the game's customizable controls, which let hi<br>m make his first snipe in a video game.[175][176] One of Blizzard's ar<br>tists, Roman Kenney, drew concept art based on one player's daughter's<br> original Overwatch character design.[177] Blizzard altered one of the<br> game's maps to include a tribute to an avid Chinese fan of the game w<br>ho died from injuries while trying to stop a motorcycle theft on the d<br>ay before the game's public release.[178]<br>",
          "Blizzard has encouraged fans of Overwatch to make artistic content bas<br>ed on the game.[179] To support this, Blizzard released the hero refer<br>ence kit before release, providing official colors and costume and wea<br>pon designs for all 21 heroes present at the game's launch.[180] Fans <br>have used these, the game's animated media, and other assets to create<br> a large amount of content, including art,[181][182] cosplay,[183][184<br>] and anime opening-style music videos.[185][186] Some Overwatch conce<br>pts have created internet memes such as \"Gremlin D.Va\", which focuses <br>on the character D.Va, portrayed through Western gamer stereotypes.[18<br>7] In some cases, Blizzard has reciprocated these fan creations back i<br>nto the game, such as an emote for D.Va, based on the Gremlin meme.[18<br>8] At the 2017 D.I.C.E.<br>",
          "Western gamer stereotypes.[187] In some cases, Blizzard has reciprocat<br>ed these fan creations back into the game, such as an emote for D.Va, <br>based on the Gremlin meme.[188] At the 2017 D.I.C.E. Summit in Februar<br>y 2017, Kaplan said that much of Overwatch's narrative is now being bo<br>rne out of the game's fans, adding \"We love it, that it belongs to the<br>m...We're just the custodians of the universe.\"[19] Kaplan recognizes <br>that he himself is seen as an Overwatch character within the fan commu<br>nity, and following similar steps that Hearthstone's lead designer Ben<br> Brode has done, has continued to engage with the fan community.[189]<br>",
          "Pornographic fan art of the game is popular, with Pornhub searches of <br>Overwatch characters partaking in sexual activities spiking by 817% sh<br>ortly after the release of the open beta.[190] A large amount of such <br>pornographic fan works are created with Valve's Source Filmmaker tool <br>and make use of the game's assets, which were ripped from the game dur<br>ing its closed beta and consequently spread over the internet.[191] Bl<br>izzard made efforts to remove the works.[179] Kaplan stated that while<br> the studio does not want to infringe on anyone's freedom of expressio<br>n, Blizzard is mindful that many players are not adults and would hope<br> the community would try to keep such imagery away from them.[102] Fra<br>nchise Related media and merchandise<br>",
          "Franchise Related media and merchandise See also: Overwatch animated m<br>edia and Overwatch (digital comic series)<br>",
          "of winning or losing a match, players gained experience towards a play<br>er level, and on gaining a new level, received loot boxes that contain<br> cosmetic items that they can use to customize the appearance of the h<br>ero characters but otherwise does not affect gameplay. Loot boxes coul<br>d also be purchased through microtransactions.[7]<br>",
          "Blizzard opted to tell the story of Overwatch across various mediums, <br>rather than include a story mode; Chu stated, \"One of the things that'<br>s really great is we're able to leverage the strengths of these differ<br>ent mediums to tell different parts of the story,\" citing Soldier: 76'<br>s appearances in fake news reports, an animated video narrated from hi<br>s perspective, as well as the Hero short.[192]  In March 2016, Blizzar<br>d announced that they would be releasing comics and animated shorts ba<br>sed on Overwatch in 2016. The related media included plans for a since<br>-cancelled graphic novel called Overwatch: First Strike, which would h<br>ave focused on the story of several in-game characters, including Sold<br>ier: 76, TorbjÃ¶rn, Reaper, and Reinhardt.[193]<br>",
          "Blizzard began releasing the series of animated shorts in March 2016; <br>the shorts maintained the style of the game's cinematic trailer, which<br> centered on a battle in which Tracer and Winston fought Reaper and Wi<br>dowmaker in the Overwatch Museum.[25] A collection of these cinematic <br>sequences played in movie theaters across the United States as part of<br> the game's launch event.[194] The first episode of the animated short<br> series, Recall, was released on March 23. It centers on Winston and R<br>eaper, and features flashbacks to Winston's childhood.[195]<br>",
          "Blizzard published three digital comic series during Overwatch's 2016â<br>€“2022 run: Overwatch, Tracer - London Calling, and New Blood. These c<br>omics were also printed on hard cover through Dark Horse Comics. Furth<br>er Overwatch literature including an art book, cook book, short storie<br>s, and novelizations were also published.[196][197][198][199][200]  Ov<br>erwatch characters and elements have been brought over to the crossove<br>r MOBA game Heroes of the Storm.[201]  Various toy and figurine manufa<br>cturers produced merchandise lines featuring Overwatch characters. The<br>se manufacturers included Funko, Good Smile Company, Nerf and its pare<br>nt company Hasbro, as well as The Lego Group.[d] Esports See also: Ove<br>rwatch League<br>",
          "Overwatch was not developed with any dedication towards esports, focus<br>ing on \"building a great competitive game\" first and foremost, accordi<br>ng to Morhaime, though they recognized that the game had potential as <br>an esports game through internal testing.[210] Kaplan stated that whil<br>e esports was not a design goal, they included and planned for feature<br>s for the game to support the competitive community.[211] This include<br>d the introduction of the game's competitive mode some months after th<br>e game's launch after seeing how players took towards Overwatch; Blizz<br>ard saw the ladder-approach they used as a means for skilled players t<br>o reach high ranks as to be noticed by esport team organizers.[210] Da<br>n Szymborski writing for ESPN stated that Overwatch was poised as the <br>next big esport for having a<br>",
          "a means for skilled players to reach high ranks as to be noticed by es<br>port team organizers.[210] Dan Szymborski writing for ESPN stated that<br> Overwatch was poised as the next big esport for having a sufficiently<br> different look and playstyle from established esports games like Coun<br>ter-Strike: Global Offensive and Call of Duty, enough variety in maps <br>and characters, and strong support from Blizzard to maintain the game <br>for a long time.[212] Bryant Francis writing for Gamasutra noted the s<br>peed and short match times of Overwatch make the game highly favorable<br> for viewership, further supporting the game as an esports title.[213]<br>",
          "Just before the game's release, PC Gamer writer Stefan Dorresteijn con<br>tacted professional esports players and hosts for their opinions. Long<br>time esports host Paul Chaloner stated that \"[Overwatch] needs a much <br>better spectator system,\" going on to elaborate, \"Right now, it's incr<br>edibly difficult for commentators and viewers to see the skills of the<br> players: who used their ultimates and how did they interact? Who is o<br>n cooldown and who has changed hero?\"[214] Fellow esports player Seb B<br>arton and Michael Rosen criticized the game's map designs and game mod<br>es; Barton remarked that \"the game modes are a little hit and miss,\" a<br>dding that \"King of the hill [Control] is super exciting and fast-pace<br>d but then you have the payload [Escort] maps, which are just a snooze<br>fest for everyone<br>",
          "game modes are a little hit and miss,\" adding that \"King of the hill [<br>Control] is super exciting and fast-paced but then you have the payloa<br>d [Escort] maps, which are just a snoozefest for everyone involved.\"[2<br>14] Rosen expressed a need for tweaking to the maps used for the contr<br>ol game mode, as they are \"just too prone to the snowball effect. The <br>moment the attacking team captures the first control point they don't <br>just have the momentum but also the last advantage for the second and <br>final capture point.\"[214]<br>",
          "The first organized, prize-winning competitions for Overwatch started <br>in mid-2016, a few months after launch.[215][216][217] In November 201<br>6, Blizzard hosted their own Overwatch World Cup, allowing users to vo<br>te for teams to represent their nation or region, with finals taking p<br>lace during their BlizzCon event.[218] Overwatch grew increasingly in <br>South Korea since it was released. It topped gaming cafes in Korea in <br>terms of player count, surpassing that of League of Legends.[219]<br>",
          "At the 2016 BlizzCon, Blizzard announced their plans for their Overwat<br>ch League, using an organization of permanent teams in league placemen<br>ts similar to more traditional North American professional sports leag<br>ues,[220] rather than the use of promotion and relegation used in a se<br>ries like League of Legends Championship Series.[221] The OWL would be<br>ing preseason play in December 2017, with its first season taking plac<br>e in 2018.[222] Sequel Main article: Overwatch 2  Overwatch 2, a stand<br>alone sequel, was announced at BlizzCon on November 1, 2019, and was r<br>eleased on October 4, 2022, as a free-to-play game for Nintendo Switch<br>, PlayStation 4, PlayStation 5, Windows, Xbox One, and Xbox Series X a<br>nd S.[223][224]<br>",
          "Originally, it was planned for Overwatch and Overwatch 2 to have a \"sh<br>ared multiplayer environment\" between it and the original Overwatch, s<br>o that the players in either game could compete together in the existi<br>ng player versus player (PvP) modes, retaining all unlocked cosmetics <br>and other features,[225] but with the transition to free-to-play, Over<br>watch's servers were shut down on October 3, 2022, in favor of the seq<br>uel, and all players were transitioned to Overwatch 2.[3]  A significa<br>nt departure was moving to a five-versus-five PvP mode, with a restric<br>tion of only allowing one tank in play on a team as to help improve th<br>e perceived speed of gameplay.[226] To this end, many heroes had their<br> skill kit reworked, or in some cases, were reclassified into a new he<br>ro class.[227][228]<br>",
          "Plot See also: Characters of Overwatch<br>",
          "Another change in the transition to free to play was the elimination o<br>f loot boxes in favor of a season pass. As part of the transition, Bli<br>zzard ended purchases of loot boxes on August 30, 2022 (though players<br> were still able to earn these as drops in-game), and any unopened loo<br>t boxes in a player's inventory on Overwatch 2's release were automati<br>cally opened and contents credited to the player.<br>",
          "The backstory to Overwatch is described through animated shorts and ot<br>her information distributed by Blizzard in promoting the game.[8][9][1<br>0]<br>"
         ],
         "marker": {
          "color": [
           6.502294063568115,
           6.099572658538818,
           5.90028715133667,
           5.927521705627441,
           5.576505184173584,
           5.789335250854492,
           6.511523246765137,
           6.319681167602539,
           5.322714805603027,
           6.236551284790039,
           6.213837146759033,
           5.817564487457275,
           5.653846263885498,
           6.66984224319458,
           6.072463512420654,
           6.3985772132873535,
           5.2816057205200195,
           6.662660121917725,
           6.864609718322754,
           6.6251726150512695,
           6.872848033905029,
           6.578359127044678,
           1.7180328369140625,
           6.578705787658691,
           6.623810768127441,
           5.494792938232422,
           4.916595935821533,
           5.0121660232543945,
           4.878066539764404,
           4.7032904624938965,
           3.5810751914978027,
           4.6485915184021,
           4.510160446166992,
           5.876173973083496,
           5.7122697830200195,
           6.367862701416016,
           5.869926452636719,
           5.062503814697266,
           4.7501068115234375,
           3.239947557449341,
           3.3482656478881836,
           4.0206170082092285,
           3.647000312805176,
           6.1748433113098145,
           6.24644660949707,
           5.438868045806885,
           5.640092372894287,
           4.185808181762695,
           3.5908780097961426,
           3.915721893310547,
           5.141827583312988,
           5.133421897888184,
           2.5097849369049072,
           2.5590381622314453,
           2.214284896850586,
           1.7170037031173706,
           4.900317668914795,
           2.3649613857269287,
           1.4419617652893066,
           1.939300298690796,
           1.6103355884552002,
           2.042165517807007,
           4.23765230178833,
           4.400732040405273,
           3.6677331924438477,
           4.102659702301025,
           5.0802459716796875,
           5.003419876098633,
           5.020023345947266,
           5.504047870635986,
           5.455944538116455,
           5.1150431632995605,
           5.130934238433838,
           3.899118185043335,
           4.064213752746582,
           4.689804553985596,
           6.765212535858154,
           6.087088584899902,
           5.411163330078125,
           6.4386115074157715,
           5.210029602050781
          ],
          "size": 10
         },
         "mode": "markers",
         "name": "Dataset Embeddings",
         "type": "scatter3d",
         "x": [
          19.914188385009766,
          20.971721649169922,
          22.52859878540039,
          22.830251693725586,
          22.51457977294922,
          22.195133209228516,
          22.11458969116211,
          22.539018630981445,
          21.596261978149414,
          20.82391357421875,
          20.507097244262695,
          21.635475158691406,
          19.451759338378906,
          21.058013916015625,
          20.493913650512695,
          20.089130401611328,
          19.456769943237305,
          19.343029022216797,
          19.846595764160156,
          19.942569732666016,
          20.43044662475586,
          20.470760345458984,
          18.06776237487793,
          20.91800880432129,
          19.26409912109375,
          20.75056266784668,
          21.174001693725586,
          21.100048065185547,
          21.070127487182617,
          21.526870727539062,
          21.39691734313965,
          21.010807037353516,
          20.53609275817871,
          19.187105178833008,
          21.15238380432129,
          18.983476638793945,
          18.71137809753418,
          18.79487419128418,
          21.58575439453125,
          21.010786056518555,
          20.694547653198242,
          21.4925537109375,
          20.33516502380371,
          19.540170669555664,
          19.643386840820312,
          21.588979721069336,
          20.894132614135742,
          21.233884811401367,
          21.089996337890625,
          21.532939910888672,
          19.13519287109375,
          19.123655319213867,
          17.51898765563965,
          17.680248260498047,
          18.171817779541016,
          17.42975425720215,
          20.47353172302246,
          17.392297744750977,
          17.588748931884766,
          17.557126998901367,
          17.14861488342285,
          17.117807388305664,
          20.99862289428711,
          20.81211280822754,
          20.818782806396484,
          20.022348403930664,
          20.43221664428711,
          19.701204299926758,
          20.850467681884766,
          20.387887954711914,
          19.935972213745117,
          20.41878890991211,
          20.372949600219727,
          20.933361053466797,
          21.388792037963867,
          19.658571243286133,
          20.522388458251953,
          21.163711547851562,
          21.175582885742188,
          19.3328857421875,
          21.12899398803711
         ],
         "y": [
          7.516150951385498,
          8.107368469238281,
          8.073975563049316,
          8.001619338989258,
          7.929512977600098,
          8.143692970275879,
          8.714451789855957,
          9.080286979675293,
          7.894974708557129,
          8.21939754486084,
          8.515009880065918,
          8.445441246032715,
          7.527377605438232,
          7.834082126617432,
          8.345093727111816,
          7.48762845993042,
          8.597606658935547,
          7.65147590637207,
          6.958414077758789,
          6.276698589324951,
          7.108525276184082,
          5.84739351272583,
          7.397829532623291,
          7.859539985656738,
          7.521474838256836,
          8.157002449035645,
          7.8387908935546875,
          7.934024333953857,
          8.34365463256836,
          7.707874774932861,
          7.55585241317749,
          7.347409725189209,
          7.197684288024902,
          8.251073837280273,
          7.3217973709106445,
          7.495344638824463,
          7.27394962310791,
          7.618373870849609,
          9.039831161499023,
          8.409910202026367,
          8.770044326782227,
          8.974273681640625,
          9.232991218566895,
          5.9890265464782715,
          6.220995903015137,
          7.633286952972412,
          5.839054584503174,
          6.423681735992432,
          6.723556041717529,
          6.780309677124023,
          6.66141939163208,
          6.802889347076416,
          7.2085490226745605,
          7.216845512390137,
          7.7032318115234375,
          7.922560214996338,
          6.428930282592773,
          6.773964881896973,
          7.628789901733398,
          6.588613510131836,
          7.046191215515137,
          7.118338584899902,
          8.893633842468262,
          9.290968894958496,
          8.449000358581543,
          9.191576957702637,
          9.402947425842285,
          6.465872287750244,
          9.503206253051758,
          9.145797729492188,
          9.074403762817383,
          6.871402263641357,
          7.370967864990234,
          7.329238414764404,
          7.080495357513428,
          7.1623992919921875,
          7.534454345703125,
          7.264595031738281,
          9.251357078552246,
          7.042461395263672,
          9.231738090515137
         ],
         "z": [
          6.579244613647461,
          6.989688873291016,
          5.750985622406006,
          5.256619453430176,
          5.084527015686035,
          4.334775447845459,
          5.310565948486328,
          4.918999671936035,
          4.809876918792725,
          6.380943298339844,
          6.546692371368408,
          6.43233060836792,
          4.315088748931885,
          6.040955543518066,
          4.7255635261535645,
          4.862271785736084,
          5.478584289550781,
          5.687039375305176,
          5.566109657287598,
          5.718748569488525,
          6.035560131072998,
          5.900488376617432,
          4.067483901977539,
          5.870582580566406,
          4.887378692626953,
          7.433379173278809,
          7.617499828338623,
          7.673124313354492,
          7.567559242248535,
          7.491035461425781,
          6.323592185974121,
          7.611236095428467,
          7.316811561584473,
          4.788879871368408,
          7.132562160491943,
          5.058954238891602,
          4.758840560913086,
          5.160706043243408,
          6.416030406951904,
          6.204381465911865,
          6.126190662384033,
          6.044848442077637,
          6.4105224609375,
          5.197290420532227,
          5.53378438949585,
          7.235945224761963,
          5.896266937255859,
          6.509385585784912,
          5.782069683074951,
          6.3932366371154785,
          5.559538841247559,
          5.470859050750732,
          3.1062586307525635,
          3.239746570587158,
          3.572495222091675,
          3.441149950027466,
          6.666861057281494,
          3.6286780834198,
          3.0699503421783447,
          3.037386894226074,
          3.685389280319214,
          3.5083394050598145,
          7.303321838378906,
          6.751673698425293,
          7.134932518005371,
          6.880683898925781,
          6.565013408660889,
          6.314719200134277,
          5.9561991691589355,
          5.2625579833984375,
          6.042813301086426,
          7.14085054397583,
          7.367464065551758,
          7.4954047203063965,
          7.2555389404296875,
          4.86298942565918,
          5.550962448120117,
          6.6916823387146,
          6.635025501251221,
          5.696566104888916,
          5.542487144470215
         ]
        },
        {
         "hoverinfo": "text",
         "hovertext": "What is overwatch 2?",
         "marker": {
          "color": "red",
          "size": 10,
          "symbol": "x"
         },
         "mode": "markers",
         "name": "Query Embedding",
         "type": "scatter3d",
         "x": [
          20.601318359375
         ],
         "y": [
          8.067634582519531
         ],
         "z": [
          7.109138488769531
         ]
        },
        {
         "hoverinfo": "text",
         "hovertext": [
          "A sequel, Overwatch 2, was announced in 2019 and entered beta in 2022.<br> The game is free to play, with all cosmetic items from Overwatch carr<br>ied over while introducing new heroes, maps, and gamemodes. On October<br> 3, 2022, the Overwatch servers were shut down in preparation for the <br>release of Overwatch 2 the next day. Gameplay Main article: Gameplay o<br>f Overwatch A screenshot from Overwatch while in-match. The player (pl<br>aying Tracer) and their allies are indicated in blue, while the opposi<br>ng team is in red. The character's health bar is shown on the bottom l<br>eft, their primary skills and attacks are shown on the bottom right, a<br>nd their progress towards their ultimate ability is shown in the botto<br>m center.<br>",
          "thoughts, writing \"When playing Overwatch, the player is absorbed by i<br>ts radiating positivity. It's a world filled with lively color and ene<br>rgetic, playful competition, much like Nintendo's creative kid-friendl<br>y ink-shooter Splatoon.\"[74] Mike Minotti of VentureBeat commending th<br>e team-based gameplay, the game's diverse character roster, and colorf<br>ul settings, as well as the unlockable cosmetics earned through level <br>progression and the smooth server connection.[75] Referencing its simi<br>larities to Team Fortress 2, Minotti confirmed that \"[Overwatch has] d<br>istinct classes, the team- and objective-based combat, and a bright, c<br>artoon-like art style,\" and that \"Overwatch certainly takes plenty of <br>inspiration from Valve online shooter series,\" but opines that \"[Overw<br>atch is] just better.\"[75]<br>",
          "Overwatch (retroactively referred to as Overwatch 1[b]) was a 2016 tea<br>m-based multiplayer first-person shooter game by Blizzard Entertainmen<br>t. The game was first released for PlayStation 4, Windows, and Xbox On<br>e in May 2016 and Nintendo Switch in October 2019. Cross-platform play<br> was supported across all platforms.  Described as a \"hero shooter\", O<br>verwatch assigned players into two teams of six, with each player sele<br>cting from a large roster of characters, known as \"heroes\", with uniqu<br>e abilities. Teams worked to complete map-specific objectives within a<br> limited period of time. Blizzard added new characters, maps, and game<br> modes post-release, all free of charge, with the only additional cost<br> to players being optional loot boxes to purchase cosmetic items.<br>"
         ],
         "marker": {
          "color": "green",
          "size": 15,
          "symbol": "circle"
         },
         "mode": "markers",
         "name": "Retrieved Embeddings",
         "type": "scatter3d",
         "x": [
          20.74060821533203,
          21.199251174926758,
          19.99716567993164
         ],
         "y": [
          7.917689800262451,
          8.008487701416016,
          7.56085729598999
         ],
         "z": [
          5.804855823516846,
          7.551645755767822,
          6.615052700042725
         ]
        }
       ],
       "layout": {
        "template": {
         "data": {
          "bar": [
           {
            "error_x": {
             "color": "#2a3f5f"
            },
            "error_y": {
             "color": "#2a3f5f"
            },
            "marker": {
             "line": {
              "color": "#E5ECF6",
              "width": 0.5
             },
             "pattern": {
              "fillmode": "overlay",
              "size": 10,
              "solidity": 0.2
             }
            },
            "type": "bar"
           }
          ],
          "barpolar": [
           {
            "marker": {
             "line": {
              "color": "#E5ECF6",
              "width": 0.5
             },
             "pattern": {
              "fillmode": "overlay",
              "size": 10,
              "solidity": 0.2
             }
            },
            "type": "barpolar"
           }
          ],
          "carpet": [
           {
            "aaxis": {
             "endlinecolor": "#2a3f5f",
             "gridcolor": "white",
             "linecolor": "white",
             "minorgridcolor": "white",
             "startlinecolor": "#2a3f5f"
            },
            "baxis": {
             "endlinecolor": "#2a3f5f",
             "gridcolor": "white",
             "linecolor": "white",
             "minorgridcolor": "white",
             "startlinecolor": "#2a3f5f"
            },
            "type": "carpet"
           }
          ],
          "choropleth": [
           {
            "colorbar": {
             "outlinewidth": 0,
             "ticks": ""
            },
            "type": "choropleth"
           }
          ],
          "contour": [
           {
            "colorbar": {
             "outlinewidth": 0,
             "ticks": ""
            },
            "colorscale": [
             [
              0,
              "#0d0887"
             ],
             [
              0.1111111111111111,
              "#46039f"
             ],
             [
              0.2222222222222222,
              "#7201a8"
             ],
             [
              0.3333333333333333,
              "#9c179e"
             ],
             [
              0.4444444444444444,
              "#bd3786"
             ],
             [
              0.5555555555555556,
              "#d8576b"
             ],
             [
              0.6666666666666666,
              "#ed7953"
             ],
             [
              0.7777777777777778,
              "#fb9f3a"
             ],
             [
              0.8888888888888888,
              "#fdca26"
             ],
             [
              1,
              "#f0f921"
             ]
            ],
            "type": "contour"
           }
          ],
          "contourcarpet": [
           {
            "colorbar": {
             "outlinewidth": 0,
             "ticks": ""
            },
            "type": "contourcarpet"
           }
          ],
          "heatmap": [
           {
            "colorbar": {
             "outlinewidth": 0,
             "ticks": ""
            },
            "colorscale": [
             [
              0,
              "#0d0887"
             ],
             [
              0.1111111111111111,
              "#46039f"
             ],
             [
              0.2222222222222222,
              "#7201a8"
             ],
             [
              0.3333333333333333,
              "#9c179e"
             ],
             [
              0.4444444444444444,
              "#bd3786"
             ],
             [
              0.5555555555555556,
              "#d8576b"
             ],
             [
              0.6666666666666666,
              "#ed7953"
             ],
             [
              0.7777777777777778,
              "#fb9f3a"
             ],
             [
              0.8888888888888888,
              "#fdca26"
             ],
             [
              1,
              "#f0f921"
             ]
            ],
            "type": "heatmap"
           }
          ],
          "heatmapgl": [
           {
            "colorbar": {
             "outlinewidth": 0,
             "ticks": ""
            },
            "colorscale": [
             [
              0,
              "#0d0887"
             ],
             [
              0.1111111111111111,
              "#46039f"
             ],
             [
              0.2222222222222222,
              "#7201a8"
             ],
             [
              0.3333333333333333,
              "#9c179e"
             ],
             [
              0.4444444444444444,
              "#bd3786"
             ],
             [
              0.5555555555555556,
              "#d8576b"
             ],
             [
              0.6666666666666666,
              "#ed7953"
             ],
             [
              0.7777777777777778,
              "#fb9f3a"
             ],
             [
              0.8888888888888888,
              "#fdca26"
             ],
             [
              1,
              "#f0f921"
             ]
            ],
            "type": "heatmapgl"
           }
          ],
          "histogram": [
           {
            "marker": {
             "pattern": {
              "fillmode": "overlay",
              "size": 10,
              "solidity": 0.2
             }
            },
            "type": "histogram"
           }
          ],
          "histogram2d": [
           {
            "colorbar": {
             "outlinewidth": 0,
             "ticks": ""
            },
            "colorscale": [
             [
              0,
              "#0d0887"
             ],
             [
              0.1111111111111111,
              "#46039f"
             ],
             [
              0.2222222222222222,
              "#7201a8"
             ],
             [
              0.3333333333333333,
              "#9c179e"
             ],
             [
              0.4444444444444444,
              "#bd3786"
             ],
             [
              0.5555555555555556,
              "#d8576b"
             ],
             [
              0.6666666666666666,
              "#ed7953"
             ],
             [
              0.7777777777777778,
              "#fb9f3a"
             ],
             [
              0.8888888888888888,
              "#fdca26"
             ],
             [
              1,
              "#f0f921"
             ]
            ],
            "type": "histogram2d"
           }
          ],
          "histogram2dcontour": [
           {
            "colorbar": {
             "outlinewidth": 0,
             "ticks": ""
            },
            "colorscale": [
             [
              0,
              "#0d0887"
             ],
             [
              0.1111111111111111,
              "#46039f"
             ],
             [
              0.2222222222222222,
              "#7201a8"
             ],
             [
              0.3333333333333333,
              "#9c179e"
             ],
             [
              0.4444444444444444,
              "#bd3786"
             ],
             [
              0.5555555555555556,
              "#d8576b"
             ],
             [
              0.6666666666666666,
              "#ed7953"
             ],
             [
              0.7777777777777778,
              "#fb9f3a"
             ],
             [
              0.8888888888888888,
              "#fdca26"
             ],
             [
              1,
              "#f0f921"
             ]
            ],
            "type": "histogram2dcontour"
           }
          ],
          "mesh3d": [
           {
            "colorbar": {
             "outlinewidth": 0,
             "ticks": ""
            },
            "type": "mesh3d"
           }
          ],
          "parcoords": [
           {
            "line": {
             "colorbar": {
              "outlinewidth": 0,
              "ticks": ""
             }
            },
            "type": "parcoords"
           }
          ],
          "pie": [
           {
            "automargin": true,
            "type": "pie"
           }
          ],
          "scatter": [
           {
            "fillpattern": {
             "fillmode": "overlay",
             "size": 10,
             "solidity": 0.2
            },
            "type": "scatter"
           }
          ],
          "scatter3d": [
           {
            "line": {
             "colorbar": {
              "outlinewidth": 0,
              "ticks": ""
             }
            },
            "marker": {
             "colorbar": {
              "outlinewidth": 0,
              "ticks": ""
             }
            },
            "type": "scatter3d"
           }
          ],
          "scattercarpet": [
           {
            "marker": {
             "colorbar": {
              "outlinewidth": 0,
              "ticks": ""
             }
            },
            "type": "scattercarpet"
           }
          ],
          "scattergeo": [
           {
            "marker": {
             "colorbar": {
              "outlinewidth": 0,
              "ticks": ""
             }
            },
            "type": "scattergeo"
           }
          ],
          "scattergl": [
           {
            "marker": {
             "colorbar": {
              "outlinewidth": 0,
              "ticks": ""
             }
            },
            "type": "scattergl"
           }
          ],
          "scattermapbox": [
           {
            "marker": {
             "colorbar": {
              "outlinewidth": 0,
              "ticks": ""
             }
            },
            "type": "scattermapbox"
           }
          ],
          "scatterpolar": [
           {
            "marker": {
             "colorbar": {
              "outlinewidth": 0,
              "ticks": ""
             }
            },
            "type": "scatterpolar"
           }
          ],
          "scatterpolargl": [
           {
            "marker": {
             "colorbar": {
              "outlinewidth": 0,
              "ticks": ""
             }
            },
            "type": "scatterpolargl"
           }
          ],
          "scatterternary": [
           {
            "marker": {
             "colorbar": {
              "outlinewidth": 0,
              "ticks": ""
             }
            },
            "type": "scatterternary"
           }
          ],
          "surface": [
           {
            "colorbar": {
             "outlinewidth": 0,
             "ticks": ""
            },
            "colorscale": [
             [
              0,
              "#0d0887"
             ],
             [
              0.1111111111111111,
              "#46039f"
             ],
             [
              0.2222222222222222,
              "#7201a8"
             ],
             [
              0.3333333333333333,
              "#9c179e"
             ],
             [
              0.4444444444444444,
              "#bd3786"
             ],
             [
              0.5555555555555556,
              "#d8576b"
             ],
             [
              0.6666666666666666,
              "#ed7953"
             ],
             [
              0.7777777777777778,
              "#fb9f3a"
             ],
             [
              0.8888888888888888,
              "#fdca26"
             ],
             [
              1,
              "#f0f921"
             ]
            ],
            "type": "surface"
           }
          ],
          "table": [
           {
            "cells": {
             "fill": {
              "color": "#EBF0F8"
             },
             "line": {
              "color": "white"
             }
            },
            "header": {
             "fill": {
              "color": "#C8D4E3"
             },
             "line": {
              "color": "white"
             }
            },
            "type": "table"
           }
          ]
         },
         "layout": {
          "annotationdefaults": {
           "arrowcolor": "#2a3f5f",
           "arrowhead": 0,
           "arrowwidth": 1
          },
          "autotypenumbers": "strict",
          "coloraxis": {
           "colorbar": {
            "outlinewidth": 0,
            "ticks": ""
           }
          },
          "colorscale": {
           "diverging": [
            [
             0,
             "#8e0152"
            ],
            [
             0.1,
             "#c51b7d"
            ],
            [
             0.2,
             "#de77ae"
            ],
            [
             0.3,
             "#f1b6da"
            ],
            [
             0.4,
             "#fde0ef"
            ],
            [
             0.5,
             "#f7f7f7"
            ],
            [
             0.6,
             "#e6f5d0"
            ],
            [
             0.7,
             "#b8e186"
            ],
            [
             0.8,
             "#7fbc41"
            ],
            [
             0.9,
             "#4d9221"
            ],
            [
             1,
             "#276419"
            ]
           ],
           "sequential": [
            [
             0,
             "#0d0887"
            ],
            [
             0.1111111111111111,
             "#46039f"
            ],
            [
             0.2222222222222222,
             "#7201a8"
            ],
            [
             0.3333333333333333,
             "#9c179e"
            ],
            [
             0.4444444444444444,
             "#bd3786"
            ],
            [
             0.5555555555555556,
             "#d8576b"
            ],
            [
             0.6666666666666666,
             "#ed7953"
            ],
            [
             0.7777777777777778,
             "#fb9f3a"
            ],
            [
             0.8888888888888888,
             "#fdca26"
            ],
            [
             1,
             "#f0f921"
            ]
           ],
           "sequentialminus": [
            [
             0,
             "#0d0887"
            ],
            [
             0.1111111111111111,
             "#46039f"
            ],
            [
             0.2222222222222222,
             "#7201a8"
            ],
            [
             0.3333333333333333,
             "#9c179e"
            ],
            [
             0.4444444444444444,
             "#bd3786"
            ],
            [
             0.5555555555555556,
             "#d8576b"
            ],
            [
             0.6666666666666666,
             "#ed7953"
            ],
            [
             0.7777777777777778,
             "#fb9f3a"
            ],
            [
             0.8888888888888888,
             "#fdca26"
            ],
            [
             1,
             "#f0f921"
            ]
           ]
          },
          "colorway": [
           "#636efa",
           "#EF553B",
           "#00cc96",
           "#ab63fa",
           "#FFA15A",
           "#19d3f3",
           "#FF6692",
           "#B6E880",
           "#FF97FF",
           "#FECB52"
          ],
          "font": {
           "color": "#2a3f5f"
          },
          "geo": {
           "bgcolor": "white",
           "lakecolor": "white",
           "landcolor": "#E5ECF6",
           "showlakes": true,
           "showland": true,
           "subunitcolor": "white"
          },
          "hoverlabel": {
           "align": "left"
          },
          "hovermode": "closest",
          "mapbox": {
           "style": "light"
          },
          "paper_bgcolor": "white",
          "plot_bgcolor": "#E5ECF6",
          "polar": {
           "angularaxis": {
            "gridcolor": "white",
            "linecolor": "white",
            "ticks": ""
           },
           "bgcolor": "#E5ECF6",
           "radialaxis": {
            "gridcolor": "white",
            "linecolor": "white",
            "ticks": ""
           }
          },
          "scene": {
           "xaxis": {
            "backgroundcolor": "#E5ECF6",
            "gridcolor": "white",
            "gridwidth": 2,
            "linecolor": "white",
            "showbackground": true,
            "ticks": "",
            "zerolinecolor": "white"
           },
           "yaxis": {
            "backgroundcolor": "#E5ECF6",
            "gridcolor": "white",
            "gridwidth": 2,
            "linecolor": "white",
            "showbackground": true,
            "ticks": "",
            "zerolinecolor": "white"
           },
           "zaxis": {
            "backgroundcolor": "#E5ECF6",
            "gridcolor": "white",
            "gridwidth": 2,
            "linecolor": "white",
            "showbackground": true,
            "ticks": "",
            "zerolinecolor": "white"
           }
          },
          "shapedefaults": {
           "line": {
            "color": "#2a3f5f"
           }
          },
          "ternary": {
           "aaxis": {
            "gridcolor": "white",
            "linecolor": "white",
            "ticks": ""
           },
           "baxis": {
            "gridcolor": "white",
            "linecolor": "white",
            "ticks": ""
           },
           "bgcolor": "#E5ECF6",
           "caxis": {
            "gridcolor": "white",
            "linecolor": "white",
            "ticks": ""
           }
          },
          "title": {
           "x": 0.05
          },
          "xaxis": {
           "automargin": true,
           "gridcolor": "white",
           "linecolor": "white",
           "ticks": "",
           "title": {
            "standoff": 15
           },
           "zerolinecolor": "white",
           "zerolinewidth": 2
          },
          "yaxis": {
           "automargin": true,
           "gridcolor": "white",
           "linecolor": "white",
           "ticks": "",
           "title": {
            "standoff": 15
           },
           "zerolinecolor": "white",
           "zerolinewidth": 2
          }
         }
        },
        "title": {
         "text": "What is overwatch 2?"
        },
        "xaxis": {
         "visible": false
        },
        "yaxis": {
         "visible": false
        }
       }
      }
     },
     "metadata": {},
     "output_type": "display_data"
    }
   ],
   "source": [
    "import plotly.graph_objects as go\n",
    "\n",
    "# Scatter plot for database embeddings\n",
    "scatter_dataset = go.Scatter3d(\n",
    "    x=projected_dataset_embeddings[:, 0],\n",
    "    y=projected_dataset_embeddings[:, 1],\n",
    "    z=projected_dataset_embeddings[:, 2],\n",
    "    mode='markers',\n",
    "    marker=dict(size=10, color=projected_dataset_embeddings[:, 3]),\n",
    "    name='Dataset Embeddings',\n",
    "    hovertext=db_documents,\n",
    "    hoverinfo='text',\n",
    "    hoverlabel = dict(font=dict(color='white'))\n",
    ")\n",
    "\n",
    "# Scatter plot for query embedding\n",
    "scatter_query = go.Scatter3d(\n",
    "    x=[projected_query_embedding[0, 0]],\n",
    "    y=[projected_query_embedding[0, 1]],\n",
    "    z=[projected_query_embedding[0, 2]],\n",
    "    mode='markers',\n",
    "    marker={\"size\":10, \"color\":'red', \"symbol\":'x'},\n",
    "    name='Query Embedding',\n",
    "    hovertext=query,\n",
    "    hoverinfo='text'\n",
    ")\n",
    "\n",
    "# Scatter plot for retrieved embeddings\n",
    "scatter_retrieved = go.Scatter3d(\n",
    "    x=projected_retrieved_embeddings[:, 0],\n",
    "    y=projected_retrieved_embeddings[:, 1],\n",
    "    z=projected_retrieved_embeddings[:, 2],\n",
    "    mode='markers',\n",
    "    marker=dict(size=15, color=\"green\", symbol='circle'),\n",
    "    name='Retrieved Embeddings',\n",
    "    hovertext=retrieved_documents,\n",
    "    hoverinfo='text'\n",
    ")\n",
    "\n",
    "# Define layout\n",
    "layout = go.Layout(\n",
    "    title=query,\n",
    "    xaxis=dict(visible=False),\n",
    "    yaxis=dict(visible=False)\n",
    ")\n",
    "\n",
    "# Create figure\n",
    "fig = go.Figure(data=[scatter_dataset, scatter_query, scatter_retrieved], layout=layout)\n",
    "\n",
    "# Display plot\n",
    "fig.show()"
   ]
  },
  {
   "cell_type": "code",
   "execution_count": null,
   "metadata": {},
   "outputs": [],
   "source": [
    "fig.write_html(\"ow.html\")"
   ]
  },
  {
   "cell_type": "code",
   "execution_count": null,
   "metadata": {},
   "outputs": [],
   "source": []
  }
 ],
 "metadata": {
  "kernelspec": {
   "display_name": "Python 3",
   "language": "python",
   "name": "python3"
  },
  "language_info": {
   "codemirror_mode": {
    "name": "ipython",
    "version": 3
   },
   "file_extension": ".py",
   "mimetype": "text/x-python",
   "name": "python",
   "nbconvert_exporter": "python",
   "pygments_lexer": "ipython3",
   "version": "3.11.7"
  }
 },
 "nbformat": 4,
 "nbformat_minor": 2
}
